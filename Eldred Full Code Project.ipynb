{
 "cells": [
  {
   "cell_type": "markdown",
   "metadata": {
    "id": "p2r5o8SR4rqH"
   },
   "source": [
    "# Supervised Learning - Foundations Project: ReCell "
   ]
  },
  {
   "cell_type": "markdown",
   "metadata": {
    "id": "3SntBY974rqJ"
   },
   "source": [
    "## Problem Statement"
   ]
  },
  {
   "cell_type": "markdown",
   "metadata": {
    "id": "RA_GXJwuhmVz"
   },
   "source": [
    "### Business Context\n",
    "\n",
    "Buying and selling used phones and tablets used to be something that happened on a handful of online marketplace sites. But the used and refurbished device market has grown considerably over the past decade, and a new IDC (International Data Corporation) forecast predicts that the used phone market would be worth \\\\$52.7bn by 2023 with a compound annual growth rate (CAGR) of 13.6% from 2018 to 2023. This growth can be attributed to an uptick in demand for used phones and tablets that offer considerable savings compared with new models.\n",
    "\n",
    "Refurbished and used devices continue to provide cost-effective alternatives to both consumers and businesses that are looking to save money when purchasing one. There are plenty of other benefits associated with the used device market. Used and refurbished devices can be sold with warranties and can also be insured with proof of purchase. Third-party vendors/platforms, such as Verizon, Amazon, etc., provide attractive offers to customers for refurbished devices. Maximizing the longevity of devices through second-hand trade also reduces their environmental impact and helps in recycling and reducing waste. The impact of the COVID-19 outbreak may further boost this segment as consumers cut back on discretionary spending and buy phones and tablets only for immediate needs.\n",
    "\n",
    " \n",
    "### Objective\n",
    "\n",
    "The rising potential of this comparatively under-the-radar market fuels the need for an ML-based solution to develop a dynamic pricing strategy for used and refurbished devices. ReCell, a startup aiming to tap the potential in this market, has hired you as a data scientist. They want you to analyze the data provided and build a linear regression model to predict the price of a used phone/tablet and identify factors that significantly influence it.\n",
    "\n",
    " \n",
    "### Data Description\n",
    "\n",
    "The data contains the different attributes of used/refurbished phones and tablets. The data was collected in the year 2021. The detailed data dictionary is given below.\n",
    "\n",
    "\n",
    "- brand_name: Name of manufacturing brand\n",
    "- os: OS on which the device runs\n",
    "- screen_size: Size of the screen in cm\n",
    "- 4g: Whether 4G is available or not\n",
    "- 5g: Whether 5G is available or not\n",
    "- main_camera_mp: Resolution of the rear camera in megapixels\n",
    "- selfie_camera_mp: Resolution of the front camera in megapixels\n",
    "- int_memory: Amount of internal memory (ROM) in GB\n",
    "- ram: Amount of RAM in GB\n",
    "- battery: Energy capacity of the device battery in mAh\n",
    "- weight: Weight of the device in grams\n",
    "- release_year: Year when the device model was released\n",
    "- days_used: Number of days the used/refurbished device has been used\n",
    "- normalized_new_price: Normalized price of a new device of the same model in euros\n",
    "- normalized_used_price: Normalized price of the used/refurbished device in euros"
   ]
  },
  {
   "cell_type": "markdown",
   "metadata": {
    "id": "v_-uuGqH-qTt"
   },
   "source": [
    "## Importing necessary libraries"
   ]
  },
  {
   "cell_type": "code",
   "execution_count": 1,
   "metadata": {
    "id": "zeF8YaNKDPyK"
   },
   "outputs": [
    {
     "data": {
      "application/javascript": [
       "\n",
       "            setTimeout(function() {\n",
       "                var nbb_cell_id = 1;\n",
       "                var nbb_unformatted_code = \"# this will help in making the Python code more structured automatically\\n%load_ext nb_black\\n\\n# Libraries to help with reading and manipulating data\\nimport numpy as np\\nimport pandas as pd\\n\\n# Libraries to help with data visualization\\nimport matplotlib.pyplot as plt\\nimport seaborn as sns\\n\\nsns.set()\\n\\n# split the data into train and test\\nfrom sklearn.model_selection import train_test_split\\n\\n# to build linear regression_model\\nfrom sklearn.linear_model import LinearRegression\\n\\n# to check model performance\\nfrom sklearn.metrics import mean_absolute_error, mean_squared_error, r2_score\\n\\n# to build linear regression_model using statsmodels\\nimport statsmodels.api as sm\\n\\n# to compute VIF\\nfrom statsmodels.stats.outliers_influence import variance_inflation_factor\";\n",
       "                var nbb_formatted_code = \"# this will help in making the Python code more structured automatically\\n%load_ext nb_black\\n\\n# Libraries to help with reading and manipulating data\\nimport numpy as np\\nimport pandas as pd\\n\\n# Libraries to help with data visualization\\nimport matplotlib.pyplot as plt\\nimport seaborn as sns\\n\\nsns.set()\\n\\n# split the data into train and test\\nfrom sklearn.model_selection import train_test_split\\n\\n# to build linear regression_model\\nfrom sklearn.linear_model import LinearRegression\\n\\n# to check model performance\\nfrom sklearn.metrics import mean_absolute_error, mean_squared_error, r2_score\\n\\n# to build linear regression_model using statsmodels\\nimport statsmodels.api as sm\\n\\n# to compute VIF\\nfrom statsmodels.stats.outliers_influence import variance_inflation_factor\";\n",
       "                var nbb_cells = Jupyter.notebook.get_cells();\n",
       "                for (var i = 0; i < nbb_cells.length; ++i) {\n",
       "                    if (nbb_cells[i].input_prompt_number == nbb_cell_id) {\n",
       "                        if (nbb_cells[i].get_text() == nbb_unformatted_code) {\n",
       "                             nbb_cells[i].set_text(nbb_formatted_code);\n",
       "                        }\n",
       "                        break;\n",
       "                    }\n",
       "                }\n",
       "            }, 500);\n",
       "            "
      ],
      "text/plain": [
       "<IPython.core.display.Javascript object>"
      ]
     },
     "metadata": {},
     "output_type": "display_data"
    }
   ],
   "source": [
    "# this will help in making the Python code more structured automatically\n",
    "%load_ext nb_black\n",
    "\n",
    "# Libraries to help with reading and manipulating data\n",
    "import numpy as np\n",
    "import pandas as pd\n",
    "\n",
    "# Libraries to help with data visualization\n",
    "import matplotlib.pyplot as plt\n",
    "import seaborn as sns\n",
    "\n",
    "sns.set()\n",
    "\n",
    "# split the data into train and test\n",
    "from sklearn.model_selection import train_test_split\n",
    "\n",
    "# to build linear regression_model\n",
    "from sklearn.linear_model import LinearRegression\n",
    "\n",
    "# to check model performance\n",
    "from sklearn.metrics import mean_absolute_error, mean_squared_error, r2_score\n",
    "\n",
    "# to build linear regression_model using statsmodels\n",
    "import statsmodels.api as sm\n",
    "\n",
    "# to compute VIF\n",
    "from statsmodels.stats.outliers_influence import variance_inflation_factor"
   ]
  },
  {
   "cell_type": "markdown",
   "metadata": {
    "id": "xxhpZv9y-qTw"
   },
   "source": [
    "## Loading the dataset"
   ]
  },
  {
   "cell_type": "code",
   "execution_count": 2,
   "metadata": {
    "id": "ZJwX9wuc4rqL"
   },
   "outputs": [
    {
     "data": {
      "application/javascript": [
       "\n",
       "            setTimeout(function() {\n",
       "                var nbb_cell_id = 2;\n",
       "                var nbb_unformatted_code = \"# loading data for folder\\ndata = pd.read_csv(\\\"C:/Users/Eldred OFUA/Desktop/Data Science and Business Analytics PG Program/3. Supervised Learning/4. Project 3/used_device_data.csv\\\")\";\n",
       "                var nbb_formatted_code = \"# loading data for folder\\ndata = pd.read_csv(\\n    \\\"C:/Users/Eldred OFUA/Desktop/Data Science and Business Analytics PG Program/3. Supervised Learning/4. Project 3/used_device_data.csv\\\"\\n)\";\n",
       "                var nbb_cells = Jupyter.notebook.get_cells();\n",
       "                for (var i = 0; i < nbb_cells.length; ++i) {\n",
       "                    if (nbb_cells[i].input_prompt_number == nbb_cell_id) {\n",
       "                        if (nbb_cells[i].get_text() == nbb_unformatted_code) {\n",
       "                             nbb_cells[i].set_text(nbb_formatted_code);\n",
       "                        }\n",
       "                        break;\n",
       "                    }\n",
       "                }\n",
       "            }, 500);\n",
       "            "
      ],
      "text/plain": [
       "<IPython.core.display.Javascript object>"
      ]
     },
     "metadata": {},
     "output_type": "display_data"
    }
   ],
   "source": [
    "# loading data for folder\n",
    "data = pd.read_csv(\n",
    "    \"C:/Users/Eldred OFUA/Desktop/Data Science and Business Analytics PG Program/3. Supervised Learning/4. Project 3/used_device_data.csv\"\n",
    ")"
   ]
  },
  {
   "cell_type": "markdown",
   "metadata": {
    "id": "UvpMDcaaMKtI"
   },
   "source": [
    "## Data Overview"
   ]
  },
  {
   "cell_type": "markdown",
   "metadata": {
    "id": "tIiCRwqZ54_C"
   },
   "source": [
    "Checking Data Qualities"
   ]
  },
  {
   "cell_type": "code",
   "execution_count": 11,
   "metadata": {
    "id": "01hJQ7EfMKtK"
   },
   "outputs": [
    {
     "data": {
      "text/html": [
       "<div>\n",
       "<style scoped>\n",
       "    .dataframe tbody tr th:only-of-type {\n",
       "        vertical-align: middle;\n",
       "    }\n",
       "\n",
       "    .dataframe tbody tr th {\n",
       "        vertical-align: top;\n",
       "    }\n",
       "\n",
       "    .dataframe thead th {\n",
       "        text-align: right;\n",
       "    }\n",
       "</style>\n",
       "<table border=\"1\" class=\"dataframe\">\n",
       "  <thead>\n",
       "    <tr style=\"text-align: right;\">\n",
       "      <th></th>\n",
       "      <th>brand_name</th>\n",
       "      <th>os</th>\n",
       "      <th>screen_size</th>\n",
       "      <th>4g</th>\n",
       "      <th>5g</th>\n",
       "      <th>main_camera_mp</th>\n",
       "      <th>selfie_camera_mp</th>\n",
       "      <th>int_memory</th>\n",
       "      <th>ram</th>\n",
       "      <th>battery</th>\n",
       "      <th>weight</th>\n",
       "      <th>release_year</th>\n",
       "      <th>days_used</th>\n",
       "      <th>normalized_used_price</th>\n",
       "      <th>normalized_new_price</th>\n",
       "    </tr>\n",
       "  </thead>\n",
       "  <tbody>\n",
       "    <tr>\n",
       "      <th>0</th>\n",
       "      <td>Honor</td>\n",
       "      <td>Android</td>\n",
       "      <td>14.50</td>\n",
       "      <td>yes</td>\n",
       "      <td>no</td>\n",
       "      <td>13.0</td>\n",
       "      <td>5.0</td>\n",
       "      <td>64.0</td>\n",
       "      <td>3.0</td>\n",
       "      <td>3020.0</td>\n",
       "      <td>146.0</td>\n",
       "      <td>2020</td>\n",
       "      <td>127</td>\n",
       "      <td>4.307572</td>\n",
       "      <td>4.715100</td>\n",
       "    </tr>\n",
       "    <tr>\n",
       "      <th>1</th>\n",
       "      <td>Honor</td>\n",
       "      <td>Android</td>\n",
       "      <td>17.30</td>\n",
       "      <td>yes</td>\n",
       "      <td>yes</td>\n",
       "      <td>13.0</td>\n",
       "      <td>16.0</td>\n",
       "      <td>128.0</td>\n",
       "      <td>8.0</td>\n",
       "      <td>4300.0</td>\n",
       "      <td>213.0</td>\n",
       "      <td>2020</td>\n",
       "      <td>325</td>\n",
       "      <td>5.162097</td>\n",
       "      <td>5.519018</td>\n",
       "    </tr>\n",
       "    <tr>\n",
       "      <th>2</th>\n",
       "      <td>Honor</td>\n",
       "      <td>Android</td>\n",
       "      <td>16.69</td>\n",
       "      <td>yes</td>\n",
       "      <td>yes</td>\n",
       "      <td>13.0</td>\n",
       "      <td>8.0</td>\n",
       "      <td>128.0</td>\n",
       "      <td>8.0</td>\n",
       "      <td>4200.0</td>\n",
       "      <td>213.0</td>\n",
       "      <td>2020</td>\n",
       "      <td>162</td>\n",
       "      <td>5.111084</td>\n",
       "      <td>5.884631</td>\n",
       "    </tr>\n",
       "    <tr>\n",
       "      <th>3</th>\n",
       "      <td>Honor</td>\n",
       "      <td>Android</td>\n",
       "      <td>25.50</td>\n",
       "      <td>yes</td>\n",
       "      <td>yes</td>\n",
       "      <td>13.0</td>\n",
       "      <td>8.0</td>\n",
       "      <td>64.0</td>\n",
       "      <td>6.0</td>\n",
       "      <td>7250.0</td>\n",
       "      <td>480.0</td>\n",
       "      <td>2020</td>\n",
       "      <td>345</td>\n",
       "      <td>5.135387</td>\n",
       "      <td>5.630961</td>\n",
       "    </tr>\n",
       "    <tr>\n",
       "      <th>4</th>\n",
       "      <td>Honor</td>\n",
       "      <td>Android</td>\n",
       "      <td>15.32</td>\n",
       "      <td>yes</td>\n",
       "      <td>no</td>\n",
       "      <td>13.0</td>\n",
       "      <td>8.0</td>\n",
       "      <td>64.0</td>\n",
       "      <td>3.0</td>\n",
       "      <td>5000.0</td>\n",
       "      <td>185.0</td>\n",
       "      <td>2020</td>\n",
       "      <td>293</td>\n",
       "      <td>4.389995</td>\n",
       "      <td>4.947837</td>\n",
       "    </tr>\n",
       "    <tr>\n",
       "      <th>5</th>\n",
       "      <td>Honor</td>\n",
       "      <td>Android</td>\n",
       "      <td>16.23</td>\n",
       "      <td>yes</td>\n",
       "      <td>no</td>\n",
       "      <td>13.0</td>\n",
       "      <td>8.0</td>\n",
       "      <td>64.0</td>\n",
       "      <td>4.0</td>\n",
       "      <td>4000.0</td>\n",
       "      <td>176.0</td>\n",
       "      <td>2020</td>\n",
       "      <td>223</td>\n",
       "      <td>4.413889</td>\n",
       "      <td>5.060694</td>\n",
       "    </tr>\n",
       "    <tr>\n",
       "      <th>6</th>\n",
       "      <td>Honor</td>\n",
       "      <td>Android</td>\n",
       "      <td>13.84</td>\n",
       "      <td>yes</td>\n",
       "      <td>no</td>\n",
       "      <td>8.0</td>\n",
       "      <td>5.0</td>\n",
       "      <td>32.0</td>\n",
       "      <td>2.0</td>\n",
       "      <td>3020.0</td>\n",
       "      <td>144.0</td>\n",
       "      <td>2020</td>\n",
       "      <td>234</td>\n",
       "      <td>3.878259</td>\n",
       "      <td>4.518958</td>\n",
       "    </tr>\n",
       "    <tr>\n",
       "      <th>7</th>\n",
       "      <td>Honor</td>\n",
       "      <td>Android</td>\n",
       "      <td>15.77</td>\n",
       "      <td>yes</td>\n",
       "      <td>no</td>\n",
       "      <td>13.0</td>\n",
       "      <td>8.0</td>\n",
       "      <td>64.0</td>\n",
       "      <td>4.0</td>\n",
       "      <td>3400.0</td>\n",
       "      <td>164.0</td>\n",
       "      <td>2020</td>\n",
       "      <td>219</td>\n",
       "      <td>4.729421</td>\n",
       "      <td>5.188726</td>\n",
       "    </tr>\n",
       "    <tr>\n",
       "      <th>8</th>\n",
       "      <td>Honor</td>\n",
       "      <td>Android</td>\n",
       "      <td>15.32</td>\n",
       "      <td>yes</td>\n",
       "      <td>no</td>\n",
       "      <td>13.0</td>\n",
       "      <td>16.0</td>\n",
       "      <td>128.0</td>\n",
       "      <td>6.0</td>\n",
       "      <td>4000.0</td>\n",
       "      <td>165.0</td>\n",
       "      <td>2020</td>\n",
       "      <td>161</td>\n",
       "      <td>4.886054</td>\n",
       "      <td>5.299916</td>\n",
       "    </tr>\n",
       "    <tr>\n",
       "      <th>9</th>\n",
       "      <td>Honor</td>\n",
       "      <td>Android</td>\n",
       "      <td>16.23</td>\n",
       "      <td>yes</td>\n",
       "      <td>no</td>\n",
       "      <td>13.0</td>\n",
       "      <td>8.0</td>\n",
       "      <td>128.0</td>\n",
       "      <td>6.0</td>\n",
       "      <td>4000.0</td>\n",
       "      <td>176.0</td>\n",
       "      <td>2020</td>\n",
       "      <td>327</td>\n",
       "      <td>4.773224</td>\n",
       "      <td>5.073610</td>\n",
       "    </tr>\n",
       "    <tr>\n",
       "      <th>10</th>\n",
       "      <td>Honor</td>\n",
       "      <td>Android</td>\n",
       "      <td>15.47</td>\n",
       "      <td>yes</td>\n",
       "      <td>no</td>\n",
       "      <td>13.0</td>\n",
       "      <td>8.0</td>\n",
       "      <td>64.0</td>\n",
       "      <td>3.0</td>\n",
       "      <td>3020.0</td>\n",
       "      <td>150.0</td>\n",
       "      <td>2020</td>\n",
       "      <td>268</td>\n",
       "      <td>4.267037</td>\n",
       "      <td>4.713666</td>\n",
       "    </tr>\n",
       "    <tr>\n",
       "      <th>11</th>\n",
       "      <td>Honor</td>\n",
       "      <td>Android</td>\n",
       "      <td>15.32</td>\n",
       "      <td>yes</td>\n",
       "      <td>no</td>\n",
       "      <td>13.0</td>\n",
       "      <td>8.0</td>\n",
       "      <td>64.0</td>\n",
       "      <td>4.0</td>\n",
       "      <td>5000.0</td>\n",
       "      <td>185.0</td>\n",
       "      <td>2020</td>\n",
       "      <td>344</td>\n",
       "      <td>4.657383</td>\n",
       "      <td>4.770176</td>\n",
       "    </tr>\n",
       "    <tr>\n",
       "      <th>12</th>\n",
       "      <td>Honor</td>\n",
       "      <td>Android</td>\n",
       "      <td>16.69</td>\n",
       "      <td>yes</td>\n",
       "      <td>yes</td>\n",
       "      <td>13.0</td>\n",
       "      <td>16.0</td>\n",
       "      <td>128.0</td>\n",
       "      <td>8.0</td>\n",
       "      <td>4100.0</td>\n",
       "      <td>206.0</td>\n",
       "      <td>2019</td>\n",
       "      <td>537</td>\n",
       "      <td>5.383256</td>\n",
       "      <td>6.213968</td>\n",
       "    </tr>\n",
       "    <tr>\n",
       "      <th>13</th>\n",
       "      <td>Honor</td>\n",
       "      <td>Android</td>\n",
       "      <td>15.32</td>\n",
       "      <td>yes</td>\n",
       "      <td>no</td>\n",
       "      <td>13.0</td>\n",
       "      <td>16.0</td>\n",
       "      <td>64.0</td>\n",
       "      <td>4.0</td>\n",
       "      <td>4000.0</td>\n",
       "      <td>171.5</td>\n",
       "      <td>2019</td>\n",
       "      <td>336</td>\n",
       "      <td>4.617593</td>\n",
       "      <td>5.398751</td>\n",
       "    </tr>\n",
       "    <tr>\n",
       "      <th>14</th>\n",
       "      <td>Honor</td>\n",
       "      <td>Android</td>\n",
       "      <td>14.50</td>\n",
       "      <td>yes</td>\n",
       "      <td>no</td>\n",
       "      <td>13.0</td>\n",
       "      <td>5.0</td>\n",
       "      <td>32.0</td>\n",
       "      <td>2.0</td>\n",
       "      <td>3020.0</td>\n",
       "      <td>146.0</td>\n",
       "      <td>2019</td>\n",
       "      <td>230</td>\n",
       "      <td>4.111366</td>\n",
       "      <td>4.487512</td>\n",
       "    </tr>\n",
       "  </tbody>\n",
       "</table>\n",
       "</div>"
      ],
      "text/plain": [
       "   brand_name       os  screen_size   4g   5g  main_camera_mp  selfie_camera_mp  int_memory  ram  battery  weight  release_year  days_used  normalized_used_price  normalized_new_price\n",
       "0       Honor  Android        14.50  yes   no            13.0               5.0        64.0  3.0   3020.0   146.0          2020        127               4.307572              4.715100\n",
       "1       Honor  Android        17.30  yes  yes            13.0              16.0       128.0  8.0   4300.0   213.0          2020        325               5.162097              5.519018\n",
       "2       Honor  Android        16.69  yes  yes            13.0               8.0       128.0  8.0   4200.0   213.0          2020        162               5.111084              5.884631\n",
       "3       Honor  Android        25.50  yes  yes            13.0               8.0        64.0  6.0   7250.0   480.0          2020        345               5.135387              5.630961\n",
       "4       Honor  Android        15.32  yes   no            13.0               8.0        64.0  3.0   5000.0   185.0          2020        293               4.389995              4.947837\n",
       "5       Honor  Android        16.23  yes   no            13.0               8.0        64.0  4.0   4000.0   176.0          2020        223               4.413889              5.060694\n",
       "6       Honor  Android        13.84  yes   no             8.0               5.0        32.0  2.0   3020.0   144.0          2020        234               3.878259              4.518958\n",
       "7       Honor  Android        15.77  yes   no            13.0               8.0        64.0  4.0   3400.0   164.0          2020        219               4.729421              5.188726\n",
       "8       Honor  Android        15.32  yes   no            13.0              16.0       128.0  6.0   4000.0   165.0          2020        161               4.886054              5.299916\n",
       "9       Honor  Android        16.23  yes   no            13.0               8.0       128.0  6.0   4000.0   176.0          2020        327               4.773224              5.073610\n",
       "10      Honor  Android        15.47  yes   no            13.0               8.0        64.0  3.0   3020.0   150.0          2020        268               4.267037              4.713666\n",
       "11      Honor  Android        15.32  yes   no            13.0               8.0        64.0  4.0   5000.0   185.0          2020        344               4.657383              4.770176\n",
       "12      Honor  Android        16.69  yes  yes            13.0              16.0       128.0  8.0   4100.0   206.0          2019        537               5.383256              6.213968\n",
       "13      Honor  Android        15.32  yes   no            13.0              16.0        64.0  4.0   4000.0   171.5          2019        336               4.617593              5.398751\n",
       "14      Honor  Android        14.50  yes   no            13.0               5.0        32.0  2.0   3020.0   146.0          2019        230               4.111366              4.487512"
      ]
     },
     "execution_count": 11,
     "metadata": {},
     "output_type": "execute_result"
    },
    {
     "data": {
      "application/javascript": [
       "\n",
       "            setTimeout(function() {\n",
       "                var nbb_cell_id = 11;\n",
       "                var nbb_unformatted_code = \"# checking the first 15 rows of the data frame to ensure correct loading of data\\ndata.head(15)\";\n",
       "                var nbb_formatted_code = \"# checking the first 15 rows of the data frame to ensure correct loading of data\\ndata.head(15)\";\n",
       "                var nbb_cells = Jupyter.notebook.get_cells();\n",
       "                for (var i = 0; i < nbb_cells.length; ++i) {\n",
       "                    if (nbb_cells[i].input_prompt_number == nbb_cell_id) {\n",
       "                        if (nbb_cells[i].get_text() == nbb_unformatted_code) {\n",
       "                             nbb_cells[i].set_text(nbb_formatted_code);\n",
       "                        }\n",
       "                        break;\n",
       "                    }\n",
       "                }\n",
       "            }, 500);\n",
       "            "
      ],
      "text/plain": [
       "<IPython.core.display.Javascript object>"
      ]
     },
     "metadata": {},
     "output_type": "display_data"
    }
   ],
   "source": [
    "# checking the first 15 rows of the data frame to ensure correct loading of data\n",
    "data.head(15)"
   ]
  },
  {
   "cell_type": "markdown",
   "metadata": {},
   "source": [
    "* The dataset contains information about phones, mainly andriod OS.\n",
    "* Many of the phones seems to have a main camera of 13MP.\n",
    "* Majority of the phones are 4G enabled."
   ]
  },
  {
   "cell_type": "code",
   "execution_count": 58,
   "metadata": {},
   "outputs": [
    {
     "data": {
      "application/javascript": [
       "\n",
       "            setTimeout(function() {\n",
       "                var nbb_cell_id = 58;\n",
       "                var nbb_unformatted_code = \"# set up display area to show dataFrame in expanded view\\n\\npd.set_option(\\\"display.max_rows\\\", 1000)\\npd.set_option(\\\"display.max_columns\\\", 1000)\";\n",
       "                var nbb_formatted_code = \"# set up display area to show dataFrame in expanded view\\n\\npd.set_option(\\\"display.max_rows\\\", 1000)\\npd.set_option(\\\"display.max_columns\\\", 1000)\";\n",
       "                var nbb_cells = Jupyter.notebook.get_cells();\n",
       "                for (var i = 0; i < nbb_cells.length; ++i) {\n",
       "                    if (nbb_cells[i].input_prompt_number == nbb_cell_id) {\n",
       "                        if (nbb_cells[i].get_text() == nbb_unformatted_code) {\n",
       "                             nbb_cells[i].set_text(nbb_formatted_code);\n",
       "                        }\n",
       "                        break;\n",
       "                    }\n",
       "                }\n",
       "            }, 500);\n",
       "            "
      ],
      "text/plain": [
       "<IPython.core.display.Javascript object>"
      ]
     },
     "metadata": {},
     "output_type": "display_data"
    }
   ],
   "source": [
    "# set up display area to show dataFrame in expanded view\n",
    "\n",
    "pd.set_option(\"display.max_rows\", 1000)\n",
    "pd.set_option(\"display.max_columns\", 1000)\n"
   ]
  },
  {
   "cell_type": "code",
   "execution_count": 13,
   "metadata": {},
   "outputs": [
    {
     "name": "stdout",
     "output_type": "stream",
     "text": [
      "<class 'pandas.core.frame.DataFrame'>\n",
      "RangeIndex: 3454 entries, 0 to 3453\n",
      "Data columns (total 15 columns):\n",
      " #   Column                 Non-Null Count  Dtype  \n",
      "---  ------                 --------------  -----  \n",
      " 0   brand_name             3454 non-null   object \n",
      " 1   os                     3454 non-null   object \n",
      " 2   screen_size            3454 non-null   float64\n",
      " 3   4g                     3454 non-null   object \n",
      " 4   5g                     3454 non-null   object \n",
      " 5   main_camera_mp         3275 non-null   float64\n",
      " 6   selfie_camera_mp       3452 non-null   float64\n",
      " 7   int_memory             3450 non-null   float64\n",
      " 8   ram                    3450 non-null   float64\n",
      " 9   battery                3448 non-null   float64\n",
      " 10  weight                 3447 non-null   float64\n",
      " 11  release_year           3454 non-null   int64  \n",
      " 12  days_used              3454 non-null   int64  \n",
      " 13  normalized_used_price  3454 non-null   float64\n",
      " 14  normalized_new_price   3454 non-null   float64\n",
      "dtypes: float64(9), int64(2), object(4)\n",
      "memory usage: 404.9+ KB\n"
     ]
    },
    {
     "data": {
      "application/javascript": [
       "\n",
       "            setTimeout(function() {\n",
       "                var nbb_cell_id = 13;\n",
       "                var nbb_unformatted_code = \"# checking the data types of the columns in the dataFrame\\n\\ndata.info()\";\n",
       "                var nbb_formatted_code = \"# checking the data types of the columns in the dataFrame\\n\\ndata.info()\";\n",
       "                var nbb_cells = Jupyter.notebook.get_cells();\n",
       "                for (var i = 0; i < nbb_cells.length; ++i) {\n",
       "                    if (nbb_cells[i].input_prompt_number == nbb_cell_id) {\n",
       "                        if (nbb_cells[i].get_text() == nbb_unformatted_code) {\n",
       "                             nbb_cells[i].set_text(nbb_formatted_code);\n",
       "                        }\n",
       "                        break;\n",
       "                    }\n",
       "                }\n",
       "            }, 500);\n",
       "            "
      ],
      "text/plain": [
       "<IPython.core.display.Javascript object>"
      ]
     },
     "metadata": {},
     "output_type": "display_data"
    }
   ],
   "source": [
    "# checking the data types of the columns in the dataFrame\n",
    "\n",
    "data.info()"
   ]
  },
  {
   "cell_type": "markdown",
   "metadata": {},
   "source": [
    "* There are 11 numeric (*float* and *int* type) and 4 string (*object* type) columns in the data\n",
    "* The target variable is the normalized_used_price, which is of *float* type"
   ]
  },
  {
   "cell_type": "code",
   "execution_count": 9,
   "metadata": {},
   "outputs": [
    {
     "data": {
      "text/plain": [
       "(3454, 15)"
      ]
     },
     "execution_count": 9,
     "metadata": {},
     "output_type": "execute_result"
    },
    {
     "data": {
      "application/javascript": [
       "\n",
       "            setTimeout(function() {\n",
       "                var nbb_cell_id = 9;\n",
       "                var nbb_unformatted_code = \"# checking the shape of the dataset\\n\\ndata.shape\";\n",
       "                var nbb_formatted_code = \"# checking the shape of the dataset\\n\\ndata.shape\";\n",
       "                var nbb_cells = Jupyter.notebook.get_cells();\n",
       "                for (var i = 0; i < nbb_cells.length; ++i) {\n",
       "                    if (nbb_cells[i].input_prompt_number == nbb_cell_id) {\n",
       "                        if (nbb_cells[i].get_text() == nbb_unformatted_code) {\n",
       "                             nbb_cells[i].set_text(nbb_formatted_code);\n",
       "                        }\n",
       "                        break;\n",
       "                    }\n",
       "                }\n",
       "            }, 500);\n",
       "            "
      ],
      "text/plain": [
       "<IPython.core.display.Javascript object>"
      ]
     },
     "metadata": {},
     "output_type": "display_data"
    }
   ],
   "source": [
    "# checking the shape of the dataset\n",
    "\n",
    "data.shape"
   ]
  },
  {
   "cell_type": "markdown",
   "metadata": {},
   "source": [
    "* The dataset contains information (15 attributes) about 3454 phones"
   ]
  },
  {
   "cell_type": "markdown",
   "metadata": {},
   "source": [
    "### Statistical summary of the dataset"
   ]
  },
  {
   "cell_type": "code",
   "execution_count": 14,
   "metadata": {},
   "outputs": [
    {
     "data": {
      "text/html": [
       "<div>\n",
       "<style scoped>\n",
       "    .dataframe tbody tr th:only-of-type {\n",
       "        vertical-align: middle;\n",
       "    }\n",
       "\n",
       "    .dataframe tbody tr th {\n",
       "        vertical-align: top;\n",
       "    }\n",
       "\n",
       "    .dataframe thead th {\n",
       "        text-align: right;\n",
       "    }\n",
       "</style>\n",
       "<table border=\"1\" class=\"dataframe\">\n",
       "  <thead>\n",
       "    <tr style=\"text-align: right;\">\n",
       "      <th></th>\n",
       "      <th>count</th>\n",
       "      <th>unique</th>\n",
       "      <th>top</th>\n",
       "      <th>freq</th>\n",
       "      <th>mean</th>\n",
       "      <th>std</th>\n",
       "      <th>min</th>\n",
       "      <th>25%</th>\n",
       "      <th>50%</th>\n",
       "      <th>75%</th>\n",
       "      <th>max</th>\n",
       "    </tr>\n",
       "  </thead>\n",
       "  <tbody>\n",
       "    <tr>\n",
       "      <th>brand_name</th>\n",
       "      <td>3454</td>\n",
       "      <td>34</td>\n",
       "      <td>Others</td>\n",
       "      <td>502</td>\n",
       "      <td>NaN</td>\n",
       "      <td>NaN</td>\n",
       "      <td>NaN</td>\n",
       "      <td>NaN</td>\n",
       "      <td>NaN</td>\n",
       "      <td>NaN</td>\n",
       "      <td>NaN</td>\n",
       "    </tr>\n",
       "    <tr>\n",
       "      <th>os</th>\n",
       "      <td>3454</td>\n",
       "      <td>4</td>\n",
       "      <td>Android</td>\n",
       "      <td>3214</td>\n",
       "      <td>NaN</td>\n",
       "      <td>NaN</td>\n",
       "      <td>NaN</td>\n",
       "      <td>NaN</td>\n",
       "      <td>NaN</td>\n",
       "      <td>NaN</td>\n",
       "      <td>NaN</td>\n",
       "    </tr>\n",
       "    <tr>\n",
       "      <th>screen_size</th>\n",
       "      <td>3454.0</td>\n",
       "      <td>NaN</td>\n",
       "      <td>NaN</td>\n",
       "      <td>NaN</td>\n",
       "      <td>13.713115</td>\n",
       "      <td>3.80528</td>\n",
       "      <td>5.08</td>\n",
       "      <td>12.7</td>\n",
       "      <td>12.83</td>\n",
       "      <td>15.34</td>\n",
       "      <td>30.71</td>\n",
       "    </tr>\n",
       "    <tr>\n",
       "      <th>4g</th>\n",
       "      <td>3454</td>\n",
       "      <td>2</td>\n",
       "      <td>yes</td>\n",
       "      <td>2335</td>\n",
       "      <td>NaN</td>\n",
       "      <td>NaN</td>\n",
       "      <td>NaN</td>\n",
       "      <td>NaN</td>\n",
       "      <td>NaN</td>\n",
       "      <td>NaN</td>\n",
       "      <td>NaN</td>\n",
       "    </tr>\n",
       "    <tr>\n",
       "      <th>5g</th>\n",
       "      <td>3454</td>\n",
       "      <td>2</td>\n",
       "      <td>no</td>\n",
       "      <td>3302</td>\n",
       "      <td>NaN</td>\n",
       "      <td>NaN</td>\n",
       "      <td>NaN</td>\n",
       "      <td>NaN</td>\n",
       "      <td>NaN</td>\n",
       "      <td>NaN</td>\n",
       "      <td>NaN</td>\n",
       "    </tr>\n",
       "    <tr>\n",
       "      <th>main_camera_mp</th>\n",
       "      <td>3275.0</td>\n",
       "      <td>NaN</td>\n",
       "      <td>NaN</td>\n",
       "      <td>NaN</td>\n",
       "      <td>9.460208</td>\n",
       "      <td>4.815461</td>\n",
       "      <td>0.08</td>\n",
       "      <td>5.0</td>\n",
       "      <td>8.0</td>\n",
       "      <td>13.0</td>\n",
       "      <td>48.0</td>\n",
       "    </tr>\n",
       "    <tr>\n",
       "      <th>selfie_camera_mp</th>\n",
       "      <td>3452.0</td>\n",
       "      <td>NaN</td>\n",
       "      <td>NaN</td>\n",
       "      <td>NaN</td>\n",
       "      <td>6.554229</td>\n",
       "      <td>6.970372</td>\n",
       "      <td>0.0</td>\n",
       "      <td>2.0</td>\n",
       "      <td>5.0</td>\n",
       "      <td>8.0</td>\n",
       "      <td>32.0</td>\n",
       "    </tr>\n",
       "    <tr>\n",
       "      <th>int_memory</th>\n",
       "      <td>3450.0</td>\n",
       "      <td>NaN</td>\n",
       "      <td>NaN</td>\n",
       "      <td>NaN</td>\n",
       "      <td>54.573099</td>\n",
       "      <td>84.972371</td>\n",
       "      <td>0.01</td>\n",
       "      <td>16.0</td>\n",
       "      <td>32.0</td>\n",
       "      <td>64.0</td>\n",
       "      <td>1024.0</td>\n",
       "    </tr>\n",
       "    <tr>\n",
       "      <th>ram</th>\n",
       "      <td>3450.0</td>\n",
       "      <td>NaN</td>\n",
       "      <td>NaN</td>\n",
       "      <td>NaN</td>\n",
       "      <td>4.036122</td>\n",
       "      <td>1.365105</td>\n",
       "      <td>0.02</td>\n",
       "      <td>4.0</td>\n",
       "      <td>4.0</td>\n",
       "      <td>4.0</td>\n",
       "      <td>12.0</td>\n",
       "    </tr>\n",
       "    <tr>\n",
       "      <th>battery</th>\n",
       "      <td>3448.0</td>\n",
       "      <td>NaN</td>\n",
       "      <td>NaN</td>\n",
       "      <td>NaN</td>\n",
       "      <td>3133.402697</td>\n",
       "      <td>1299.682844</td>\n",
       "      <td>500.0</td>\n",
       "      <td>2100.0</td>\n",
       "      <td>3000.0</td>\n",
       "      <td>4000.0</td>\n",
       "      <td>9720.0</td>\n",
       "    </tr>\n",
       "    <tr>\n",
       "      <th>weight</th>\n",
       "      <td>3447.0</td>\n",
       "      <td>NaN</td>\n",
       "      <td>NaN</td>\n",
       "      <td>NaN</td>\n",
       "      <td>182.751871</td>\n",
       "      <td>88.413228</td>\n",
       "      <td>69.0</td>\n",
       "      <td>142.0</td>\n",
       "      <td>160.0</td>\n",
       "      <td>185.0</td>\n",
       "      <td>855.0</td>\n",
       "    </tr>\n",
       "    <tr>\n",
       "      <th>release_year</th>\n",
       "      <td>3454.0</td>\n",
       "      <td>NaN</td>\n",
       "      <td>NaN</td>\n",
       "      <td>NaN</td>\n",
       "      <td>2015.965258</td>\n",
       "      <td>2.298455</td>\n",
       "      <td>2013.0</td>\n",
       "      <td>2014.0</td>\n",
       "      <td>2015.5</td>\n",
       "      <td>2018.0</td>\n",
       "      <td>2020.0</td>\n",
       "    </tr>\n",
       "    <tr>\n",
       "      <th>days_used</th>\n",
       "      <td>3454.0</td>\n",
       "      <td>NaN</td>\n",
       "      <td>NaN</td>\n",
       "      <td>NaN</td>\n",
       "      <td>674.869716</td>\n",
       "      <td>248.580166</td>\n",
       "      <td>91.0</td>\n",
       "      <td>533.5</td>\n",
       "      <td>690.5</td>\n",
       "      <td>868.75</td>\n",
       "      <td>1094.0</td>\n",
       "    </tr>\n",
       "    <tr>\n",
       "      <th>normalized_used_price</th>\n",
       "      <td>3454.0</td>\n",
       "      <td>NaN</td>\n",
       "      <td>NaN</td>\n",
       "      <td>NaN</td>\n",
       "      <td>4.364712</td>\n",
       "      <td>0.588914</td>\n",
       "      <td>1.536867</td>\n",
       "      <td>4.033931</td>\n",
       "      <td>4.405133</td>\n",
       "      <td>4.7557</td>\n",
       "      <td>6.619433</td>\n",
       "    </tr>\n",
       "    <tr>\n",
       "      <th>normalized_new_price</th>\n",
       "      <td>3454.0</td>\n",
       "      <td>NaN</td>\n",
       "      <td>NaN</td>\n",
       "      <td>NaN</td>\n",
       "      <td>5.233107</td>\n",
       "      <td>0.683637</td>\n",
       "      <td>2.901422</td>\n",
       "      <td>4.790342</td>\n",
       "      <td>5.245892</td>\n",
       "      <td>5.673718</td>\n",
       "      <td>7.847841</td>\n",
       "    </tr>\n",
       "  </tbody>\n",
       "</table>\n",
       "</div>"
      ],
      "text/plain": [
       "                        count unique      top  freq         mean          std       min       25%       50%       75%       max\n",
       "brand_name               3454     34   Others   502          NaN          NaN       NaN       NaN       NaN       NaN       NaN\n",
       "os                       3454      4  Android  3214          NaN          NaN       NaN       NaN       NaN       NaN       NaN\n",
       "screen_size            3454.0    NaN      NaN   NaN    13.713115      3.80528      5.08      12.7     12.83     15.34     30.71\n",
       "4g                       3454      2      yes  2335          NaN          NaN       NaN       NaN       NaN       NaN       NaN\n",
       "5g                       3454      2       no  3302          NaN          NaN       NaN       NaN       NaN       NaN       NaN\n",
       "main_camera_mp         3275.0    NaN      NaN   NaN     9.460208     4.815461      0.08       5.0       8.0      13.0      48.0\n",
       "selfie_camera_mp       3452.0    NaN      NaN   NaN     6.554229     6.970372       0.0       2.0       5.0       8.0      32.0\n",
       "int_memory             3450.0    NaN      NaN   NaN    54.573099    84.972371      0.01      16.0      32.0      64.0    1024.0\n",
       "ram                    3450.0    NaN      NaN   NaN     4.036122     1.365105      0.02       4.0       4.0       4.0      12.0\n",
       "battery                3448.0    NaN      NaN   NaN  3133.402697  1299.682844     500.0    2100.0    3000.0    4000.0    9720.0\n",
       "weight                 3447.0    NaN      NaN   NaN   182.751871    88.413228      69.0     142.0     160.0     185.0     855.0\n",
       "release_year           3454.0    NaN      NaN   NaN  2015.965258     2.298455    2013.0    2014.0    2015.5    2018.0    2020.0\n",
       "days_used              3454.0    NaN      NaN   NaN   674.869716   248.580166      91.0     533.5     690.5    868.75    1094.0\n",
       "normalized_used_price  3454.0    NaN      NaN   NaN     4.364712     0.588914  1.536867  4.033931  4.405133    4.7557  6.619433\n",
       "normalized_new_price   3454.0    NaN      NaN   NaN     5.233107     0.683637  2.901422  4.790342  5.245892  5.673718  7.847841"
      ]
     },
     "execution_count": 14,
     "metadata": {},
     "output_type": "execute_result"
    },
    {
     "data": {
      "application/javascript": [
       "\n",
       "            setTimeout(function() {\n",
       "                var nbb_cell_id = 14;\n",
       "                var nbb_unformatted_code = \"data.describe(include=\\\"all\\\").T\";\n",
       "                var nbb_formatted_code = \"data.describe(include=\\\"all\\\").T\";\n",
       "                var nbb_cells = Jupyter.notebook.get_cells();\n",
       "                for (var i = 0; i < nbb_cells.length; ++i) {\n",
       "                    if (nbb_cells[i].input_prompt_number == nbb_cell_id) {\n",
       "                        if (nbb_cells[i].get_text() == nbb_unformatted_code) {\n",
       "                             nbb_cells[i].set_text(nbb_formatted_code);\n",
       "                        }\n",
       "                        break;\n",
       "                    }\n",
       "                }\n",
       "            }, 500);\n",
       "            "
      ],
      "text/plain": [
       "<IPython.core.display.Javascript object>"
      ]
     },
     "metadata": {},
     "output_type": "display_data"
    }
   ],
   "source": [
    "data.describe(include=\"all\").T"
   ]
  },
  {
   "cell_type": "markdown",
   "metadata": {},
   "source": [
    "* We can see that the normalized used price vary between 1.53 and 6.62 euros\n",
    "* The general normalized used price of phones is 4.36 euros"
   ]
  },
  {
   "cell_type": "markdown",
   "metadata": {},
   "source": [
    "### Checking for duplicate values"
   ]
  },
  {
   "cell_type": "code",
   "execution_count": 15,
   "metadata": {},
   "outputs": [
    {
     "data": {
      "text/plain": [
       "0"
      ]
     },
     "execution_count": 15,
     "metadata": {},
     "output_type": "execute_result"
    },
    {
     "data": {
      "application/javascript": [
       "\n",
       "            setTimeout(function() {\n",
       "                var nbb_cell_id = 15;\n",
       "                var nbb_unformatted_code = \"data.duplicated().sum()\";\n",
       "                var nbb_formatted_code = \"data.duplicated().sum()\";\n",
       "                var nbb_cells = Jupyter.notebook.get_cells();\n",
       "                for (var i = 0; i < nbb_cells.length; ++i) {\n",
       "                    if (nbb_cells[i].input_prompt_number == nbb_cell_id) {\n",
       "                        if (nbb_cells[i].get_text() == nbb_unformatted_code) {\n",
       "                             nbb_cells[i].set_text(nbb_formatted_code);\n",
       "                        }\n",
       "                        break;\n",
       "                    }\n",
       "                }\n",
       "            }, 500);\n",
       "            "
      ],
      "text/plain": [
       "<IPython.core.display.Javascript object>"
      ]
     },
     "metadata": {},
     "output_type": "display_data"
    }
   ],
   "source": [
    "data.duplicated().sum()"
   ]
  },
  {
   "cell_type": "markdown",
   "metadata": {},
   "source": [
    "* There are no duplicate values in the data"
   ]
  },
  {
   "cell_type": "markdown",
   "metadata": {},
   "source": [
    "### Checking for missing values"
   ]
  },
  {
   "cell_type": "code",
   "execution_count": 16,
   "metadata": {},
   "outputs": [
    {
     "data": {
      "text/plain": [
       "brand_name                 0\n",
       "os                         0\n",
       "screen_size                0\n",
       "4g                         0\n",
       "5g                         0\n",
       "main_camera_mp           179\n",
       "selfie_camera_mp           2\n",
       "int_memory                 4\n",
       "ram                        4\n",
       "battery                    6\n",
       "weight                     7\n",
       "release_year               0\n",
       "days_used                  0\n",
       "normalized_used_price      0\n",
       "normalized_new_price       0\n",
       "dtype: int64"
      ]
     },
     "execution_count": 16,
     "metadata": {},
     "output_type": "execute_result"
    },
    {
     "data": {
      "application/javascript": [
       "\n",
       "            setTimeout(function() {\n",
       "                var nbb_cell_id = 16;\n",
       "                var nbb_unformatted_code = \"data.isnull().sum()\";\n",
       "                var nbb_formatted_code = \"data.isnull().sum()\";\n",
       "                var nbb_cells = Jupyter.notebook.get_cells();\n",
       "                for (var i = 0; i < nbb_cells.length; ++i) {\n",
       "                    if (nbb_cells[i].input_prompt_number == nbb_cell_id) {\n",
       "                        if (nbb_cells[i].get_text() == nbb_unformatted_code) {\n",
       "                             nbb_cells[i].set_text(nbb_formatted_code);\n",
       "                        }\n",
       "                        break;\n",
       "                    }\n",
       "                }\n",
       "            }, 500);\n",
       "            "
      ],
      "text/plain": [
       "<IPython.core.display.Javascript object>"
      ]
     },
     "metadata": {},
     "output_type": "display_data"
    }
   ],
   "source": [
    "data.isnull().sum()"
   ]
  },
  {
   "cell_type": "markdown",
   "metadata": {},
   "source": [
    "- There are missing values in the following columns: Main camera, selfie camera, internal memory, ram, battery and weight columns."
   ]
  },
  {
   "cell_type": "code",
   "execution_count": 17,
   "metadata": {},
   "outputs": [
    {
     "data": {
      "application/javascript": [
       "\n",
       "            setTimeout(function() {\n",
       "                var nbb_cell_id = 17;\n",
       "                var nbb_unformatted_code = \"# creating a copy of the data so that original data remains unchanged\\ndf = data.copy()\";\n",
       "                var nbb_formatted_code = \"# creating a copy of the data so that original data remains unchanged\\ndf = data.copy()\";\n",
       "                var nbb_cells = Jupyter.notebook.get_cells();\n",
       "                for (var i = 0; i < nbb_cells.length; ++i) {\n",
       "                    if (nbb_cells[i].input_prompt_number == nbb_cell_id) {\n",
       "                        if (nbb_cells[i].get_text() == nbb_unformatted_code) {\n",
       "                             nbb_cells[i].set_text(nbb_formatted_code);\n",
       "                        }\n",
       "                        break;\n",
       "                    }\n",
       "                }\n",
       "            }, 500);\n",
       "            "
      ],
      "text/plain": [
       "<IPython.core.display.Javascript object>"
      ]
     },
     "metadata": {},
     "output_type": "display_data"
    }
   ],
   "source": [
    "# creating a copy of the data so that original data remains unchanged\n",
    "df = data.copy()"
   ]
  },
  {
   "cell_type": "code",
   "execution_count": 18,
   "metadata": {},
   "outputs": [
    {
     "data": {
      "text/html": [
       "<div>\n",
       "<style scoped>\n",
       "    .dataframe tbody tr th:only-of-type {\n",
       "        vertical-align: middle;\n",
       "    }\n",
       "\n",
       "    .dataframe tbody tr th {\n",
       "        vertical-align: top;\n",
       "    }\n",
       "\n",
       "    .dataframe thead th {\n",
       "        text-align: right;\n",
       "    }\n",
       "</style>\n",
       "<table border=\"1\" class=\"dataframe\">\n",
       "  <thead>\n",
       "    <tr style=\"text-align: right;\">\n",
       "      <th></th>\n",
       "      <th>brand_name</th>\n",
       "      <th>os</th>\n",
       "      <th>screen_size</th>\n",
       "      <th>4g</th>\n",
       "      <th>5g</th>\n",
       "      <th>main_camera_mp</th>\n",
       "      <th>selfie_camera_mp</th>\n",
       "      <th>int_memory</th>\n",
       "      <th>ram</th>\n",
       "      <th>battery</th>\n",
       "      <th>weight</th>\n",
       "      <th>release_year</th>\n",
       "      <th>days_used</th>\n",
       "      <th>normalized_used_price</th>\n",
       "      <th>normalized_new_price</th>\n",
       "    </tr>\n",
       "  </thead>\n",
       "  <tbody>\n",
       "    <tr>\n",
       "      <th>0</th>\n",
       "      <td>Honor</td>\n",
       "      <td>Android</td>\n",
       "      <td>14.50</td>\n",
       "      <td>yes</td>\n",
       "      <td>no</td>\n",
       "      <td>13.0</td>\n",
       "      <td>5.0</td>\n",
       "      <td>64.0</td>\n",
       "      <td>3.0</td>\n",
       "      <td>3020.0</td>\n",
       "      <td>146.0</td>\n",
       "      <td>2020</td>\n",
       "      <td>127</td>\n",
       "      <td>4.307572</td>\n",
       "      <td>4.715100</td>\n",
       "    </tr>\n",
       "    <tr>\n",
       "      <th>1</th>\n",
       "      <td>Honor</td>\n",
       "      <td>Android</td>\n",
       "      <td>17.30</td>\n",
       "      <td>yes</td>\n",
       "      <td>yes</td>\n",
       "      <td>13.0</td>\n",
       "      <td>16.0</td>\n",
       "      <td>128.0</td>\n",
       "      <td>8.0</td>\n",
       "      <td>4300.0</td>\n",
       "      <td>213.0</td>\n",
       "      <td>2020</td>\n",
       "      <td>325</td>\n",
       "      <td>5.162097</td>\n",
       "      <td>5.519018</td>\n",
       "    </tr>\n",
       "    <tr>\n",
       "      <th>2</th>\n",
       "      <td>Honor</td>\n",
       "      <td>Android</td>\n",
       "      <td>16.69</td>\n",
       "      <td>yes</td>\n",
       "      <td>yes</td>\n",
       "      <td>13.0</td>\n",
       "      <td>8.0</td>\n",
       "      <td>128.0</td>\n",
       "      <td>8.0</td>\n",
       "      <td>4200.0</td>\n",
       "      <td>213.0</td>\n",
       "      <td>2020</td>\n",
       "      <td>162</td>\n",
       "      <td>5.111084</td>\n",
       "      <td>5.884631</td>\n",
       "    </tr>\n",
       "    <tr>\n",
       "      <th>3</th>\n",
       "      <td>Honor</td>\n",
       "      <td>Android</td>\n",
       "      <td>25.50</td>\n",
       "      <td>yes</td>\n",
       "      <td>yes</td>\n",
       "      <td>13.0</td>\n",
       "      <td>8.0</td>\n",
       "      <td>64.0</td>\n",
       "      <td>6.0</td>\n",
       "      <td>7250.0</td>\n",
       "      <td>480.0</td>\n",
       "      <td>2020</td>\n",
       "      <td>345</td>\n",
       "      <td>5.135387</td>\n",
       "      <td>5.630961</td>\n",
       "    </tr>\n",
       "    <tr>\n",
       "      <th>4</th>\n",
       "      <td>Honor</td>\n",
       "      <td>Android</td>\n",
       "      <td>15.32</td>\n",
       "      <td>yes</td>\n",
       "      <td>no</td>\n",
       "      <td>13.0</td>\n",
       "      <td>8.0</td>\n",
       "      <td>64.0</td>\n",
       "      <td>3.0</td>\n",
       "      <td>5000.0</td>\n",
       "      <td>185.0</td>\n",
       "      <td>2020</td>\n",
       "      <td>293</td>\n",
       "      <td>4.389995</td>\n",
       "      <td>4.947837</td>\n",
       "    </tr>\n",
       "    <tr>\n",
       "      <th>5</th>\n",
       "      <td>Honor</td>\n",
       "      <td>Android</td>\n",
       "      <td>16.23</td>\n",
       "      <td>yes</td>\n",
       "      <td>no</td>\n",
       "      <td>13.0</td>\n",
       "      <td>8.0</td>\n",
       "      <td>64.0</td>\n",
       "      <td>4.0</td>\n",
       "      <td>4000.0</td>\n",
       "      <td>176.0</td>\n",
       "      <td>2020</td>\n",
       "      <td>223</td>\n",
       "      <td>4.413889</td>\n",
       "      <td>5.060694</td>\n",
       "    </tr>\n",
       "    <tr>\n",
       "      <th>6</th>\n",
       "      <td>Honor</td>\n",
       "      <td>Android</td>\n",
       "      <td>13.84</td>\n",
       "      <td>yes</td>\n",
       "      <td>no</td>\n",
       "      <td>8.0</td>\n",
       "      <td>5.0</td>\n",
       "      <td>32.0</td>\n",
       "      <td>2.0</td>\n",
       "      <td>3020.0</td>\n",
       "      <td>144.0</td>\n",
       "      <td>2020</td>\n",
       "      <td>234</td>\n",
       "      <td>3.878259</td>\n",
       "      <td>4.518958</td>\n",
       "    </tr>\n",
       "    <tr>\n",
       "      <th>7</th>\n",
       "      <td>Honor</td>\n",
       "      <td>Android</td>\n",
       "      <td>15.77</td>\n",
       "      <td>yes</td>\n",
       "      <td>no</td>\n",
       "      <td>13.0</td>\n",
       "      <td>8.0</td>\n",
       "      <td>64.0</td>\n",
       "      <td>4.0</td>\n",
       "      <td>3400.0</td>\n",
       "      <td>164.0</td>\n",
       "      <td>2020</td>\n",
       "      <td>219</td>\n",
       "      <td>4.729421</td>\n",
       "      <td>5.188726</td>\n",
       "    </tr>\n",
       "    <tr>\n",
       "      <th>8</th>\n",
       "      <td>Honor</td>\n",
       "      <td>Android</td>\n",
       "      <td>15.32</td>\n",
       "      <td>yes</td>\n",
       "      <td>no</td>\n",
       "      <td>13.0</td>\n",
       "      <td>16.0</td>\n",
       "      <td>128.0</td>\n",
       "      <td>6.0</td>\n",
       "      <td>4000.0</td>\n",
       "      <td>165.0</td>\n",
       "      <td>2020</td>\n",
       "      <td>161</td>\n",
       "      <td>4.886054</td>\n",
       "      <td>5.299916</td>\n",
       "    </tr>\n",
       "    <tr>\n",
       "      <th>9</th>\n",
       "      <td>Honor</td>\n",
       "      <td>Android</td>\n",
       "      <td>16.23</td>\n",
       "      <td>yes</td>\n",
       "      <td>no</td>\n",
       "      <td>13.0</td>\n",
       "      <td>8.0</td>\n",
       "      <td>128.0</td>\n",
       "      <td>6.0</td>\n",
       "      <td>4000.0</td>\n",
       "      <td>176.0</td>\n",
       "      <td>2020</td>\n",
       "      <td>327</td>\n",
       "      <td>4.773224</td>\n",
       "      <td>5.073610</td>\n",
       "    </tr>\n",
       "  </tbody>\n",
       "</table>\n",
       "</div>"
      ],
      "text/plain": [
       "  brand_name       os  screen_size   4g   5g  main_camera_mp  selfie_camera_mp  int_memory  ram  battery  weight  release_year  days_used  normalized_used_price  normalized_new_price\n",
       "0      Honor  Android        14.50  yes   no            13.0               5.0        64.0  3.0   3020.0   146.0          2020        127               4.307572              4.715100\n",
       "1      Honor  Android        17.30  yes  yes            13.0              16.0       128.0  8.0   4300.0   213.0          2020        325               5.162097              5.519018\n",
       "2      Honor  Android        16.69  yes  yes            13.0               8.0       128.0  8.0   4200.0   213.0          2020        162               5.111084              5.884631\n",
       "3      Honor  Android        25.50  yes  yes            13.0               8.0        64.0  6.0   7250.0   480.0          2020        345               5.135387              5.630961\n",
       "4      Honor  Android        15.32  yes   no            13.0               8.0        64.0  3.0   5000.0   185.0          2020        293               4.389995              4.947837\n",
       "5      Honor  Android        16.23  yes   no            13.0               8.0        64.0  4.0   4000.0   176.0          2020        223               4.413889              5.060694\n",
       "6      Honor  Android        13.84  yes   no             8.0               5.0        32.0  2.0   3020.0   144.0          2020        234               3.878259              4.518958\n",
       "7      Honor  Android        15.77  yes   no            13.0               8.0        64.0  4.0   3400.0   164.0          2020        219               4.729421              5.188726\n",
       "8      Honor  Android        15.32  yes   no            13.0              16.0       128.0  6.0   4000.0   165.0          2020        161               4.886054              5.299916\n",
       "9      Honor  Android        16.23  yes   no            13.0               8.0       128.0  6.0   4000.0   176.0          2020        327               4.773224              5.073610"
      ]
     },
     "execution_count": 18,
     "metadata": {},
     "output_type": "execute_result"
    },
    {
     "data": {
      "application/javascript": [
       "\n",
       "            setTimeout(function() {\n",
       "                var nbb_cell_id = 18;\n",
       "                var nbb_unformatted_code = \"df.head(10)\";\n",
       "                var nbb_formatted_code = \"df.head(10)\";\n",
       "                var nbb_cells = Jupyter.notebook.get_cells();\n",
       "                for (var i = 0; i < nbb_cells.length; ++i) {\n",
       "                    if (nbb_cells[i].input_prompt_number == nbb_cell_id) {\n",
       "                        if (nbb_cells[i].get_text() == nbb_unformatted_code) {\n",
       "                             nbb_cells[i].set_text(nbb_formatted_code);\n",
       "                        }\n",
       "                        break;\n",
       "                    }\n",
       "                }\n",
       "            }, 500);\n",
       "            "
      ],
      "text/plain": [
       "<IPython.core.display.Javascript object>"
      ]
     },
     "metadata": {},
     "output_type": "display_data"
    }
   ],
   "source": [
    "df.head(10)"
   ]
  },
  {
   "cell_type": "markdown",
   "metadata": {},
   "source": [
    "- Copy of dataset loaded correctly."
   ]
  },
  {
   "cell_type": "markdown",
   "metadata": {
    "id": "__7ciGcIDPyk"
   },
   "source": [
    "## Exploratory Data Analysis (EDA)"
   ]
  },
  {
   "cell_type": "markdown",
   "metadata": {
    "id": "3bGVKmh75ri8"
   },
   "source": [
    "- EDA is an important part of any project involving data.\n",
    "- It is important to investigate and understand the data better before building a model with it.\n",
    "- A few questions have been mentioned below which will help you approach the analysis in the right manner and generate insights from the data.\n",
    "- A thorough analysis of the data, in addition to the questions mentioned below, should be done."
   ]
  },
  {
   "cell_type": "markdown",
   "metadata": {
    "id": "oEyqzdJBb0jU"
   },
   "source": [
    "**Questions**:\n",
    "\n",
    "1. What does the distribution of normalized used device prices look like?\n",
    "2. What percentage of the used device market is dominated by Android devices?\n",
    "3. The amount of RAM is important for the smooth functioning of a device. How does the amount of RAM vary with the brand?\n",
    "4. A large battery often increases a device's weight, making it feel uncomfortable in the hands. How does the weight vary for phones and tablets offering large batteries (more than 4500 mAh)?\n",
    "5. Bigger screens are desirable for entertainment purposes as they offer a better viewing experience. How many phones and tablets are available across different brands with a screen size larger than 6 inches?\n",
    "6. A lot of devices nowadays offer great selfie cameras, allowing us to capture our favorite moments with loved ones. What is the distribution of devices offering greater than 8MP selfie cameras across brands?\n",
    "7. Which attributes are highly correlated with the normalized price of a used device?"
   ]
  },
  {
   "cell_type": "markdown",
   "metadata": {
    "id": "cN1lyueHttwW"
   },
   "source": [
    "### Univariate Analysis"
   ]
  },
  {
   "cell_type": "code",
   "execution_count": 19,
   "metadata": {},
   "outputs": [
    {
     "data": {
      "application/javascript": [
       "\n",
       "            setTimeout(function() {\n",
       "                var nbb_cell_id = 19;\n",
       "                var nbb_unformatted_code = \"# function to plot a boxplot and a histogram along the same scale.\\n\\n\\ndef histogram_boxplot(data, feature, figsize=(15, 10), kde=False, bins=None):\\n    \\\"\\\"\\\"\\n    Boxplot and histogram combined\\n\\n    data: dataframe\\n    feature: dataframe column\\n    figsize: size of figure (default (15,10))\\n    kde: whether to show the density curve (default False)\\n    bins: number of bins for histogram (default None)\\n    \\\"\\\"\\\"\\n    f2, (ax_box2, ax_hist2) = plt.subplots(\\n        nrows=2,  # Number of rows of the subplot grid= 2\\n        sharex=True,  # x-axis will be shared among all subplots\\n        gridspec_kw={\\\"height_ratios\\\": (0.25, 0.75)},\\n        figsize=figsize,\\n    )  # creating the 2 subplots\\n    sns.boxplot(\\n        data=data, x=feature, ax=ax_box2, showmeans=True, color=\\\"violet\\\"\\n    )  # boxplot will be created and a triangle will indicate the mean value of the column\\n    sns.histplot(\\n        data=data, x=feature, kde=kde, ax=ax_hist2, bins=bins\\n    ) if bins else sns.histplot(\\n        data=data, x=feature, kde=kde, ax=ax_hist2\\n    )  # For histogram\\n    ax_hist2.axvline(\\n        data[feature].mean(), color=\\\"green\\\", linestyle=\\\"--\\\"\\n    )  # Add mean to the histogram\\n    ax_hist2.axvline(\\n        data[feature].median(), color=\\\"black\\\", linestyle=\\\"-\\\"\\n    )  # Add median to the histogram\";\n",
       "                var nbb_formatted_code = \"# function to plot a boxplot and a histogram along the same scale.\\n\\n\\ndef histogram_boxplot(data, feature, figsize=(15, 10), kde=False, bins=None):\\n    \\\"\\\"\\\"\\n    Boxplot and histogram combined\\n\\n    data: dataframe\\n    feature: dataframe column\\n    figsize: size of figure (default (15,10))\\n    kde: whether to show the density curve (default False)\\n    bins: number of bins for histogram (default None)\\n    \\\"\\\"\\\"\\n    f2, (ax_box2, ax_hist2) = plt.subplots(\\n        nrows=2,  # Number of rows of the subplot grid= 2\\n        sharex=True,  # x-axis will be shared among all subplots\\n        gridspec_kw={\\\"height_ratios\\\": (0.25, 0.75)},\\n        figsize=figsize,\\n    )  # creating the 2 subplots\\n    sns.boxplot(\\n        data=data, x=feature, ax=ax_box2, showmeans=True, color=\\\"violet\\\"\\n    )  # boxplot will be created and a triangle will indicate the mean value of the column\\n    sns.histplot(\\n        data=data, x=feature, kde=kde, ax=ax_hist2, bins=bins\\n    ) if bins else sns.histplot(\\n        data=data, x=feature, kde=kde, ax=ax_hist2\\n    )  # For histogram\\n    ax_hist2.axvline(\\n        data[feature].mean(), color=\\\"green\\\", linestyle=\\\"--\\\"\\n    )  # Add mean to the histogram\\n    ax_hist2.axvline(\\n        data[feature].median(), color=\\\"black\\\", linestyle=\\\"-\\\"\\n    )  # Add median to the histogram\";\n",
       "                var nbb_cells = Jupyter.notebook.get_cells();\n",
       "                for (var i = 0; i < nbb_cells.length; ++i) {\n",
       "                    if (nbb_cells[i].input_prompt_number == nbb_cell_id) {\n",
       "                        if (nbb_cells[i].get_text() == nbb_unformatted_code) {\n",
       "                             nbb_cells[i].set_text(nbb_formatted_code);\n",
       "                        }\n",
       "                        break;\n",
       "                    }\n",
       "                }\n",
       "            }, 500);\n",
       "            "
      ],
      "text/plain": [
       "<IPython.core.display.Javascript object>"
      ]
     },
     "metadata": {},
     "output_type": "display_data"
    }
   ],
   "source": [
    "# function to plot a boxplot and a histogram along the same scale.\n",
    "\n",
    "\n",
    "def histogram_boxplot(data, feature, figsize=(15, 10), kde=False, bins=None):\n",
    "    \"\"\"\n",
    "    Boxplot and histogram combined\n",
    "\n",
    "    data: dataframe\n",
    "    feature: dataframe column\n",
    "    figsize: size of figure (default (15,10))\n",
    "    kde: whether to show the density curve (default False)\n",
    "    bins: number of bins for histogram (default None)\n",
    "    \"\"\"\n",
    "    f2, (ax_box2, ax_hist2) = plt.subplots(\n",
    "        nrows=2,  # Number of rows of the subplot grid= 2\n",
    "        sharex=True,  # x-axis will be shared among all subplots\n",
    "        gridspec_kw={\"height_ratios\": (0.25, 0.75)},\n",
    "        figsize=figsize,\n",
    "    )  # creating the 2 subplots\n",
    "    sns.boxplot(\n",
    "        data=data, x=feature, ax=ax_box2, showmeans=True, color=\"violet\"\n",
    "    )  # boxplot will be created and a triangle will indicate the mean value of the column\n",
    "    sns.histplot(\n",
    "        data=data, x=feature, kde=kde, ax=ax_hist2, bins=bins\n",
    "    ) if bins else sns.histplot(\n",
    "        data=data, x=feature, kde=kde, ax=ax_hist2\n",
    "    )  # For histogram\n",
    "    ax_hist2.axvline(\n",
    "        data[feature].mean(), color=\"green\", linestyle=\"--\"\n",
    "    )  # Add mean to the histogram\n",
    "    ax_hist2.axvline(\n",
    "        data[feature].median(), color=\"black\", linestyle=\"-\"\n",
    "    )  # Add median to the histogram"
   ]
  },
  {
   "cell_type": "code",
   "execution_count": 20,
   "metadata": {},
   "outputs": [
    {
     "data": {
      "application/javascript": [
       "\n",
       "            setTimeout(function() {\n",
       "                var nbb_cell_id = 20;\n",
       "                var nbb_unformatted_code = \"# function to create labeled barplots\\n\\n\\ndef labeled_barplot(data, feature, perc=False, n=None):\\n    \\\"\\\"\\\"\\n    Barplot with percentage at the top\\n\\n    data: dataframe\\n    feature: dataframe column\\n    perc: whether to display percentages instead of count (default is False)\\n    n: displays the top n category levels (default is None, i.e., display all levels)\\n    \\\"\\\"\\\"\\n\\n    total = len(data[feature])  # length of the column\\n    count = data[feature].nunique()\\n    if n is None:\\n        plt.figure(figsize=(count + 2, 6))\\n    else:\\n        plt.figure(figsize=(n + 2, 6))\\n\\n    plt.xticks(rotation=90, fontsize=15)\\n    ax = sns.countplot(\\n        data=data,\\n        x=feature,\\n        palette=\\\"Paired\\\",\\n        order=data[feature].value_counts().index[:n],\\n    )\\n\\n    for p in ax.patches:\\n        if perc == True:\\n            label = \\\"{:.1f}%\\\".format(\\n                100 * p.get_height() / total\\n            )  # percentage of each class of the category\\n        else:\\n            label = p.get_height()  # count of each level of the category\\n\\n        x = p.get_x() + p.get_width() / 2  # width of the plot\\n        y = p.get_height()  # height of the plot\\n\\n        ax.annotate(\\n            label,\\n            (x, y),\\n            ha=\\\"center\\\",\\n            va=\\\"center\\\",\\n            size=12,\\n            xytext=(0, 5),\\n            textcoords=\\\"offset points\\\",\\n        )  # annotate the percentage\\n\\n    plt.show()  # show the plot\";\n",
       "                var nbb_formatted_code = \"# function to create labeled barplots\\n\\n\\ndef labeled_barplot(data, feature, perc=False, n=None):\\n    \\\"\\\"\\\"\\n    Barplot with percentage at the top\\n\\n    data: dataframe\\n    feature: dataframe column\\n    perc: whether to display percentages instead of count (default is False)\\n    n: displays the top n category levels (default is None, i.e., display all levels)\\n    \\\"\\\"\\\"\\n\\n    total = len(data[feature])  # length of the column\\n    count = data[feature].nunique()\\n    if n is None:\\n        plt.figure(figsize=(count + 2, 6))\\n    else:\\n        plt.figure(figsize=(n + 2, 6))\\n\\n    plt.xticks(rotation=90, fontsize=15)\\n    ax = sns.countplot(\\n        data=data,\\n        x=feature,\\n        palette=\\\"Paired\\\",\\n        order=data[feature].value_counts().index[:n],\\n    )\\n\\n    for p in ax.patches:\\n        if perc == True:\\n            label = \\\"{:.1f}%\\\".format(\\n                100 * p.get_height() / total\\n            )  # percentage of each class of the category\\n        else:\\n            label = p.get_height()  # count of each level of the category\\n\\n        x = p.get_x() + p.get_width() / 2  # width of the plot\\n        y = p.get_height()  # height of the plot\\n\\n        ax.annotate(\\n            label,\\n            (x, y),\\n            ha=\\\"center\\\",\\n            va=\\\"center\\\",\\n            size=12,\\n            xytext=(0, 5),\\n            textcoords=\\\"offset points\\\",\\n        )  # annotate the percentage\\n\\n    plt.show()  # show the plot\";\n",
       "                var nbb_cells = Jupyter.notebook.get_cells();\n",
       "                for (var i = 0; i < nbb_cells.length; ++i) {\n",
       "                    if (nbb_cells[i].input_prompt_number == nbb_cell_id) {\n",
       "                        if (nbb_cells[i].get_text() == nbb_unformatted_code) {\n",
       "                             nbb_cells[i].set_text(nbb_formatted_code);\n",
       "                        }\n",
       "                        break;\n",
       "                    }\n",
       "                }\n",
       "            }, 500);\n",
       "            "
      ],
      "text/plain": [
       "<IPython.core.display.Javascript object>"
      ]
     },
     "metadata": {},
     "output_type": "display_data"
    }
   ],
   "source": [
    "# function to create labeled barplots\n",
    "\n",
    "\n",
    "def labeled_barplot(data, feature, perc=False, n=None):\n",
    "    \"\"\"\n",
    "    Barplot with percentage at the top\n",
    "\n",
    "    data: dataframe\n",
    "    feature: dataframe column\n",
    "    perc: whether to display percentages instead of count (default is False)\n",
    "    n: displays the top n category levels (default is None, i.e., display all levels)\n",
    "    \"\"\"\n",
    "\n",
    "    total = len(data[feature])  # length of the column\n",
    "    count = data[feature].nunique()\n",
    "    if n is None:\n",
    "        plt.figure(figsize=(count + 2, 6))\n",
    "    else:\n",
    "        plt.figure(figsize=(n + 2, 6))\n",
    "\n",
    "    plt.xticks(rotation=90, fontsize=15)\n",
    "    ax = sns.countplot(\n",
    "        data=data,\n",
    "        x=feature,\n",
    "        palette=\"Paired\",\n",
    "        order=data[feature].value_counts().index[:n],\n",
    "    )\n",
    "\n",
    "    for p in ax.patches:\n",
    "        if perc == True:\n",
    "            label = \"{:.1f}%\".format(\n",
    "                100 * p.get_height() / total\n",
    "            )  # percentage of each class of the category\n",
    "        else:\n",
    "            label = p.get_height()  # count of each level of the category\n",
    "\n",
    "        x = p.get_x() + p.get_width() / 2  # width of the plot\n",
    "        y = p.get_height()  # height of the plot\n",
    "\n",
    "        ax.annotate(\n",
    "            label,\n",
    "            (x, y),\n",
    "            ha=\"center\",\n",
    "            va=\"center\",\n",
    "            size=12,\n",
    "            xytext=(0, 5),\n",
    "            textcoords=\"offset points\",\n",
    "        )  # annotate the percentage\n",
    "\n",
    "    plt.show()  # show the plot"
   ]
  },
  {
   "cell_type": "markdown",
   "metadata": {},
   "source": [
    "#### 1. What does the distribution of normalized used device prices look like?\n",
    "\n",
    "- Normalized used price distribution"
   ]
  },
  {
   "cell_type": "code",
   "execution_count": 21,
   "metadata": {},
   "outputs": [
    {
     "data": {
      "image/png": "[encoded data removed]",
      "text/plain": [
       "<Figure size 1080x720 with 2 Axes>"
      ]
     },
     "metadata": {},
     "output_type": "display_data"
    },
    {
     "data": {
      "application/javascript": [
       "\n",
       "            setTimeout(function() {\n",
       "                var nbb_cell_id = 21;\n",
       "                var nbb_unformatted_code = \"histogram_boxplot(df, \\\"normalized_used_price\\\")\";\n",
       "                var nbb_formatted_code = \"histogram_boxplot(df, \\\"normalized_used_price\\\")\";\n",
       "                var nbb_cells = Jupyter.notebook.get_cells();\n",
       "                for (var i = 0; i < nbb_cells.length; ++i) {\n",
       "                    if (nbb_cells[i].input_prompt_number == nbb_cell_id) {\n",
       "                        if (nbb_cells[i].get_text() == nbb_unformatted_code) {\n",
       "                             nbb_cells[i].set_text(nbb_formatted_code);\n",
       "                        }\n",
       "                        break;\n",
       "                    }\n",
       "                }\n",
       "            }, 500);\n",
       "            "
      ],
      "text/plain": [
       "<IPython.core.display.Javascript object>"
      ]
     },
     "metadata": {},
     "output_type": "display_data"
    }
   ],
   "source": [
    "histogram_boxplot(df, \"normalized_used_price\")"
   ]
  },
  {
   "cell_type": "markdown",
   "metadata": {},
   "source": [
    "- The chart of normalized used price follows a normal distribution."
   ]
  },
  {
   "cell_type": "markdown",
   "metadata": {},
   "source": [
    "#### 2. What percentage of the used device market is dominated by Android devices?\n",
    "\n",
    "- Percentage of the market dominated by android used device"
   ]
  },
  {
   "cell_type": "code",
   "execution_count": 22,
   "metadata": {},
   "outputs": [
    {
     "data": {
      "image/png": "[encoded data removed]",
      "text/plain": [
       "<Figure size 864x432 with 1 Axes>"
      ]
     },
     "metadata": {},
     "output_type": "display_data"
    },
    {
     "data": {
      "application/javascript": [
       "\n",
       "            setTimeout(function() {\n",
       "                var nbb_cell_id = 22;\n",
       "                var nbb_unformatted_code = \"labeled_barplot(df, \\\"os\\\", perc=True, n=10)\";\n",
       "                var nbb_formatted_code = \"labeled_barplot(df, \\\"os\\\", perc=True, n=10)\";\n",
       "                var nbb_cells = Jupyter.notebook.get_cells();\n",
       "                for (var i = 0; i < nbb_cells.length; ++i) {\n",
       "                    if (nbb_cells[i].input_prompt_number == nbb_cell_id) {\n",
       "                        if (nbb_cells[i].get_text() == nbb_unformatted_code) {\n",
       "                             nbb_cells[i].set_text(nbb_formatted_code);\n",
       "                        }\n",
       "                        break;\n",
       "                    }\n",
       "                }\n",
       "            }, 500);\n",
       "            "
      ],
      "text/plain": [
       "<IPython.core.display.Javascript object>"
      ]
     },
     "metadata": {},
     "output_type": "display_data"
    }
   ],
   "source": [
    "labeled_barplot(df, \"os\", perc=True, n=10)"
   ]
  },
  {
   "cell_type": "markdown",
   "metadata": {},
   "source": [
    "- 93.1% used device market is dominated by andriod devices."
   ]
  },
  {
   "cell_type": "markdown",
   "metadata": {},
   "source": [
    "#### 3. The amount of RAM is important for the smooth functioning of a device. How does the amount of RAM vary with the brand?\n",
    "\n",
    "- Below is a boxplot for ram vs brand name."
   ]
  },
  {
   "cell_type": "code",
   "execution_count": 23,
   "metadata": {},
   "outputs": [
    {
     "data": {
      "image/png": "[encoded data removed]",
      "text/plain": [
       "<Figure size 1080x360 with 1 Axes>"
      ]
     },
     "metadata": {},
     "output_type": "display_data"
    },
    {
     "data": {
      "application/javascript": [
       "\n",
       "            setTimeout(function() {\n",
       "                var nbb_cell_id = 23;\n",
       "                var nbb_unformatted_code = \"plt.figure(figsize=(15, 5))\\nsns.boxplot(data=df, x=\\\"brand_name\\\", y=\\\"ram\\\")\\nplt.xticks(rotation=90)\\nplt.show()\";\n",
       "                var nbb_formatted_code = \"plt.figure(figsize=(15, 5))\\nsns.boxplot(data=df, x=\\\"brand_name\\\", y=\\\"ram\\\")\\nplt.xticks(rotation=90)\\nplt.show()\";\n",
       "                var nbb_cells = Jupyter.notebook.get_cells();\n",
       "                for (var i = 0; i < nbb_cells.length; ++i) {\n",
       "                    if (nbb_cells[i].input_prompt_number == nbb_cell_id) {\n",
       "                        if (nbb_cells[i].get_text() == nbb_unformatted_code) {\n",
       "                             nbb_cells[i].set_text(nbb_formatted_code);\n",
       "                        }\n",
       "                        break;\n",
       "                    }\n",
       "                }\n",
       "            }, 500);\n",
       "            "
      ],
      "text/plain": [
       "<IPython.core.display.Javascript object>"
      ]
     },
     "metadata": {},
     "output_type": "display_data"
    }
   ],
   "source": [
    "plt.figure(figsize=(15, 5))\n",
    "sns.boxplot(data=df, x=\"brand_name\", y=\"ram\")\n",
    "plt.xticks(rotation=90)\n",
    "plt.show()"
   ]
  },
  {
   "cell_type": "markdown",
   "metadata": {},
   "source": [
    "- Oneplus has the highest ram size, followed by Honor and Oppo."
   ]
  },
  {
   "cell_type": "markdown",
   "metadata": {},
   "source": [
    "#### 4. A large battery often increases a device's weight, making it feel uncomfortable in the hands. How does the weight vary for phones and tablets offering large batteries (more than 4500 mAh)?\n",
    "\n"
   ]
  },
  {
   "cell_type": "code",
   "execution_count": 26,
   "metadata": {},
   "outputs": [
    {
     "data": {
      "text/html": [
       "<div>\n",
       "<style scoped>\n",
       "    .dataframe tbody tr th:only-of-type {\n",
       "        vertical-align: middle;\n",
       "    }\n",
       "\n",
       "    .dataframe tbody tr th {\n",
       "        vertical-align: top;\n",
       "    }\n",
       "\n",
       "    .dataframe thead th {\n",
       "        text-align: right;\n",
       "    }\n",
       "</style>\n",
       "<table border=\"1\" class=\"dataframe\">\n",
       "  <thead>\n",
       "    <tr style=\"text-align: right;\">\n",
       "      <th></th>\n",
       "      <th>brand_name</th>\n",
       "      <th>os</th>\n",
       "      <th>screen_size</th>\n",
       "      <th>4g</th>\n",
       "      <th>5g</th>\n",
       "      <th>main_camera_mp</th>\n",
       "      <th>selfie_camera_mp</th>\n",
       "      <th>int_memory</th>\n",
       "      <th>ram</th>\n",
       "      <th>battery</th>\n",
       "      <th>weight</th>\n",
       "      <th>release_year</th>\n",
       "      <th>days_used</th>\n",
       "      <th>normalized_used_price</th>\n",
       "      <th>normalized_new_price</th>\n",
       "    </tr>\n",
       "  </thead>\n",
       "  <tbody>\n",
       "    <tr>\n",
       "      <th>3</th>\n",
       "      <td>Honor</td>\n",
       "      <td>Android</td>\n",
       "      <td>25.50</td>\n",
       "      <td>yes</td>\n",
       "      <td>yes</td>\n",
       "      <td>13.0</td>\n",
       "      <td>8.0</td>\n",
       "      <td>64.0</td>\n",
       "      <td>6.0</td>\n",
       "      <td>7250.0</td>\n",
       "      <td>480.0</td>\n",
       "      <td>2020</td>\n",
       "      <td>345</td>\n",
       "      <td>5.135387</td>\n",
       "      <td>5.630961</td>\n",
       "    </tr>\n",
       "    <tr>\n",
       "      <th>4</th>\n",
       "      <td>Honor</td>\n",
       "      <td>Android</td>\n",
       "      <td>15.32</td>\n",
       "      <td>yes</td>\n",
       "      <td>no</td>\n",
       "      <td>13.0</td>\n",
       "      <td>8.0</td>\n",
       "      <td>64.0</td>\n",
       "      <td>3.0</td>\n",
       "      <td>5000.0</td>\n",
       "      <td>185.0</td>\n",
       "      <td>2020</td>\n",
       "      <td>293</td>\n",
       "      <td>4.389995</td>\n",
       "      <td>4.947837</td>\n",
       "    </tr>\n",
       "    <tr>\n",
       "      <th>11</th>\n",
       "      <td>Honor</td>\n",
       "      <td>Android</td>\n",
       "      <td>15.32</td>\n",
       "      <td>yes</td>\n",
       "      <td>no</td>\n",
       "      <td>13.0</td>\n",
       "      <td>8.0</td>\n",
       "      <td>64.0</td>\n",
       "      <td>4.0</td>\n",
       "      <td>5000.0</td>\n",
       "      <td>185.0</td>\n",
       "      <td>2020</td>\n",
       "      <td>344</td>\n",
       "      <td>4.657383</td>\n",
       "      <td>4.770176</td>\n",
       "    </tr>\n",
       "    <tr>\n",
       "      <th>19</th>\n",
       "      <td>Honor</td>\n",
       "      <td>Android</td>\n",
       "      <td>25.43</td>\n",
       "      <td>yes</td>\n",
       "      <td>no</td>\n",
       "      <td>5.0</td>\n",
       "      <td>2.0</td>\n",
       "      <td>32.0</td>\n",
       "      <td>3.0</td>\n",
       "      <td>5100.0</td>\n",
       "      <td>173.0</td>\n",
       "      <td>2019</td>\n",
       "      <td>266</td>\n",
       "      <td>4.267878</td>\n",
       "      <td>5.517051</td>\n",
       "    </tr>\n",
       "    <tr>\n",
       "      <th>20</th>\n",
       "      <td>Honor</td>\n",
       "      <td>Android</td>\n",
       "      <td>20.32</td>\n",
       "      <td>yes</td>\n",
       "      <td>no</td>\n",
       "      <td>8.0</td>\n",
       "      <td>8.0</td>\n",
       "      <td>32.0</td>\n",
       "      <td>3.0</td>\n",
       "      <td>5100.0</td>\n",
       "      <td>173.0</td>\n",
       "      <td>2019</td>\n",
       "      <td>321</td>\n",
       "      <td>4.556295</td>\n",
       "      <td>5.304001</td>\n",
       "    </tr>\n",
       "  </tbody>\n",
       "</table>\n",
       "</div>"
      ],
      "text/plain": [
       "   brand_name       os  screen_size   4g   5g  main_camera_mp  selfie_camera_mp  int_memory  ram  battery  weight  release_year  days_used  normalized_used_price  normalized_new_price\n",
       "3       Honor  Android        25.50  yes  yes            13.0               8.0        64.0  6.0   7250.0   480.0          2020        345               5.135387              5.630961\n",
       "4       Honor  Android        15.32  yes   no            13.0               8.0        64.0  3.0   5000.0   185.0          2020        293               4.389995              4.947837\n",
       "11      Honor  Android        15.32  yes   no            13.0               8.0        64.0  4.0   5000.0   185.0          2020        344               4.657383              4.770176\n",
       "19      Honor  Android        25.43  yes   no             5.0               2.0        32.0  3.0   5100.0   173.0          2019        266               4.267878              5.517051\n",
       "20      Honor  Android        20.32  yes   no             8.0               8.0        32.0  3.0   5100.0   173.0          2019        321               4.556295              5.304001"
      ]
     },
     "execution_count": 26,
     "metadata": {},
     "output_type": "execute_result"
    },
    {
     "data": {
      "application/javascript": [
       "\n",
       "            setTimeout(function() {\n",
       "                var nbb_cell_id = 26;\n",
       "                var nbb_unformatted_code = \"# First I create a dataframe for phones with battery greater than 4500mAh\\n\\ndf_battery_greater4500 = df[df.battery > 4500]\\ndf_battery_greater4500.head()\";\n",
       "                var nbb_formatted_code = \"# First I create a dataframe for phones with battery greater than 4500mAh\\n\\ndf_battery_greater4500 = df[df.battery > 4500]\\ndf_battery_greater4500.head()\";\n",
       "                var nbb_cells = Jupyter.notebook.get_cells();\n",
       "                for (var i = 0; i < nbb_cells.length; ++i) {\n",
       "                    if (nbb_cells[i].input_prompt_number == nbb_cell_id) {\n",
       "                        if (nbb_cells[i].get_text() == nbb_unformatted_code) {\n",
       "                             nbb_cells[i].set_text(nbb_formatted_code);\n",
       "                        }\n",
       "                        break;\n",
       "                    }\n",
       "                }\n",
       "            }, 500);\n",
       "            "
      ],
      "text/plain": [
       "<IPython.core.display.Javascript object>"
      ]
     },
     "metadata": {},
     "output_type": "display_data"
    }
   ],
   "source": [
    "# First I create a dataframe for phones with battery greater than 4500mAh\n",
    "\n",
    "df_battery_greater4500 = df[df.battery > 4500]\n",
    "df_battery_greater4500.head()"
   ]
  },
  {
   "cell_type": "code",
   "execution_count": 27,
   "metadata": {},
   "outputs": [
    {
     "data": {
      "image/png": "[encoded data removed]",
      "text/plain": [
       "<Figure size 1080x360 with 1 Axes>"
      ]
     },
     "metadata": {},
     "output_type": "display_data"
    },
    {
     "data": {
      "application/javascript": [
       "\n",
       "            setTimeout(function() {\n",
       "                var nbb_cell_id = 27;\n",
       "                var nbb_unformatted_code = \"plt.figure(figsize=(15, 5))\\nsns.boxplot(\\n    data=df_battery_greater4500, x=\\\"brand_name\\\", y=\\\"weight\\\"\\n)  ## Complete the code to create a boxplot for 'brand_name' and 'weight'\\nplt.xticks(rotation=90)\\nplt.show()\";\n",
       "                var nbb_formatted_code = \"plt.figure(figsize=(15, 5))\\nsns.boxplot(\\n    data=df_battery_greater4500, x=\\\"brand_name\\\", y=\\\"weight\\\"\\n)  ## Complete the code to create a boxplot for 'brand_name' and 'weight'\\nplt.xticks(rotation=90)\\nplt.show()\";\n",
       "                var nbb_cells = Jupyter.notebook.get_cells();\n",
       "                for (var i = 0; i < nbb_cells.length; ++i) {\n",
       "                    if (nbb_cells[i].input_prompt_number == nbb_cell_id) {\n",
       "                        if (nbb_cells[i].get_text() == nbb_unformatted_code) {\n",
       "                             nbb_cells[i].set_text(nbb_formatted_code);\n",
       "                        }\n",
       "                        break;\n",
       "                    }\n",
       "                }\n",
       "            }, 500);\n",
       "            "
      ],
      "text/plain": [
       "<IPython.core.display.Javascript object>"
      ]
     },
     "metadata": {},
     "output_type": "display_data"
    }
   ],
   "source": [
    "plt.figure(figsize=(15, 5))\n",
    "sns.boxplot(\n",
    "    data=df_battery_greater4500, x=\"brand_name\", y=\"weight\"\n",
    ")  ## Complete the code to create a boxplot for 'brand_name' and 'weight'\n",
    "plt.xticks(rotation=90)\n",
    "plt.show()"
   ]
  },
  {
   "cell_type": "markdown",
   "metadata": {},
   "source": [
    "- Lenovo devices have an average weight of approx. 480 grams, followed by Samsung and Others. Micromax has the lowest weight of approx. 120 grams."
   ]
  },
  {
   "cell_type": "markdown",
   "metadata": {},
   "source": [
    "#### 5. Bigger screens are desirable for entertainment purposes as they offer a better viewing experience. How many phones and tablets are available across different brands with a screen size larger than 6 inches?\n",
    "\n"
   ]
  },
  {
   "cell_type": "code",
   "execution_count": 31,
   "metadata": {},
   "outputs": [
    {
     "data": {
      "text/html": [
       "<div>\n",
       "<style scoped>\n",
       "    .dataframe tbody tr th:only-of-type {\n",
       "        vertical-align: middle;\n",
       "    }\n",
       "\n",
       "    .dataframe tbody tr th {\n",
       "        vertical-align: top;\n",
       "    }\n",
       "\n",
       "    .dataframe thead th {\n",
       "        text-align: right;\n",
       "    }\n",
       "</style>\n",
       "<table border=\"1\" class=\"dataframe\">\n",
       "  <thead>\n",
       "    <tr style=\"text-align: right;\">\n",
       "      <th></th>\n",
       "      <th>brand_name</th>\n",
       "      <th>os</th>\n",
       "      <th>screen_size</th>\n",
       "      <th>4g</th>\n",
       "      <th>5g</th>\n",
       "      <th>main_camera_mp</th>\n",
       "      <th>selfie_camera_mp</th>\n",
       "      <th>int_memory</th>\n",
       "      <th>ram</th>\n",
       "      <th>battery</th>\n",
       "      <th>weight</th>\n",
       "      <th>release_year</th>\n",
       "      <th>days_used</th>\n",
       "      <th>normalized_used_price</th>\n",
       "      <th>normalized_new_price</th>\n",
       "    </tr>\n",
       "  </thead>\n",
       "  <tbody>\n",
       "    <tr>\n",
       "      <th>1</th>\n",
       "      <td>Honor</td>\n",
       "      <td>Android</td>\n",
       "      <td>17.30</td>\n",
       "      <td>yes</td>\n",
       "      <td>yes</td>\n",
       "      <td>13.0</td>\n",
       "      <td>16.0</td>\n",
       "      <td>128.0</td>\n",
       "      <td>8.0</td>\n",
       "      <td>4300.0</td>\n",
       "      <td>213.0</td>\n",
       "      <td>2020</td>\n",
       "      <td>325</td>\n",
       "      <td>5.162097</td>\n",
       "      <td>5.519018</td>\n",
       "    </tr>\n",
       "    <tr>\n",
       "      <th>2</th>\n",
       "      <td>Honor</td>\n",
       "      <td>Android</td>\n",
       "      <td>16.69</td>\n",
       "      <td>yes</td>\n",
       "      <td>yes</td>\n",
       "      <td>13.0</td>\n",
       "      <td>8.0</td>\n",
       "      <td>128.0</td>\n",
       "      <td>8.0</td>\n",
       "      <td>4200.0</td>\n",
       "      <td>213.0</td>\n",
       "      <td>2020</td>\n",
       "      <td>162</td>\n",
       "      <td>5.111084</td>\n",
       "      <td>5.884631</td>\n",
       "    </tr>\n",
       "    <tr>\n",
       "      <th>3</th>\n",
       "      <td>Honor</td>\n",
       "      <td>Android</td>\n",
       "      <td>25.50</td>\n",
       "      <td>yes</td>\n",
       "      <td>yes</td>\n",
       "      <td>13.0</td>\n",
       "      <td>8.0</td>\n",
       "      <td>64.0</td>\n",
       "      <td>6.0</td>\n",
       "      <td>7250.0</td>\n",
       "      <td>480.0</td>\n",
       "      <td>2020</td>\n",
       "      <td>345</td>\n",
       "      <td>5.135387</td>\n",
       "      <td>5.630961</td>\n",
       "    </tr>\n",
       "    <tr>\n",
       "      <th>4</th>\n",
       "      <td>Honor</td>\n",
       "      <td>Android</td>\n",
       "      <td>15.32</td>\n",
       "      <td>yes</td>\n",
       "      <td>no</td>\n",
       "      <td>13.0</td>\n",
       "      <td>8.0</td>\n",
       "      <td>64.0</td>\n",
       "      <td>3.0</td>\n",
       "      <td>5000.0</td>\n",
       "      <td>185.0</td>\n",
       "      <td>2020</td>\n",
       "      <td>293</td>\n",
       "      <td>4.389995</td>\n",
       "      <td>4.947837</td>\n",
       "    </tr>\n",
       "    <tr>\n",
       "      <th>5</th>\n",
       "      <td>Honor</td>\n",
       "      <td>Android</td>\n",
       "      <td>16.23</td>\n",
       "      <td>yes</td>\n",
       "      <td>no</td>\n",
       "      <td>13.0</td>\n",
       "      <td>8.0</td>\n",
       "      <td>64.0</td>\n",
       "      <td>4.0</td>\n",
       "      <td>4000.0</td>\n",
       "      <td>176.0</td>\n",
       "      <td>2020</td>\n",
       "      <td>223</td>\n",
       "      <td>4.413889</td>\n",
       "      <td>5.060694</td>\n",
       "    </tr>\n",
       "  </tbody>\n",
       "</table>\n",
       "</div>"
      ],
      "text/plain": [
       "  brand_name       os  screen_size   4g   5g  main_camera_mp  selfie_camera_mp  int_memory  ram  battery  weight  release_year  days_used  normalized_used_price  normalized_new_price\n",
       "1      Honor  Android        17.30  yes  yes            13.0              16.0       128.0  8.0   4300.0   213.0          2020        325               5.162097              5.519018\n",
       "2      Honor  Android        16.69  yes  yes            13.0               8.0       128.0  8.0   4200.0   213.0          2020        162               5.111084              5.884631\n",
       "3      Honor  Android        25.50  yes  yes            13.0               8.0        64.0  6.0   7250.0   480.0          2020        345               5.135387              5.630961\n",
       "4      Honor  Android        15.32  yes   no            13.0               8.0        64.0  3.0   5000.0   185.0          2020        293               4.389995              4.947837\n",
       "5      Honor  Android        16.23  yes   no            13.0               8.0        64.0  4.0   4000.0   176.0          2020        223               4.413889              5.060694"
      ]
     },
     "execution_count": 31,
     "metadata": {},
     "output_type": "execute_result"
    },
    {
     "data": {
      "application/javascript": [
       "\n",
       "            setTimeout(function() {\n",
       "                var nbb_cell_id = 31;\n",
       "                var nbb_unformatted_code = \"# Converting 6 inches to centimeters, I will multiply 6 * 2.54 == 15.24cm\\n\\n# creating a column for screen sizes larger than 15.24cm, I will use the code below:\\n\\ndf_screen_greater1524 = df[df.screen_size > 15.24]\\ndf_screen_greater1524.head()\";\n",
       "                var nbb_formatted_code = \"# Converting 6 inches to centimeters, I will multiply 6 * 2.54 == 15.24cm\\n\\n# creating a column for screen sizes larger than 15.24cm, I will use the code below:\\n\\ndf_screen_greater1524 = df[df.screen_size > 15.24]\\ndf_screen_greater1524.head()\";\n",
       "                var nbb_cells = Jupyter.notebook.get_cells();\n",
       "                for (var i = 0; i < nbb_cells.length; ++i) {\n",
       "                    if (nbb_cells[i].input_prompt_number == nbb_cell_id) {\n",
       "                        if (nbb_cells[i].get_text() == nbb_unformatted_code) {\n",
       "                             nbb_cells[i].set_text(nbb_formatted_code);\n",
       "                        }\n",
       "                        break;\n",
       "                    }\n",
       "                }\n",
       "            }, 500);\n",
       "            "
      ],
      "text/plain": [
       "<IPython.core.display.Javascript object>"
      ]
     },
     "metadata": {},
     "output_type": "display_data"
    }
   ],
   "source": [
    "# Converting 6 inches to centimeters, I will multiply 6 * 2.54 == 15.24cm\n",
    "\n",
    "# creating a column for screen sizes larger than 15.24cm, I will use the code below:\n",
    "\n",
    "df_screen_greater1524 = df[df.screen_size > 15.24]\n",
    "df_screen_greater1524.head()"
   ]
  },
  {
   "cell_type": "code",
   "execution_count": 32,
   "metadata": {},
   "outputs": [
    {
     "data": {
      "image/png": "[encoded data removed]",
      "text/plain": [
       "<Figure size 864x432 with 1 Axes>"
      ]
     },
     "metadata": {},
     "output_type": "display_data"
    },
    {
     "data": {
      "application/javascript": [
       "\n",
       "            setTimeout(function() {\n",
       "                var nbb_cell_id = 32;\n",
       "                var nbb_unformatted_code = \"labeled_barplot(df_screen_greater1524, \\\"brand_name\\\", perc=True, n=10)\";\n",
       "                var nbb_formatted_code = \"labeled_barplot(df_screen_greater1524, \\\"brand_name\\\", perc=True, n=10)\";\n",
       "                var nbb_cells = Jupyter.notebook.get_cells();\n",
       "                for (var i = 0; i < nbb_cells.length; ++i) {\n",
       "                    if (nbb_cells[i].input_prompt_number == nbb_cell_id) {\n",
       "                        if (nbb_cells[i].get_text() == nbb_unformatted_code) {\n",
       "                             nbb_cells[i].set_text(nbb_formatted_code);\n",
       "                        }\n",
       "                        break;\n",
       "                    }\n",
       "                }\n",
       "            }, 500);\n",
       "            "
      ],
      "text/plain": [
       "<IPython.core.display.Javascript object>"
      ]
     },
     "metadata": {},
     "output_type": "display_data"
    }
   ],
   "source": [
    "labeled_barplot(df_screen_greater1524, \"brand_name\", perc=True, n=10)"
   ]
  },
  {
   "cell_type": "code",
   "execution_count": 33,
   "metadata": {},
   "outputs": [
    {
     "data": {
      "text/plain": [
       "(1099, 15)"
      ]
     },
     "execution_count": 33,
     "metadata": {},
     "output_type": "execute_result"
    },
    {
     "data": {
      "application/javascript": [
       "\n",
       "            setTimeout(function() {\n",
       "                var nbb_cell_id = 33;\n",
       "                var nbb_unformatted_code = \"df_screen_greater1524.shape\";\n",
       "                var nbb_formatted_code = \"df_screen_greater1524.shape\";\n",
       "                var nbb_cells = Jupyter.notebook.get_cells();\n",
       "                for (var i = 0; i < nbb_cells.length; ++i) {\n",
       "                    if (nbb_cells[i].input_prompt_number == nbb_cell_id) {\n",
       "                        if (nbb_cells[i].get_text() == nbb_unformatted_code) {\n",
       "                             nbb_cells[i].set_text(nbb_formatted_code);\n",
       "                        }\n",
       "                        break;\n",
       "                    }\n",
       "                }\n",
       "            }, 500);\n",
       "            "
      ],
      "text/plain": [
       "<IPython.core.display.Javascript object>"
      ]
     },
     "metadata": {},
     "output_type": "display_data"
    }
   ],
   "source": [
    "df_screen_greater1524.shape"
   ]
  },
  {
   "cell_type": "markdown",
   "metadata": {},
   "source": [
    "- There are 1099 phones that has screen size bigger than 6 inches."
   ]
  },
  {
   "cell_type": "markdown",
   "metadata": {},
   "source": [
    "#### 6. A lot of devices nowadays offer great selfie cameras, allowing us to capture our favorite moments with loved ones. What is the distribution of devices offering greater than 8MP selfie cameras across brands?"
   ]
  },
  {
   "cell_type": "code",
   "execution_count": 34,
   "metadata": {},
   "outputs": [
    {
     "data": {
      "text/plain": [
       "(655, 15)"
      ]
     },
     "execution_count": 34,
     "metadata": {},
     "output_type": "execute_result"
    },
    {
     "data": {
      "application/javascript": [
       "\n",
       "            setTimeout(function() {\n",
       "                var nbb_cell_id = 34;\n",
       "                var nbb_unformatted_code = \"df_selfie_camera = df[df.selfie_camera_mp > 8]\\ndf_selfie_camera.shape\";\n",
       "                var nbb_formatted_code = \"df_selfie_camera = df[df.selfie_camera_mp > 8]\\ndf_selfie_camera.shape\";\n",
       "                var nbb_cells = Jupyter.notebook.get_cells();\n",
       "                for (var i = 0; i < nbb_cells.length; ++i) {\n",
       "                    if (nbb_cells[i].input_prompt_number == nbb_cell_id) {\n",
       "                        if (nbb_cells[i].get_text() == nbb_unformatted_code) {\n",
       "                             nbb_cells[i].set_text(nbb_formatted_code);\n",
       "                        }\n",
       "                        break;\n",
       "                    }\n",
       "                }\n",
       "            }, 500);\n",
       "            "
      ],
      "text/plain": [
       "<IPython.core.display.Javascript object>"
      ]
     },
     "metadata": {},
     "output_type": "display_data"
    }
   ],
   "source": [
    "df_selfie_camera = df[df.selfie_camera_mp > 8]\n",
    "df_selfie_camera.shape"
   ]
  },
  {
   "cell_type": "code",
   "execution_count": 35,
   "metadata": {},
   "outputs": [
    {
     "data": {
      "image/png": "[encoded data removed]",
      "text/plain": [
       "<Figure size 864x432 with 1 Axes>"
      ]
     },
     "metadata": {},
     "output_type": "display_data"
    },
    {
     "data": {
      "application/javascript": [
       "\n",
       "            setTimeout(function() {\n",
       "                var nbb_cell_id = 35;\n",
       "                var nbb_unformatted_code = \"labeled_barplot(df_selfie_camera, \\\"brand_name\\\", perc=True, n=10)\";\n",
       "                var nbb_formatted_code = \"labeled_barplot(df_selfie_camera, \\\"brand_name\\\", perc=True, n=10)\";\n",
       "                var nbb_cells = Jupyter.notebook.get_cells();\n",
       "                for (var i = 0; i < nbb_cells.length; ++i) {\n",
       "                    if (nbb_cells[i].input_prompt_number == nbb_cell_id) {\n",
       "                        if (nbb_cells[i].get_text() == nbb_unformatted_code) {\n",
       "                             nbb_cells[i].set_text(nbb_formatted_code);\n",
       "                        }\n",
       "                        break;\n",
       "                    }\n",
       "                }\n",
       "            }, 500);\n",
       "            "
      ],
      "text/plain": [
       "<IPython.core.display.Javascript object>"
      ]
     },
     "metadata": {},
     "output_type": "display_data"
    }
   ],
   "source": [
    "labeled_barplot(df_selfie_camera, \"brand_name\", perc=True, n=10)"
   ]
  },
  {
   "cell_type": "markdown",
   "metadata": {},
   "source": [
    "- There are 655 devices that offer and selfie camera greater than 8MP.\n",
    "- Huawei is leading with a value of 13.3% while Meizu is lagging with a value of 3.7%"
   ]
  },
  {
   "cell_type": "markdown",
   "metadata": {},
   "source": [
    "#### 7. Which attributes are highly correlated with the normalized price of a used device?"
   ]
  },
  {
   "cell_type": "code",
   "execution_count": 36,
   "metadata": {},
   "outputs": [
    {
     "data": {
      "image/png": "[encoded data removed]",
      "text/plain": [
       "<Figure size 1080x504 with 2 Axes>"
      ]
     },
     "metadata": {},
     "output_type": "display_data"
    },
    {
     "data": {
      "application/javascript": [
       "\n",
       "            setTimeout(function() {\n",
       "                var nbb_cell_id = 36;\n",
       "                var nbb_unformatted_code = \"cols_list = df.select_dtypes(include=np.number).columns.tolist()\\n\\nplt.figure(figsize=(15, 7))\\nsns.heatmap(df[cols_list].corr(), annot=True, vmin=-1, vmax=1, fmt=\\\".2f\\\", cmap=\\\"Spectral\\\")\\nplt.show()\";\n",
       "                var nbb_formatted_code = \"cols_list = df.select_dtypes(include=np.number).columns.tolist()\\n\\nplt.figure(figsize=(15, 7))\\nsns.heatmap(\\n    df[cols_list].corr(), annot=True, vmin=-1, vmax=1, fmt=\\\".2f\\\", cmap=\\\"Spectral\\\"\\n)\\nplt.show()\";\n",
       "                var nbb_cells = Jupyter.notebook.get_cells();\n",
       "                for (var i = 0; i < nbb_cells.length; ++i) {\n",
       "                    if (nbb_cells[i].input_prompt_number == nbb_cell_id) {\n",
       "                        if (nbb_cells[i].get_text() == nbb_unformatted_code) {\n",
       "                             nbb_cells[i].set_text(nbb_formatted_code);\n",
       "                        }\n",
       "                        break;\n",
       "                    }\n",
       "                }\n",
       "            }, 500);\n",
       "            "
      ],
      "text/plain": [
       "<IPython.core.display.Javascript object>"
      ]
     },
     "metadata": {},
     "output_type": "display_data"
    }
   ],
   "source": [
    "cols_list = df.select_dtypes(include=np.number).columns.tolist()\n",
    "\n",
    "plt.figure(figsize=(15, 7))\n",
    "sns.heatmap(\n",
    "    df[cols_list].corr(), annot=True, vmin=-1, vmax=1, fmt=\".2f\", cmap=\"Spectral\"\n",
    ")\n",
    "plt.show()"
   ]
  },
  {
   "cell_type": "markdown",
   "metadata": {},
   "source": [
    "- The following columns are highly correlated with normalized used price:\n",
    "    - Normalized new price\n",
    "    - Battery\n",
    "    - Ram\n",
    "    - Selfie camera\n",
    "    - Main camera\n",
    "    - Screen size"
   ]
  },
  {
   "cell_type": "markdown",
   "metadata": {
    "id": "pVn5toJ7MKte"
   },
   "source": [
    "## Data Preprocessing"
   ]
  },
  {
   "cell_type": "markdown",
   "metadata": {
    "id": "YcceZiPd5vGV"
   },
   "source": [
    "- Missing value treatment\n",
    "- Feature engineering (if needed)\n",
    "- Outlier detection and treatment (if needed)\n",
    "- Preparing data for modeling\n",
    "- Any other preprocessing steps (if needed)"
   ]
  },
  {
   "cell_type": "markdown",
   "metadata": {
    "id": "zUi6E9EUMKth"
   },
   "source": [
    "### Missing Value Treatment\n",
    "\n",
    "- We will impute the missing values in the data by the column medians grouped by `brand_name`."
   ]
  },
  {
   "cell_type": "code",
   "execution_count": 37,
   "metadata": {},
   "outputs": [
    {
     "data": {
      "application/javascript": [
       "\n",
       "            setTimeout(function() {\n",
       "                var nbb_cell_id = 37;\n",
       "                var nbb_unformatted_code = \"# First I create a copy of the data\\ndf1 = df.copy()\";\n",
       "                var nbb_formatted_code = \"# First I create a copy of the data\\ndf1 = df.copy()\";\n",
       "                var nbb_cells = Jupyter.notebook.get_cells();\n",
       "                for (var i = 0; i < nbb_cells.length; ++i) {\n",
       "                    if (nbb_cells[i].input_prompt_number == nbb_cell_id) {\n",
       "                        if (nbb_cells[i].get_text() == nbb_unformatted_code) {\n",
       "                             nbb_cells[i].set_text(nbb_formatted_code);\n",
       "                        }\n",
       "                        break;\n",
       "                    }\n",
       "                }\n",
       "            }, 500);\n",
       "            "
      ],
      "text/plain": [
       "<IPython.core.display.Javascript object>"
      ]
     },
     "metadata": {},
     "output_type": "display_data"
    }
   ],
   "source": [
    "# First I create a copy of the data\n",
    "df1 = df.copy()"
   ]
  },
  {
   "cell_type": "code",
   "execution_count": 38,
   "metadata": {},
   "outputs": [
    {
     "data": {
      "text/plain": [
       "brand_name                 0\n",
       "os                         0\n",
       "screen_size                0\n",
       "4g                         0\n",
       "5g                         0\n",
       "main_camera_mp           179\n",
       "selfie_camera_mp           2\n",
       "int_memory                 4\n",
       "ram                        4\n",
       "battery                    6\n",
       "weight                     7\n",
       "release_year               0\n",
       "days_used                  0\n",
       "normalized_used_price      0\n",
       "normalized_new_price       0\n",
       "dtype: int64"
      ]
     },
     "execution_count": 38,
     "metadata": {},
     "output_type": "execute_result"
    },
    {
     "data": {
      "application/javascript": [
       "\n",
       "            setTimeout(function() {\n",
       "                var nbb_cell_id = 38;\n",
       "                var nbb_unformatted_code = \"# checking for missing values\\ndf1.isnull().sum()\";\n",
       "                var nbb_formatted_code = \"# checking for missing values\\ndf1.isnull().sum()\";\n",
       "                var nbb_cells = Jupyter.notebook.get_cells();\n",
       "                for (var i = 0; i < nbb_cells.length; ++i) {\n",
       "                    if (nbb_cells[i].input_prompt_number == nbb_cell_id) {\n",
       "                        if (nbb_cells[i].get_text() == nbb_unformatted_code) {\n",
       "                             nbb_cells[i].set_text(nbb_formatted_code);\n",
       "                        }\n",
       "                        break;\n",
       "                    }\n",
       "                }\n",
       "            }, 500);\n",
       "            "
      ],
      "text/plain": [
       "<IPython.core.display.Javascript object>"
      ]
     },
     "metadata": {},
     "output_type": "display_data"
    }
   ],
   "source": [
    "# checking for missing values\n",
    "df1.isnull().sum()"
   ]
  },
  {
   "cell_type": "code",
   "execution_count": 39,
   "metadata": {},
   "outputs": [
    {
     "data": {
      "text/plain": [
       "brand_name                0\n",
       "os                        0\n",
       "screen_size               0\n",
       "4g                        0\n",
       "5g                        0\n",
       "main_camera_mp           10\n",
       "selfie_camera_mp          0\n",
       "int_memory                0\n",
       "ram                       0\n",
       "battery                   0\n",
       "weight                    0\n",
       "release_year              0\n",
       "days_used                 0\n",
       "normalized_used_price     0\n",
       "normalized_new_price      0\n",
       "dtype: int64"
      ]
     },
     "execution_count": 39,
     "metadata": {},
     "output_type": "execute_result"
    },
    {
     "data": {
      "application/javascript": [
       "\n",
       "            setTimeout(function() {\n",
       "                var nbb_cell_id = 39;\n",
       "                var nbb_unformatted_code = \"# Inputing all the columns with missing data in a list.\\n\\ncols_impute = [\\n    \\\"main_camera_mp\\\",\\n    \\\"selfie_camera_mp\\\",\\n    \\\"int_memory\\\",\\n    \\\"ram\\\",\\n    \\\"battery\\\",\\n    \\\"weight\\\",\\n]\\n\\nfor col in cols_impute:\\n    df1[col] = df1[col].fillna(value=df1.groupby([\\\"brand_name\\\"])[col].transform(\\\"median\\\"))\\n\\n# checking for missing values\\ndf1.isnull().sum()\";\n",
       "                var nbb_formatted_code = \"# Inputing all the columns with missing data in a list.\\n\\ncols_impute = [\\n    \\\"main_camera_mp\\\",\\n    \\\"selfie_camera_mp\\\",\\n    \\\"int_memory\\\",\\n    \\\"ram\\\",\\n    \\\"battery\\\",\\n    \\\"weight\\\",\\n]\\n\\nfor col in cols_impute:\\n    df1[col] = df1[col].fillna(\\n        value=df1.groupby([\\\"brand_name\\\"])[col].transform(\\\"median\\\")\\n    )\\n\\n# checking for missing values\\ndf1.isnull().sum()\";\n",
       "                var nbb_cells = Jupyter.notebook.get_cells();\n",
       "                for (var i = 0; i < nbb_cells.length; ++i) {\n",
       "                    if (nbb_cells[i].input_prompt_number == nbb_cell_id) {\n",
       "                        if (nbb_cells[i].get_text() == nbb_unformatted_code) {\n",
       "                             nbb_cells[i].set_text(nbb_formatted_code);\n",
       "                        }\n",
       "                        break;\n",
       "                    }\n",
       "                }\n",
       "            }, 500);\n",
       "            "
      ],
      "text/plain": [
       "<IPython.core.display.Javascript object>"
      ]
     },
     "metadata": {},
     "output_type": "display_data"
    }
   ],
   "source": [
    "# Inputing all the columns with missing data in a list.\n",
    "\n",
    "cols_impute = [\n",
    "    \"main_camera_mp\",\n",
    "    \"selfie_camera_mp\",\n",
    "    \"int_memory\",\n",
    "    \"ram\",\n",
    "    \"battery\",\n",
    "    \"weight\",\n",
    "]\n",
    "\n",
    "for col in cols_impute:\n",
    "    df1[col] = df1[col].fillna(\n",
    "        value=df1.groupby([\"brand_name\"])[col].transform(\"median\")\n",
    "    )\n",
    "\n",
    "# checking for missing values\n",
    "df1.isnull().sum()"
   ]
  },
  {
   "cell_type": "markdown",
   "metadata": {},
   "source": [
    "- We will fill the remaining missing values in the `main_camera_mp` column by the column median."
   ]
  },
  {
   "cell_type": "code",
   "execution_count": 40,
   "metadata": {},
   "outputs": [
    {
     "data": {
      "text/plain": [
       "brand_name               0\n",
       "os                       0\n",
       "screen_size              0\n",
       "4g                       0\n",
       "5g                       0\n",
       "main_camera_mp           0\n",
       "selfie_camera_mp         0\n",
       "int_memory               0\n",
       "ram                      0\n",
       "battery                  0\n",
       "weight                   0\n",
       "release_year             0\n",
       "days_used                0\n",
       "normalized_used_price    0\n",
       "normalized_new_price     0\n",
       "dtype: int64"
      ]
     },
     "execution_count": 40,
     "metadata": {},
     "output_type": "execute_result"
    },
    {
     "data": {
      "application/javascript": [
       "\n",
       "            setTimeout(function() {\n",
       "                var nbb_cell_id = 40;\n",
       "                var nbb_unformatted_code = \"df1[\\\"main_camera_mp\\\"] = df1[\\\"main_camera_mp\\\"].fillna(df1[\\\"main_camera_mp\\\"].median)  \\n\\n# checking for missing values\\ndf1.isnull().sum()\";\n",
       "                var nbb_formatted_code = \"df1[\\\"main_camera_mp\\\"] = df1[\\\"main_camera_mp\\\"].fillna(df1[\\\"main_camera_mp\\\"].median)\\n\\n# checking for missing values\\ndf1.isnull().sum()\";\n",
       "                var nbb_cells = Jupyter.notebook.get_cells();\n",
       "                for (var i = 0; i < nbb_cells.length; ++i) {\n",
       "                    if (nbb_cells[i].input_prompt_number == nbb_cell_id) {\n",
       "                        if (nbb_cells[i].get_text() == nbb_unformatted_code) {\n",
       "                             nbb_cells[i].set_text(nbb_formatted_code);\n",
       "                        }\n",
       "                        break;\n",
       "                    }\n",
       "                }\n",
       "            }, 500);\n",
       "            "
      ],
      "text/plain": [
       "<IPython.core.display.Javascript object>"
      ]
     },
     "metadata": {},
     "output_type": "display_data"
    }
   ],
   "source": [
    "df1[\"main_camera_mp\"] = df1[\"main_camera_mp\"].fillna(df1[\"main_camera_mp\"].median)\n",
    "\n",
    "# checking for missing values\n",
    "df1.isnull().sum()"
   ]
  },
  {
   "cell_type": "markdown",
   "metadata": {},
   "source": [
    "- There are currently no missing values again."
   ]
  },
  {
   "cell_type": "markdown",
   "metadata": {},
   "source": [
    "#### Feature engineering (if needed)\n",
    "\n",
    "   - I will create a column for 'device_age' from 'release_year' column using 2021 as my stopping point.\n",
    "   - Then I will drop the 'release_year' column."
   ]
  },
  {
   "cell_type": "code",
   "execution_count": 43,
   "metadata": {},
   "outputs": [
    {
     "data": {
      "text/plain": [
       "0    1\n",
       "1    1\n",
       "2    1\n",
       "3    1\n",
       "4    1\n",
       "Name: device_age, dtype: int64"
      ]
     },
     "execution_count": 43,
     "metadata": {},
     "output_type": "execute_result"
    },
    {
     "data": {
      "application/javascript": [
       "\n",
       "            setTimeout(function() {\n",
       "                var nbb_cell_id = 43;\n",
       "                var nbb_unformatted_code = \"df1[\\\"device_age\\\"] = 2021 - df1[\\\"release_year\\\"]\\ndf1[\\\"device_age\\\"].head()\";\n",
       "                var nbb_formatted_code = \"df1[\\\"device_age\\\"] = 2021 - df1[\\\"release_year\\\"]\\ndf1[\\\"device_age\\\"].head()\";\n",
       "                var nbb_cells = Jupyter.notebook.get_cells();\n",
       "                for (var i = 0; i < nbb_cells.length; ++i) {\n",
       "                    if (nbb_cells[i].input_prompt_number == nbb_cell_id) {\n",
       "                        if (nbb_cells[i].get_text() == nbb_unformatted_code) {\n",
       "                             nbb_cells[i].set_text(nbb_formatted_code);\n",
       "                        }\n",
       "                        break;\n",
       "                    }\n",
       "                }\n",
       "            }, 500);\n",
       "            "
      ],
      "text/plain": [
       "<IPython.core.display.Javascript object>"
      ]
     },
     "metadata": {},
     "output_type": "display_data"
    }
   ],
   "source": [
    "df1[\"device_age\"] = 2021 - df1[\"release_year\"]\n",
    "df1[\"device_age\"].head()"
   ]
  },
  {
   "cell_type": "markdown",
   "metadata": {},
   "source": [
    "#### Outlier detection and treatment (if needed)\n",
    "\n",
    "- Let's check for outliers in the data"
   ]
  },
  {
   "cell_type": "code",
   "execution_count": 46,
   "metadata": {},
   "outputs": [
    {
     "data": {
      "image/png": "[encoded data removed]",
      "text/plain": [
       "<Figure size 1080x1080 with 10 Axes>"
      ]
     },
     "metadata": {},
     "output_type": "display_data"
    },
    {
     "data": {
      "application/javascript": [
       "\n",
       "            setTimeout(function() {\n",
       "                var nbb_cell_id = 46;\n",
       "                var nbb_unformatted_code = \"# outlier detection using boxplot\\nnum_cols = df1.select_dtypes(include=np.number).columns.tolist()\\n\\nplt.figure(figsize=(15, 15))\\n\\nfor i, variable in enumerate(num_cols):\\n    plt.subplot(4, 3, i + 1)\\n    sns.boxplot(data=df1, x=variable)\\n    plt.tight_layout(pad=2)\\n\\nplt.show()\";\n",
       "                var nbb_formatted_code = \"# outlier detection using boxplot\\nnum_cols = df1.select_dtypes(include=np.number).columns.tolist()\\n\\nplt.figure(figsize=(15, 15))\\n\\nfor i, variable in enumerate(num_cols):\\n    plt.subplot(4, 3, i + 1)\\n    sns.boxplot(data=df1, x=variable)\\n    plt.tight_layout(pad=2)\\n\\nplt.show()\";\n",
       "                var nbb_cells = Jupyter.notebook.get_cells();\n",
       "                for (var i = 0; i < nbb_cells.length; ++i) {\n",
       "                    if (nbb_cells[i].input_prompt_number == nbb_cell_id) {\n",
       "                        if (nbb_cells[i].get_text() == nbb_unformatted_code) {\n",
       "                             nbb_cells[i].set_text(nbb_formatted_code);\n",
       "                        }\n",
       "                        break;\n",
       "                    }\n",
       "                }\n",
       "            }, 500);\n",
       "            "
      ],
      "text/plain": [
       "<IPython.core.display.Javascript object>"
      ]
     },
     "metadata": {},
     "output_type": "display_data"
    }
   ],
   "source": [
    "# outlier detection using boxplot\n",
    "num_cols = df1.select_dtypes(include=np.number).columns.tolist()\n",
    "\n",
    "plt.figure(figsize=(15, 15))\n",
    "\n",
    "for i, variable in enumerate(num_cols):\n",
    "    plt.subplot(4, 3, i + 1)\n",
    "    sns.boxplot(data=df1, x=variable)\n",
    "    plt.tight_layout(pad=2)\n",
    "\n",
    "plt.show()"
   ]
  },
  {
   "cell_type": "markdown",
   "metadata": {},
   "source": [
    "- There are outliers in the data. Only days used and device age has no outliers."
   ]
  },
  {
   "cell_type": "markdown",
   "metadata": {},
   "source": [
    "#### Preparing data for modeling\n",
    "\n",
    "- We want to predict the normalized price of used devices\n",
    "- Before we proceed to build a model, we'll have to encode categorical features\n",
    "- We'll split the data into train and test to be able to evaluate the model that we build on the train data\n",
    "- We will build a Linear Regression model using the train data and then check it's performance"
   ]
  },
  {
   "cell_type": "code",
   "execution_count": 47,
   "metadata": {},
   "outputs": [
    {
     "name": "stdout",
     "output_type": "stream",
     "text": [
      "  brand_name       os  screen_size   4g   5g main_camera_mp  selfie_camera_mp  int_memory  ram  battery  weight  days_used  normalized_new_price  device_age\n",
      "0      Honor  Android        14.50  yes   no           13.0               5.0        64.0  3.0   3020.0   146.0        127              4.715100           1\n",
      "1      Honor  Android        17.30  yes  yes           13.0              16.0       128.0  8.0   4300.0   213.0        325              5.519018           1\n",
      "2      Honor  Android        16.69  yes  yes           13.0               8.0       128.0  8.0   4200.0   213.0        162              5.884631           1\n",
      "3      Honor  Android        25.50  yes  yes           13.0               8.0        64.0  6.0   7250.0   480.0        345              5.630961           1\n",
      "4      Honor  Android        15.32  yes   no           13.0               8.0        64.0  3.0   5000.0   185.0        293              4.947837           1\n",
      "\n",
      "0    4.307572\n",
      "1    5.162097\n",
      "2    5.111084\n",
      "3    5.135387\n",
      "4    4.389995\n",
      "Name: normalized_used_price, dtype: float64\n"
     ]
    },
    {
     "data": {
      "application/javascript": [
       "\n",
       "            setTimeout(function() {\n",
       "                var nbb_cell_id = 47;\n",
       "                var nbb_unformatted_code = \"# splitting the data into the dependent and independent variables\\nX = df1.drop([\\\"normalized_used_price\\\"], axis=1)\\ny = df1[\\\"normalized_used_price\\\"]\\n\\nprint(X.head())\\nprint()\\nprint(y.head())\";\n",
       "                var nbb_formatted_code = \"# splitting the data into the dependent and independent variables\\nX = df1.drop([\\\"normalized_used_price\\\"], axis=1)\\ny = df1[\\\"normalized_used_price\\\"]\\n\\nprint(X.head())\\nprint()\\nprint(y.head())\";\n",
       "                var nbb_cells = Jupyter.notebook.get_cells();\n",
       "                for (var i = 0; i < nbb_cells.length; ++i) {\n",
       "                    if (nbb_cells[i].input_prompt_number == nbb_cell_id) {\n",
       "                        if (nbb_cells[i].get_text() == nbb_unformatted_code) {\n",
       "                             nbb_cells[i].set_text(nbb_formatted_code);\n",
       "                        }\n",
       "                        break;\n",
       "                    }\n",
       "                }\n",
       "            }, 500);\n",
       "            "
      ],
      "text/plain": [
       "<IPython.core.display.Javascript object>"
      ]
     },
     "metadata": {},
     "output_type": "display_data"
    }
   ],
   "source": [
    "# splitting the data into the dependent and independent variables\n",
    "X = df1.drop([\"normalized_used_price\"], axis=1)\n",
    "y = df1[\"normalized_used_price\"]\n",
    "\n",
    "print(X.head())\n",
    "print()\n",
    "print(y.head())"
   ]
  },
  {
   "cell_type": "code",
   "execution_count": 48,
   "metadata": {},
   "outputs": [
    {
     "data": {
      "application/javascript": [
       "\n",
       "            setTimeout(function() {\n",
       "                var nbb_cell_id = 48;\n",
       "                var nbb_unformatted_code = \"# let's add the intercept to data\\nX = sm.add_constant(X)\";\n",
       "                var nbb_formatted_code = \"# let's add the intercept to data\\nX = sm.add_constant(X)\";\n",
       "                var nbb_cells = Jupyter.notebook.get_cells();\n",
       "                for (var i = 0; i < nbb_cells.length; ++i) {\n",
       "                    if (nbb_cells[i].input_prompt_number == nbb_cell_id) {\n",
       "                        if (nbb_cells[i].get_text() == nbb_unformatted_code) {\n",
       "                             nbb_cells[i].set_text(nbb_formatted_code);\n",
       "                        }\n",
       "                        break;\n",
       "                    }\n",
       "                }\n",
       "            }, 500);\n",
       "            "
      ],
      "text/plain": [
       "<IPython.core.display.Javascript object>"
      ]
     },
     "metadata": {},
     "output_type": "display_data"
    }
   ],
   "source": [
    "# let's add the intercept to data\n",
    "X = sm.add_constant(X)"
   ]
  },
  {
   "cell_type": "code",
   "execution_count": 54,
   "metadata": {},
   "outputs": [
    {
     "data": {
      "text/html": [
       "<div>\n",
       "<style scoped>\n",
       "    .dataframe tbody tr th:only-of-type {\n",
       "        vertical-align: middle;\n",
       "    }\n",
       "\n",
       "    .dataframe tbody tr th {\n",
       "        vertical-align: top;\n",
       "    }\n",
       "\n",
       "    .dataframe thead th {\n",
       "        text-align: right;\n",
       "    }\n",
       "</style>\n",
       "<table border=\"1\" class=\"dataframe\">\n",
       "  <thead>\n",
       "    <tr style=\"text-align: right;\">\n",
       "      <th></th>\n",
       "      <th>const</th>\n",
       "      <th>screen_size</th>\n",
       "      <th>selfie_camera_mp</th>\n",
       "      <th>int_memory</th>\n",
       "      <th>ram</th>\n",
       "      <th>battery</th>\n",
       "      <th>weight</th>\n",
       "      <th>days_used</th>\n",
       "      <th>normalized_new_price</th>\n",
       "      <th>device_age</th>\n",
       "      <th>brand_name_Alcatel</th>\n",
       "      <th>brand_name_Apple</th>\n",
       "      <th>brand_name_Asus</th>\n",
       "      <th>brand_name_BlackBerry</th>\n",
       "      <th>brand_name_Celkon</th>\n",
       "      <th>brand_name_Coolpad</th>\n",
       "      <th>brand_name_Gionee</th>\n",
       "      <th>brand_name_Google</th>\n",
       "      <th>brand_name_HTC</th>\n",
       "      <th>brand_name_Honor</th>\n",
       "      <th>brand_name_Huawei</th>\n",
       "      <th>brand_name_Infinix</th>\n",
       "      <th>brand_name_Karbonn</th>\n",
       "      <th>brand_name_LG</th>\n",
       "      <th>brand_name_Lava</th>\n",
       "      <th>brand_name_Lenovo</th>\n",
       "      <th>brand_name_Meizu</th>\n",
       "      <th>brand_name_Micromax</th>\n",
       "      <th>brand_name_Microsoft</th>\n",
       "      <th>brand_name_Motorola</th>\n",
       "      <th>brand_name_Nokia</th>\n",
       "      <th>brand_name_OnePlus</th>\n",
       "      <th>brand_name_Oppo</th>\n",
       "      <th>brand_name_Others</th>\n",
       "      <th>brand_name_Panasonic</th>\n",
       "      <th>brand_name_Realme</th>\n",
       "      <th>brand_name_Samsung</th>\n",
       "      <th>brand_name_Sony</th>\n",
       "      <th>brand_name_Spice</th>\n",
       "      <th>brand_name_Vivo</th>\n",
       "      <th>brand_name_XOLO</th>\n",
       "      <th>brand_name_Xiaomi</th>\n",
       "      <th>brand_name_ZTE</th>\n",
       "      <th>os_Others</th>\n",
       "      <th>os_Windows</th>\n",
       "      <th>os_iOS</th>\n",
       "      <th>4g_yes</th>\n",
       "      <th>5g_yes</th>\n",
       "      <th>main_camera_mp_8.0</th>\n",
       "      <th>main_camera_mp_5.0</th>\n",
       "      <th>main_camera_mp_10.5</th>\n",
       "      <th>main_camera_mp_3.15</th>\n",
       "      <th>main_camera_mp_&lt;bound method NDFrame._add_numeric_operations.&lt;locals&gt;.median of 0       13.0\\n1       13.0\\n2       13.0\\n3       13.0\\n4       13.0\\n        ... \\n3449    13.0\\n3450    13.0\\n3451    13.0\\n3452    13.0\\n3453    13.0\\nName: main_camera_mp, Length: 3454, dtype: float64&gt;</th>\n",
       "      <th>main_camera_mp_2.0</th>\n",
       "      <th>main_camera_mp_16.0</th>\n",
       "      <th>main_camera_mp_0.3</th>\n",
       "      <th>main_camera_mp_12.0</th>\n",
       "      <th>main_camera_mp_14.5</th>\n",
       "      <th>main_camera_mp_48.0</th>\n",
       "      <th>main_camera_mp_3.0</th>\n",
       "      <th>main_camera_mp_21.0</th>\n",
       "      <th>main_camera_mp_1.3</th>\n",
       "      <th>main_camera_mp_13.1</th>\n",
       "      <th>main_camera_mp_24.0</th>\n",
       "      <th>main_camera_mp_0.08</th>\n",
       "      <th>main_camera_mp_20.7</th>\n",
       "      <th>main_camera_mp_23.0</th>\n",
       "      <th>main_camera_mp_1.0</th>\n",
       "      <th>main_camera_mp_18.0</th>\n",
       "      <th>main_camera_mp_12.2</th>\n",
       "      <th>main_camera_mp_12.3</th>\n",
       "      <th>main_camera_mp_20.0</th>\n",
       "      <th>main_camera_mp_20.2</th>\n",
       "      <th>main_camera_mp_4.0</th>\n",
       "      <th>main_camera_mp_12.5</th>\n",
       "      <th>main_camera_mp_10.0</th>\n",
       "      <th>main_camera_mp_6.5</th>\n",
       "      <th>main_camera_mp_6.7</th>\n",
       "      <th>main_camera_mp_41.0</th>\n",
       "      <th>main_camera_mp_20.1</th>\n",
       "      <th>main_camera_mp_12.6</th>\n",
       "      <th>main_camera_mp_16.3</th>\n",
       "      <th>main_camera_mp_22.6</th>\n",
       "      <th>main_camera_mp_19.0</th>\n",
       "      <th>main_camera_mp_21.5</th>\n",
       "      <th>main_camera_mp_21.2</th>\n",
       "      <th>main_camera_mp_8.1</th>\n",
       "      <th>main_camera_mp_1.2</th>\n",
       "      <th>main_camera_mp_22.5</th>\n",
       "    </tr>\n",
       "  </thead>\n",
       "  <tbody>\n",
       "    <tr>\n",
       "      <th>0</th>\n",
       "      <td>1.0</td>\n",
       "      <td>14.50</td>\n",
       "      <td>5.0</td>\n",
       "      <td>64.0</td>\n",
       "      <td>3.0</td>\n",
       "      <td>3020.0</td>\n",
       "      <td>146.0</td>\n",
       "      <td>127</td>\n",
       "      <td>4.715100</td>\n",
       "      <td>1</td>\n",
       "      <td>0</td>\n",
       "      <td>0</td>\n",
       "      <td>0</td>\n",
       "      <td>0</td>\n",
       "      <td>0</td>\n",
       "      <td>0</td>\n",
       "      <td>0</td>\n",
       "      <td>0</td>\n",
       "      <td>0</td>\n",
       "      <td>1</td>\n",
       "      <td>0</td>\n",
       "      <td>0</td>\n",
       "      <td>0</td>\n",
       "      <td>0</td>\n",
       "      <td>0</td>\n",
       "      <td>0</td>\n",
       "      <td>0</td>\n",
       "      <td>0</td>\n",
       "      <td>0</td>\n",
       "      <td>0</td>\n",
       "      <td>0</td>\n",
       "      <td>0</td>\n",
       "      <td>0</td>\n",
       "      <td>0</td>\n",
       "      <td>0</td>\n",
       "      <td>0</td>\n",
       "      <td>0</td>\n",
       "      <td>0</td>\n",
       "      <td>0</td>\n",
       "      <td>0</td>\n",
       "      <td>0</td>\n",
       "      <td>0</td>\n",
       "      <td>0</td>\n",
       "      <td>0</td>\n",
       "      <td>0</td>\n",
       "      <td>0</td>\n",
       "      <td>1</td>\n",
       "      <td>0</td>\n",
       "      <td>0</td>\n",
       "      <td>0</td>\n",
       "      <td>0</td>\n",
       "      <td>0</td>\n",
       "      <td>0</td>\n",
       "      <td>0</td>\n",
       "      <td>0</td>\n",
       "      <td>0</td>\n",
       "      <td>0</td>\n",
       "      <td>0</td>\n",
       "      <td>0</td>\n",
       "      <td>0</td>\n",
       "      <td>0</td>\n",
       "      <td>0</td>\n",
       "      <td>0</td>\n",
       "      <td>0</td>\n",
       "      <td>0</td>\n",
       "      <td>0</td>\n",
       "      <td>0</td>\n",
       "      <td>0</td>\n",
       "      <td>0</td>\n",
       "      <td>0</td>\n",
       "      <td>0</td>\n",
       "      <td>0</td>\n",
       "      <td>0</td>\n",
       "      <td>0</td>\n",
       "      <td>0</td>\n",
       "      <td>0</td>\n",
       "      <td>0</td>\n",
       "      <td>0</td>\n",
       "      <td>0</td>\n",
       "      <td>0</td>\n",
       "      <td>0</td>\n",
       "      <td>0</td>\n",
       "      <td>0</td>\n",
       "      <td>0</td>\n",
       "      <td>0</td>\n",
       "      <td>0</td>\n",
       "      <td>0</td>\n",
       "      <td>0</td>\n",
       "      <td>0</td>\n",
       "    </tr>\n",
       "    <tr>\n",
       "      <th>1</th>\n",
       "      <td>1.0</td>\n",
       "      <td>17.30</td>\n",
       "      <td>16.0</td>\n",
       "      <td>128.0</td>\n",
       "      <td>8.0</td>\n",
       "      <td>4300.0</td>\n",
       "      <td>213.0</td>\n",
       "      <td>325</td>\n",
       "      <td>5.519018</td>\n",
       "      <td>1</td>\n",
       "      <td>0</td>\n",
       "      <td>0</td>\n",
       "      <td>0</td>\n",
       "      <td>0</td>\n",
       "      <td>0</td>\n",
       "      <td>0</td>\n",
       "      <td>0</td>\n",
       "      <td>0</td>\n",
       "      <td>0</td>\n",
       "      <td>1</td>\n",
       "      <td>0</td>\n",
       "      <td>0</td>\n",
       "      <td>0</td>\n",
       "      <td>0</td>\n",
       "      <td>0</td>\n",
       "      <td>0</td>\n",
       "      <td>0</td>\n",
       "      <td>0</td>\n",
       "      <td>0</td>\n",
       "      <td>0</td>\n",
       "      <td>0</td>\n",
       "      <td>0</td>\n",
       "      <td>0</td>\n",
       "      <td>0</td>\n",
       "      <td>0</td>\n",
       "      <td>0</td>\n",
       "      <td>0</td>\n",
       "      <td>0</td>\n",
       "      <td>0</td>\n",
       "      <td>0</td>\n",
       "      <td>0</td>\n",
       "      <td>0</td>\n",
       "      <td>0</td>\n",
       "      <td>0</td>\n",
       "      <td>0</td>\n",
       "      <td>0</td>\n",
       "      <td>1</td>\n",
       "      <td>1</td>\n",
       "      <td>0</td>\n",
       "      <td>0</td>\n",
       "      <td>0</td>\n",
       "      <td>0</td>\n",
       "      <td>0</td>\n",
       "      <td>0</td>\n",
       "      <td>0</td>\n",
       "      <td>0</td>\n",
       "      <td>0</td>\n",
       "      <td>0</td>\n",
       "      <td>0</td>\n",
       "      <td>0</td>\n",
       "      <td>0</td>\n",
       "      <td>0</td>\n",
       "      <td>0</td>\n",
       "      <td>0</td>\n",
       "      <td>0</td>\n",
       "      <td>0</td>\n",
       "      <td>0</td>\n",
       "      <td>0</td>\n",
       "      <td>0</td>\n",
       "      <td>0</td>\n",
       "      <td>0</td>\n",
       "      <td>0</td>\n",
       "      <td>0</td>\n",
       "      <td>0</td>\n",
       "      <td>0</td>\n",
       "      <td>0</td>\n",
       "      <td>0</td>\n",
       "      <td>0</td>\n",
       "      <td>0</td>\n",
       "      <td>0</td>\n",
       "      <td>0</td>\n",
       "      <td>0</td>\n",
       "      <td>0</td>\n",
       "      <td>0</td>\n",
       "      <td>0</td>\n",
       "      <td>0</td>\n",
       "      <td>0</td>\n",
       "      <td>0</td>\n",
       "      <td>0</td>\n",
       "    </tr>\n",
       "    <tr>\n",
       "      <th>2</th>\n",
       "      <td>1.0</td>\n",
       "      <td>16.69</td>\n",
       "      <td>8.0</td>\n",
       "      <td>128.0</td>\n",
       "      <td>8.0</td>\n",
       "      <td>4200.0</td>\n",
       "      <td>213.0</td>\n",
       "      <td>162</td>\n",
       "      <td>5.884631</td>\n",
       "      <td>1</td>\n",
       "      <td>0</td>\n",
       "      <td>0</td>\n",
       "      <td>0</td>\n",
       "      <td>0</td>\n",
       "      <td>0</td>\n",
       "      <td>0</td>\n",
       "      <td>0</td>\n",
       "      <td>0</td>\n",
       "      <td>0</td>\n",
       "      <td>1</td>\n",
       "      <td>0</td>\n",
       "      <td>0</td>\n",
       "      <td>0</td>\n",
       "      <td>0</td>\n",
       "      <td>0</td>\n",
       "      <td>0</td>\n",
       "      <td>0</td>\n",
       "      <td>0</td>\n",
       "      <td>0</td>\n",
       "      <td>0</td>\n",
       "      <td>0</td>\n",
       "      <td>0</td>\n",
       "      <td>0</td>\n",
       "      <td>0</td>\n",
       "      <td>0</td>\n",
       "      <td>0</td>\n",
       "      <td>0</td>\n",
       "      <td>0</td>\n",
       "      <td>0</td>\n",
       "      <td>0</td>\n",
       "      <td>0</td>\n",
       "      <td>0</td>\n",
       "      <td>0</td>\n",
       "      <td>0</td>\n",
       "      <td>0</td>\n",
       "      <td>0</td>\n",
       "      <td>1</td>\n",
       "      <td>1</td>\n",
       "      <td>0</td>\n",
       "      <td>0</td>\n",
       "      <td>0</td>\n",
       "      <td>0</td>\n",
       "      <td>0</td>\n",
       "      <td>0</td>\n",
       "      <td>0</td>\n",
       "      <td>0</td>\n",
       "      <td>0</td>\n",
       "      <td>0</td>\n",
       "      <td>0</td>\n",
       "      <td>0</td>\n",
       "      <td>0</td>\n",
       "      <td>0</td>\n",
       "      <td>0</td>\n",
       "      <td>0</td>\n",
       "      <td>0</td>\n",
       "      <td>0</td>\n",
       "      <td>0</td>\n",
       "      <td>0</td>\n",
       "      <td>0</td>\n",
       "      <td>0</td>\n",
       "      <td>0</td>\n",
       "      <td>0</td>\n",
       "      <td>0</td>\n",
       "      <td>0</td>\n",
       "      <td>0</td>\n",
       "      <td>0</td>\n",
       "      <td>0</td>\n",
       "      <td>0</td>\n",
       "      <td>0</td>\n",
       "      <td>0</td>\n",
       "      <td>0</td>\n",
       "      <td>0</td>\n",
       "      <td>0</td>\n",
       "      <td>0</td>\n",
       "      <td>0</td>\n",
       "      <td>0</td>\n",
       "      <td>0</td>\n",
       "      <td>0</td>\n",
       "      <td>0</td>\n",
       "    </tr>\n",
       "    <tr>\n",
       "      <th>3</th>\n",
       "      <td>1.0</td>\n",
       "      <td>25.50</td>\n",
       "      <td>8.0</td>\n",
       "      <td>64.0</td>\n",
       "      <td>6.0</td>\n",
       "      <td>7250.0</td>\n",
       "      <td>480.0</td>\n",
       "      <td>345</td>\n",
       "      <td>5.630961</td>\n",
       "      <td>1</td>\n",
       "      <td>0</td>\n",
       "      <td>0</td>\n",
       "      <td>0</td>\n",
       "      <td>0</td>\n",
       "      <td>0</td>\n",
       "      <td>0</td>\n",
       "      <td>0</td>\n",
       "      <td>0</td>\n",
       "      <td>0</td>\n",
       "      <td>1</td>\n",
       "      <td>0</td>\n",
       "      <td>0</td>\n",
       "      <td>0</td>\n",
       "      <td>0</td>\n",
       "      <td>0</td>\n",
       "      <td>0</td>\n",
       "      <td>0</td>\n",
       "      <td>0</td>\n",
       "      <td>0</td>\n",
       "      <td>0</td>\n",
       "      <td>0</td>\n",
       "      <td>0</td>\n",
       "      <td>0</td>\n",
       "      <td>0</td>\n",
       "      <td>0</td>\n",
       "      <td>0</td>\n",
       "      <td>0</td>\n",
       "      <td>0</td>\n",
       "      <td>0</td>\n",
       "      <td>0</td>\n",
       "      <td>0</td>\n",
       "      <td>0</td>\n",
       "      <td>0</td>\n",
       "      <td>0</td>\n",
       "      <td>0</td>\n",
       "      <td>0</td>\n",
       "      <td>1</td>\n",
       "      <td>1</td>\n",
       "      <td>0</td>\n",
       "      <td>0</td>\n",
       "      <td>0</td>\n",
       "      <td>0</td>\n",
       "      <td>0</td>\n",
       "      <td>0</td>\n",
       "      <td>0</td>\n",
       "      <td>0</td>\n",
       "      <td>0</td>\n",
       "      <td>0</td>\n",
       "      <td>0</td>\n",
       "      <td>0</td>\n",
       "      <td>0</td>\n",
       "      <td>0</td>\n",
       "      <td>0</td>\n",
       "      <td>0</td>\n",
       "      <td>0</td>\n",
       "      <td>0</td>\n",
       "      <td>0</td>\n",
       "      <td>0</td>\n",
       "      <td>0</td>\n",
       "      <td>0</td>\n",
       "      <td>0</td>\n",
       "      <td>0</td>\n",
       "      <td>0</td>\n",
       "      <td>0</td>\n",
       "      <td>0</td>\n",
       "      <td>0</td>\n",
       "      <td>0</td>\n",
       "      <td>0</td>\n",
       "      <td>0</td>\n",
       "      <td>0</td>\n",
       "      <td>0</td>\n",
       "      <td>0</td>\n",
       "      <td>0</td>\n",
       "      <td>0</td>\n",
       "      <td>0</td>\n",
       "      <td>0</td>\n",
       "      <td>0</td>\n",
       "      <td>0</td>\n",
       "      <td>0</td>\n",
       "    </tr>\n",
       "    <tr>\n",
       "      <th>4</th>\n",
       "      <td>1.0</td>\n",
       "      <td>15.32</td>\n",
       "      <td>8.0</td>\n",
       "      <td>64.0</td>\n",
       "      <td>3.0</td>\n",
       "      <td>5000.0</td>\n",
       "      <td>185.0</td>\n",
       "      <td>293</td>\n",
       "      <td>4.947837</td>\n",
       "      <td>1</td>\n",
       "      <td>0</td>\n",
       "      <td>0</td>\n",
       "      <td>0</td>\n",
       "      <td>0</td>\n",
       "      <td>0</td>\n",
       "      <td>0</td>\n",
       "      <td>0</td>\n",
       "      <td>0</td>\n",
       "      <td>0</td>\n",
       "      <td>1</td>\n",
       "      <td>0</td>\n",
       "      <td>0</td>\n",
       "      <td>0</td>\n",
       "      <td>0</td>\n",
       "      <td>0</td>\n",
       "      <td>0</td>\n",
       "      <td>0</td>\n",
       "      <td>0</td>\n",
       "      <td>0</td>\n",
       "      <td>0</td>\n",
       "      <td>0</td>\n",
       "      <td>0</td>\n",
       "      <td>0</td>\n",
       "      <td>0</td>\n",
       "      <td>0</td>\n",
       "      <td>0</td>\n",
       "      <td>0</td>\n",
       "      <td>0</td>\n",
       "      <td>0</td>\n",
       "      <td>0</td>\n",
       "      <td>0</td>\n",
       "      <td>0</td>\n",
       "      <td>0</td>\n",
       "      <td>0</td>\n",
       "      <td>0</td>\n",
       "      <td>0</td>\n",
       "      <td>1</td>\n",
       "      <td>0</td>\n",
       "      <td>0</td>\n",
       "      <td>0</td>\n",
       "      <td>0</td>\n",
       "      <td>0</td>\n",
       "      <td>0</td>\n",
       "      <td>0</td>\n",
       "      <td>0</td>\n",
       "      <td>0</td>\n",
       "      <td>0</td>\n",
       "      <td>0</td>\n",
       "      <td>0</td>\n",
       "      <td>0</td>\n",
       "      <td>0</td>\n",
       "      <td>0</td>\n",
       "      <td>0</td>\n",
       "      <td>0</td>\n",
       "      <td>0</td>\n",
       "      <td>0</td>\n",
       "      <td>0</td>\n",
       "      <td>0</td>\n",
       "      <td>0</td>\n",
       "      <td>0</td>\n",
       "      <td>0</td>\n",
       "      <td>0</td>\n",
       "      <td>0</td>\n",
       "      <td>0</td>\n",
       "      <td>0</td>\n",
       "      <td>0</td>\n",
       "      <td>0</td>\n",
       "      <td>0</td>\n",
       "      <td>0</td>\n",
       "      <td>0</td>\n",
       "      <td>0</td>\n",
       "      <td>0</td>\n",
       "      <td>0</td>\n",
       "      <td>0</td>\n",
       "      <td>0</td>\n",
       "      <td>0</td>\n",
       "      <td>0</td>\n",
       "      <td>0</td>\n",
       "      <td>0</td>\n",
       "    </tr>\n",
       "  </tbody>\n",
       "</table>\n",
       "</div>"
      ],
      "text/plain": [
       "   const  screen_size  selfie_camera_mp  int_memory  ram  battery  weight  days_used  normalized_new_price  device_age  brand_name_Alcatel  brand_name_Apple  brand_name_Asus  brand_name_BlackBerry  brand_name_Celkon  brand_name_Coolpad  brand_name_Gionee  brand_name_Google  brand_name_HTC  brand_name_Honor  brand_name_Huawei  brand_name_Infinix  brand_name_Karbonn  brand_name_LG  brand_name_Lava  brand_name_Lenovo  brand_name_Meizu  brand_name_Micromax  brand_name_Microsoft  brand_name_Motorola  brand_name_Nokia  brand_name_OnePlus  brand_name_Oppo  brand_name_Others  brand_name_Panasonic  brand_name_Realme  brand_name_Samsung  brand_name_Sony  brand_name_Spice  brand_name_Vivo  brand_name_XOLO  brand_name_Xiaomi  brand_name_ZTE  os_Others  os_Windows  os_iOS  4g_yes  5g_yes  main_camera_mp_8.0  main_camera_mp_5.0  main_camera_mp_10.5  main_camera_mp_3.15  \\\n",
       "0    1.0        14.50               5.0        64.0  3.0   3020.0   146.0        127              4.715100           1                   0                 0                0                      0                  0                   0                  0                  0               0                 1                  0                   0                   0              0                0                  0                 0                    0                     0                    0                 0                   0                0                  0                     0                  0                   0                0                 0                0                0                  0               0          0           0       0       1       0                   0                   0                    0                    0   \n",
       "1    1.0        17.30              16.0       128.0  8.0   4300.0   213.0        325              5.519018           1                   0                 0                0                      0                  0                   0                  0                  0               0                 1                  0                   0                   0              0                0                  0                 0                    0                     0                    0                 0                   0                0                  0                     0                  0                   0                0                 0                0                0                  0               0          0           0       0       1       1                   0                   0                    0                    0   \n",
       "2    1.0        16.69               8.0       128.0  8.0   4200.0   213.0        162              5.884631           1                   0                 0                0                      0                  0                   0                  0                  0               0                 1                  0                   0                   0              0                0                  0                 0                    0                     0                    0                 0                   0                0                  0                     0                  0                   0                0                 0                0                0                  0               0          0           0       0       1       1                   0                   0                    0                    0   \n",
       "3    1.0        25.50               8.0        64.0  6.0   7250.0   480.0        345              5.630961           1                   0                 0                0                      0                  0                   0                  0                  0               0                 1                  0                   0                   0              0                0                  0                 0                    0                     0                    0                 0                   0                0                  0                     0                  0                   0                0                 0                0                0                  0               0          0           0       0       1       1                   0                   0                    0                    0   \n",
       "4    1.0        15.32               8.0        64.0  3.0   5000.0   185.0        293              4.947837           1                   0                 0                0                      0                  0                   0                  0                  0               0                 1                  0                   0                   0              0                0                  0                 0                    0                     0                    0                 0                   0                0                  0                     0                  0                   0                0                 0                0                0                  0               0          0           0       0       1       0                   0                   0                    0                    0   \n",
       "\n",
       "   main_camera_mp_<bound method NDFrame._add_numeric_operations.<locals>.median of 0       13.0\\n1       13.0\\n2       13.0\\n3       13.0\\n4       13.0\\n        ... \\n3449    13.0\\n3450    13.0\\n3451    13.0\\n3452    13.0\\n3453    13.0\\nName: main_camera_mp, Length: 3454, dtype: float64>  main_camera_mp_2.0  main_camera_mp_16.0  main_camera_mp_0.3  main_camera_mp_12.0  main_camera_mp_14.5  main_camera_mp_48.0  main_camera_mp_3.0  main_camera_mp_21.0  main_camera_mp_1.3  main_camera_mp_13.1  main_camera_mp_24.0  main_camera_mp_0.08  main_camera_mp_20.7  main_camera_mp_23.0  main_camera_mp_1.0  main_camera_mp_18.0  main_camera_mp_12.2  main_camera_mp_12.3  main_camera_mp_20.0  main_camera_mp_20.2  main_camera_mp_4.0  main_camera_mp_12.5  main_camera_mp_10.0  main_camera_mp_6.5  main_camera_mp_6.7  main_camera_mp_41.0  main_camera_mp_20.1  main_camera_mp_12.6  main_camera_mp_16.3  main_camera_mp_22.6  main_camera_mp_19.0  main_camera_mp_21.5  main_camera_mp_21.2  main_camera_mp_8.1  \\\n",
       "0                                                  0                                                                                                                                                                                                                                                               0                    0                   0                    0                    0                    0                   0                    0                   0                    0                    0                    0                    0                    0                   0                    0                    0                    0                    0                    0                   0                    0                    0                   0                   0                    0                    0                    0                    0                    0                    0                    0                    0                   0   \n",
       "1                                                  0                                                                                                                                                                                                                                                               0                    0                   0                    0                    0                    0                   0                    0                   0                    0                    0                    0                    0                    0                   0                    0                    0                    0                    0                    0                   0                    0                    0                   0                   0                    0                    0                    0                    0                    0                    0                    0                    0                   0   \n",
       "2                                                  0                                                                                                                                                                                                                                                               0                    0                   0                    0                    0                    0                   0                    0                   0                    0                    0                    0                    0                    0                   0                    0                    0                    0                    0                    0                   0                    0                    0                   0                   0                    0                    0                    0                    0                    0                    0                    0                    0                   0   \n",
       "3                                                  0                                                                                                                                                                                                                                                               0                    0                   0                    0                    0                    0                   0                    0                   0                    0                    0                    0                    0                    0                   0                    0                    0                    0                    0                    0                   0                    0                    0                   0                   0                    0                    0                    0                    0                    0                    0                    0                    0                   0   \n",
       "4                                                  0                                                                                                                                                                                                                                                               0                    0                   0                    0                    0                    0                   0                    0                   0                    0                    0                    0                    0                    0                   0                    0                    0                    0                    0                    0                   0                    0                    0                   0                   0                    0                    0                    0                    0                    0                    0                    0                    0                   0   \n",
       "\n",
       "   main_camera_mp_1.2  main_camera_mp_22.5  \n",
       "0                   0                    0  \n",
       "1                   0                    0  \n",
       "2                   0                    0  \n",
       "3                   0                    0  \n",
       "4                   0                    0  "
      ]
     },
     "execution_count": 54,
     "metadata": {},
     "output_type": "execute_result"
    },
    {
     "data": {
      "application/javascript": [
       "\n",
       "            setTimeout(function() {\n",
       "                var nbb_cell_id = 54;\n",
       "                var nbb_unformatted_code = \"# creating dummy variables\\nX = pd.get_dummies(\\n    X,\\n    columns=X.select_dtypes(include=[\\\"object\\\", \\\"category\\\"]).columns.tolist(),\\n    drop_first=True,\\n)\\n\\nX.head()\";\n",
       "                var nbb_formatted_code = \"# creating dummy variables\\nX = pd.get_dummies(\\n    X,\\n    columns=X.select_dtypes(include=[\\\"object\\\", \\\"category\\\"]).columns.tolist(),\\n    drop_first=True,\\n)\\n\\nX.head()\";\n",
       "                var nbb_cells = Jupyter.notebook.get_cells();\n",
       "                for (var i = 0; i < nbb_cells.length; ++i) {\n",
       "                    if (nbb_cells[i].input_prompt_number == nbb_cell_id) {\n",
       "                        if (nbb_cells[i].get_text() == nbb_unformatted_code) {\n",
       "                             nbb_cells[i].set_text(nbb_formatted_code);\n",
       "                        }\n",
       "                        break;\n",
       "                    }\n",
       "                }\n",
       "            }, 500);\n",
       "            "
      ],
      "text/plain": [
       "<IPython.core.display.Javascript object>"
      ]
     },
     "metadata": {},
     "output_type": "display_data"
    }
   ],
   "source": [
    "# creating dummy variables\n",
    "X = pd.get_dummies(\n",
    "    X,\n",
    "    columns=X.select_dtypes(include=[\"object\", \"category\"]).columns.tolist(),\n",
    "    drop_first=True,\n",
    ")\n",
    "\n",
    "X.head()\n"
   ]
  },
  {
   "cell_type": "code",
   "execution_count": 55,
   "metadata": {},
   "outputs": [
    {
     "data": {
      "application/javascript": [
       "\n",
       "            setTimeout(function() {\n",
       "                var nbb_cell_id = 55;\n",
       "                var nbb_unformatted_code = \"# splitting the data in 70:30 ratio for train to test data\\n\\nx_train, x_test, y_train, y_test = train_test_split(X, y, test_size=0.3, random_state=1)\";\n",
       "                var nbb_formatted_code = \"# splitting the data in 70:30 ratio for train to test data\\n\\nx_train, x_test, y_train, y_test = train_test_split(X, y, test_size=0.3, random_state=1)\";\n",
       "                var nbb_cells = Jupyter.notebook.get_cells();\n",
       "                for (var i = 0; i < nbb_cells.length; ++i) {\n",
       "                    if (nbb_cells[i].input_prompt_number == nbb_cell_id) {\n",
       "                        if (nbb_cells[i].get_text() == nbb_unformatted_code) {\n",
       "                             nbb_cells[i].set_text(nbb_formatted_code);\n",
       "                        }\n",
       "                        break;\n",
       "                    }\n",
       "                }\n",
       "            }, 500);\n",
       "            "
      ],
      "text/plain": [
       "<IPython.core.display.Javascript object>"
      ]
     },
     "metadata": {},
     "output_type": "display_data"
    }
   ],
   "source": [
    "# splitting the data in 70:30 ratio for train to test data\n",
    "\n",
    "x_train, x_test, y_train, y_test = train_test_split(X, y, test_size=0.3, random_state=1)"
   ]
  },
  {
   "cell_type": "code",
   "execution_count": 56,
   "metadata": {},
   "outputs": [
    {
     "name": "stdout",
     "output_type": "stream",
     "text": [
      "Number of rows in train data = 2417\n",
      "Number of rows in test data = 1037\n"
     ]
    },
    {
     "data": {
      "application/javascript": [
       "\n",
       "            setTimeout(function() {\n",
       "                var nbb_cell_id = 56;\n",
       "                var nbb_unformatted_code = \"print(\\\"Number of rows in train data =\\\", x_train.shape[0])\\nprint(\\\"Number of rows in test data =\\\", x_test.shape[0])\";\n",
       "                var nbb_formatted_code = \"print(\\\"Number of rows in train data =\\\", x_train.shape[0])\\nprint(\\\"Number of rows in test data =\\\", x_test.shape[0])\";\n",
       "                var nbb_cells = Jupyter.notebook.get_cells();\n",
       "                for (var i = 0; i < nbb_cells.length; ++i) {\n",
       "                    if (nbb_cells[i].input_prompt_number == nbb_cell_id) {\n",
       "                        if (nbb_cells[i].get_text() == nbb_unformatted_code) {\n",
       "                             nbb_cells[i].set_text(nbb_formatted_code);\n",
       "                        }\n",
       "                        break;\n",
       "                    }\n",
       "                }\n",
       "            }, 500);\n",
       "            "
      ],
      "text/plain": [
       "<IPython.core.display.Javascript object>"
      ]
     },
     "metadata": {},
     "output_type": "display_data"
    }
   ],
   "source": [
    "print(\"Number of rows in train data =\", x_train.shape[0])\n",
    "print(\"Number of rows in test data =\", x_test.shape[0])"
   ]
  },
  {
   "cell_type": "markdown",
   "metadata": {
    "id": "KNzFis7eEaXj"
   },
   "source": [
    "## EDA"
   ]
  },
  {
   "cell_type": "markdown",
   "metadata": {
    "id": "ZkYW8xGS5xdR"
   },
   "source": [
    "- It is a good idea to explore the data once again after manipulating it."
   ]
  },
  {
   "cell_type": "markdown",
   "metadata": {},
   "source": [
    "####  screen size"
   ]
  },
  {
   "cell_type": "code",
   "execution_count": 90,
   "metadata": {
    "id": "4lcDTGi9EZ1M"
   },
   "outputs": [
    {
     "data": {
      "image/png": "[encoded data removed]",
      "text/plain": [
       "<Figure size 1080x720 with 2 Axes>"
      ]
     },
     "metadata": {},
     "output_type": "display_data"
    },
    {
     "data": {
      "application/javascript": [
       "\n",
       "            setTimeout(function() {\n",
       "                var nbb_cell_id = 90;\n",
       "                var nbb_unformatted_code = \"histogram_boxplot(df1, \\\"screen_size\\\")\";\n",
       "                var nbb_formatted_code = \"histogram_boxplot(df1, \\\"screen_size\\\")\";\n",
       "                var nbb_cells = Jupyter.notebook.get_cells();\n",
       "                for (var i = 0; i < nbb_cells.length; ++i) {\n",
       "                    if (nbb_cells[i].input_prompt_number == nbb_cell_id) {\n",
       "                        if (nbb_cells[i].get_text() == nbb_unformatted_code) {\n",
       "                             nbb_cells[i].set_text(nbb_formatted_code);\n",
       "                        }\n",
       "                        break;\n",
       "                    }\n",
       "                }\n",
       "            }, 500);\n",
       "            "
      ],
      "text/plain": [
       "<IPython.core.display.Javascript object>"
      ]
     },
     "metadata": {},
     "output_type": "display_data"
    }
   ],
   "source": [
    "histogram_boxplot(df1, \"screen_size\")"
   ]
  },
  {
   "cell_type": "markdown",
   "metadata": {},
   "source": [
    "* The screen size distribution is slightly right skewed. Most of the phone screen sizes are 5.0 inches."
   ]
  },
  {
   "cell_type": "markdown",
   "metadata": {},
   "source": [
    "#### internal memory"
   ]
  },
  {
   "cell_type": "code",
   "execution_count": 92,
   "metadata": {},
   "outputs": [
    {
     "data": {
      "image/png": "[encoded data removed]",
      "text/plain": [
       "<Figure size 1080x720 with 2 Axes>"
      ]
     },
     "metadata": {},
     "output_type": "display_data"
    },
    {
     "data": {
      "application/javascript": [
       "\n",
       "            setTimeout(function() {\n",
       "                var nbb_cell_id = 92;\n",
       "                var nbb_unformatted_code = \"histogram_boxplot(df1, \\\"int_memory\\\")\";\n",
       "                var nbb_formatted_code = \"histogram_boxplot(df1, \\\"int_memory\\\")\";\n",
       "                var nbb_cells = Jupyter.notebook.get_cells();\n",
       "                for (var i = 0; i < nbb_cells.length; ++i) {\n",
       "                    if (nbb_cells[i].input_prompt_number == nbb_cell_id) {\n",
       "                        if (nbb_cells[i].get_text() == nbb_unformatted_code) {\n",
       "                             nbb_cells[i].set_text(nbb_formatted_code);\n",
       "                        }\n",
       "                        break;\n",
       "                    }\n",
       "                }\n",
       "            }, 500);\n",
       "            "
      ],
      "text/plain": [
       "<IPython.core.display.Javascript object>"
      ]
     },
     "metadata": {},
     "output_type": "display_data"
    }
   ],
   "source": [
    "histogram_boxplot(df1, \"int_memory\")"
   ]
  },
  {
   "cell_type": "markdown",
   "metadata": {},
   "source": [
    "* The internal memory distribution is highly right skewed. Most of the internal memory sizes are falls between 32GB to 64GB"
   ]
  },
  {
   "cell_type": "markdown",
   "metadata": {},
   "source": [
    "#### ram"
   ]
  },
  {
   "cell_type": "code",
   "execution_count": 93,
   "metadata": {},
   "outputs": [
    {
     "data": {
      "image/png": "[encoded data removed]",
      "text/plain": [
       "<Figure size 1080x720 with 2 Axes>"
      ]
     },
     "metadata": {},
     "output_type": "display_data"
    },
    {
     "data": {
      "application/javascript": [
       "\n",
       "            setTimeout(function() {\n",
       "                var nbb_cell_id = 93;\n",
       "                var nbb_unformatted_code = \"histogram_boxplot(df1, \\\"ram\\\")\";\n",
       "                var nbb_formatted_code = \"histogram_boxplot(df1, \\\"ram\\\")\";\n",
       "                var nbb_cells = Jupyter.notebook.get_cells();\n",
       "                for (var i = 0; i < nbb_cells.length; ++i) {\n",
       "                    if (nbb_cells[i].input_prompt_number == nbb_cell_id) {\n",
       "                        if (nbb_cells[i].get_text() == nbb_unformatted_code) {\n",
       "                             nbb_cells[i].set_text(nbb_formatted_code);\n",
       "                        }\n",
       "                        break;\n",
       "                    }\n",
       "                }\n",
       "            }, 500);\n",
       "            "
      ],
      "text/plain": [
       "<IPython.core.display.Javascript object>"
      ]
     },
     "metadata": {},
     "output_type": "display_data"
    }
   ],
   "source": [
    "histogram_boxplot(df1, \"ram\")"
   ]
  },
  {
   "cell_type": "markdown",
   "metadata": {},
   "source": [
    "* The ram distribution is a normal distribution. Most of the ram sizes is 4GB."
   ]
  },
  {
   "cell_type": "markdown",
   "metadata": {
    "id": "HeUzI1OB4rqM"
   },
   "source": [
    "## Model Building - Linear Regression"
   ]
  },
  {
   "cell_type": "code",
   "execution_count": 59,
   "metadata": {
    "id": "ZNRiMg0wMKth",
    "scrolled": false
   },
   "outputs": [
    {
     "name": "stdout",
     "output_type": "stream",
     "text": [
      "                              OLS Regression Results                             \n",
      "=================================================================================\n",
      "Dep. Variable:     normalized_used_price   R-squared:                       0.850\n",
      "Model:                               OLS   Adj. R-squared:                  0.845\n",
      "Method:                    Least Squares   F-statistic:                     159.2\n",
      "Date:                   Thu, 05 Jan 2023   Prob (F-statistic):               0.00\n",
      "Time:                           15:57:21   Log-Likelihood:                 164.10\n",
      "No. Observations:                   2417   AIC:                            -160.2\n",
      "Df Residuals:                       2333   BIC:                             326.2\n",
      "Df Model:                             83                                         \n",
      "Covariance Type:               nonrobust                                         \n",
      "======================================================================================================================================================================================================================================================================================================================================================\n",
      "                                                                                                                                                                                                                                                                                         coef    std err          t      P>|t|      [0.025      0.975]\n",
      "------------------------------------------------------------------------------------------------------------------------------------------------------------------------------------------------------------------------------------------------------------------------------------------------------------------------------------------------------\n",
      "const                                                                                                                                                                                                                                                                                  1.6815      0.080     20.962      0.000       1.524       1.839\n",
      "screen_size                                                                                                                                                                                                                                                                            0.0237      0.003      6.861      0.000       0.017       0.031\n",
      "selfie_camera_mp                                                                                                                                                                                                                                                                       0.0137      0.001     12.144      0.000       0.012       0.016\n",
      "int_memory                                                                                                                                                                                                                                                                             0.0002   7.08e-05      2.263      0.024    2.14e-05       0.000\n",
      "ram                                                                                                                                                                                                                                                                                    0.0224      0.005      4.318      0.000       0.012       0.033\n",
      "battery                                                                                                                                                                                                                                                                             -1.75e-05   7.39e-06     -2.369      0.018    -3.2e-05   -3.02e-06\n",
      "weight                                                                                                                                                                                                                                                                                 0.0011      0.000      7.986      0.000       0.001       0.001\n",
      "days_used                                                                                                                                                                                                                                                                           2.475e-05   3.11e-05      0.796      0.426   -3.62e-05    8.57e-05\n",
      "normalized_new_price                                                                                                                                                                                                                                                                   0.4145      0.013     32.369      0.000       0.389       0.440\n",
      "device_age                                                                                                                                                                                                                                                                            -0.0213      0.005     -4.556      0.000      -0.030      -0.012\n",
      "brand_name_Alcatel                                                                                                                                                                                                                                                                     0.0093      0.047      0.196      0.845      -0.084       0.102\n",
      "brand_name_Apple                                                                                                                                                                                                                                                                      -0.1119      0.147     -0.759      0.448      -0.401       0.177\n",
      "brand_name_Asus                                                                                                                                                                                                                                                                        0.0032      0.048      0.068      0.946      -0.091       0.097\n",
      "brand_name_BlackBerry                                                                                                                                                                                                                                                                 -0.0763      0.072     -1.060      0.289      -0.217       0.065\n",
      "brand_name_Celkon                                                                                                                                                                                                                                                                     -0.0496      0.067     -0.743      0.458      -0.181       0.081\n",
      "brand_name_Coolpad                                                                                                                                                                                                                                                                     0.0088      0.073      0.121      0.904      -0.133       0.151\n",
      "brand_name_Gionee                                                                                                                                                                                                                                                                      0.0424      0.058      0.736      0.462      -0.071       0.155\n",
      "brand_name_Google                                                                                                                                                                                                                                                                      0.0562      0.157      0.358      0.720      -0.251       0.363\n",
      "brand_name_HTC                                                                                                                                                                                                                                                                        -0.0113      0.049     -0.232      0.817      -0.107       0.084\n",
      "brand_name_Honor                                                                                                                                                                                                                                                                       0.0199      0.049      0.405      0.686      -0.077       0.116\n",
      "brand_name_Huawei                                                                                                                                                                                                                                                                     -0.0227      0.045     -0.506      0.613      -0.111       0.065\n",
      "brand_name_Infinix                                                                                                                                                                                                                                                                     0.0191      0.046      0.412      0.680      -0.072       0.110\n",
      "brand_name_Karbonn                                                                                                                                                                                                                                                                     0.0771      0.067      1.155      0.248      -0.054       0.208\n",
      "brand_name_LG                                                                                                                                                                                                                                                                         -0.0207      0.045     -0.457      0.648      -0.110       0.068\n",
      "brand_name_Lava                                                                                                                                                                                                                                                                        0.0197      0.062      0.316      0.752      -0.102       0.142\n",
      "brand_name_Lenovo                                                                                                                                                                                                                                                                      0.0339      0.045      0.749      0.454      -0.055       0.123\n",
      "brand_name_Meizu                                                                                                                                                                                                                                                                      -0.0200      0.056     -0.356      0.722      -0.130       0.090\n",
      "brand_name_Micromax                                                                                                                                                                                                                                                                   -0.0255      0.048     -0.534      0.593      -0.119       0.068\n",
      "brand_name_Microsoft                                                                                                                                                                                                                                                                   0.0636      0.089      0.713      0.476      -0.111       0.238\n",
      "brand_name_Motorola                                                                                                                                                                                                                                                                   -0.0038      0.050     -0.077      0.939      -0.102       0.094\n",
      "brand_name_Nokia                                                                                                                                                                                                                                                                       0.0766      0.052      1.470      0.142      -0.026       0.179\n",
      "brand_name_OnePlus                                                                                                                                                                                                                                                                     0.0677      0.077      0.878      0.380      -0.083       0.219\n",
      "brand_name_Oppo                                                                                                                                                                                                                                                                        0.0050      0.048      0.104      0.917      -0.089       0.099\n",
      "brand_name_Others                                                                                                                                                                                                                                                                     -0.0126      0.042     -0.299      0.765      -0.095       0.070\n",
      "brand_name_Panasonic                                                                                                                                                                                                                                                                   0.0427      0.056      0.765      0.444      -0.067       0.152\n",
      "brand_name_Realme                                                                                                                                                                                                                                                                      0.0155      0.062      0.251      0.802      -0.105       0.136\n",
      "brand_name_Samsung                                                                                                                                                                                                                                                                    -0.0478      0.043     -1.101      0.271      -0.133       0.037\n",
      "brand_name_Sony                                                                                                                                                                                                                                                                       -0.0477      0.055     -0.865      0.387      -0.156       0.061\n",
      "brand_name_Spice                                                                                                                                                                                                                                                                      -0.0186      0.063     -0.294      0.769      -0.143       0.105\n",
      "brand_name_Vivo                                                                                                                                                                                                                                                                       -0.0280      0.049     -0.578      0.563      -0.123       0.067\n",
      "brand_name_XOLO                                                                                                                                                                                                                                                                       -0.0001      0.055     -0.002      0.998      -0.107       0.107\n",
      "brand_name_Xiaomi                                                                                                                                                                                                                                                                      0.0649      0.048      1.339      0.181      -0.030       0.160\n",
      "brand_name_ZTE                                                                                                                                                                                                                                                                        -0.0029      0.048     -0.060      0.953      -0.097       0.091\n",
      "os_Others                                                                                                                                                                                                                                                                              0.0228      0.035      0.648      0.517      -0.046       0.092\n",
      "os_Windows                                                                                                                                                                                                                                                                             0.0005      0.048      0.010      0.992      -0.093       0.094\n",
      "os_iOS                                                                                                                                                                                                                                                                                 0.0261      0.146      0.179      0.858      -0.260       0.312\n",
      "4g_yes                                                                                                                                                                                                                                                                                 0.0482      0.016      2.989      0.003       0.017       0.080\n",
      "5g_yes                                                                                                                                                                                                                                                                                -0.0669      0.032     -2.080      0.038      -0.130      -0.004\n",
      "main_camera_mp_8.0                                                                                                                                                                                                                                                                    -0.1088      0.015     -7.330      0.000      -0.138      -0.080\n",
      "main_camera_mp_5.0                                                                                                                                                                                                                                                                    -0.1804      0.019     -9.574      0.000      -0.217      -0.143\n",
      "main_camera_mp_10.5                                                                                                                                                                                                                                                                    0.0275      0.055      0.501      0.616      -0.080       0.135\n",
      "main_camera_mp_3.15                                                                                                                                                                                                                                                                   -0.2438      0.032     -7.682      0.000      -0.306      -0.182\n",
      "main_camera_mp_<bound method NDFrame._add_numeric_operations.<locals>.median of 0       13.0\n",
      "1       13.0\n",
      "2       13.0\n",
      "3       13.0\n",
      "4       13.0\n",
      "        ... \n",
      "3449    13.0\n",
      "3450    13.0\n",
      "3451    13.0\n",
      "3452    13.0\n",
      "3453    13.0\n",
      "Name: main_camera_mp, Length: 3454, dtype: float64>     0.0191      0.046      0.412      0.680      -0.072       0.110\n",
      "main_camera_mp_2.0                                                                                                                                                                                                                                                                    -0.2745      0.029     -9.548      0.000      -0.331      -0.218\n",
      "main_camera_mp_16.0                                                                                                                                                                                                                                                                    0.1077      0.025      4.348      0.000       0.059       0.156\n",
      "main_camera_mp_0.3                                                                                                                                                                                                                                                                    -0.4710      0.044    -10.698      0.000      -0.557      -0.385\n",
      "main_camera_mp_12.0                                                                                                                                                                                                                                                                    0.0076      0.024      0.317      0.751      -0.039       0.055\n",
      "main_camera_mp_14.5                                                                                                                                                                                                                                                                   -0.0146      0.078     -0.187      0.852      -0.167       0.138\n",
      "main_camera_mp_48.0                                                                                                                                                                                                                                                                    0.2756      0.118      2.343      0.019       0.045       0.506\n",
      "main_camera_mp_3.0                                                                                                                                                                                                                                                                    -0.1119      0.136     -0.822      0.411      -0.379       0.155\n",
      "main_camera_mp_21.0                                                                                                                                                                                                                                                                    0.0706      0.069      1.028      0.304      -0.064       0.205\n",
      "main_camera_mp_1.3                                                                                                                                                                                                                                                                    -0.4793      0.066     -7.216      0.000      -0.610      -0.349\n",
      "main_camera_mp_13.1                                                                                                                                                                                                                                                                    0.1410      0.165      0.854      0.393      -0.183       0.465\n",
      "main_camera_mp_24.0                                                                                                                                                                                                                                                                    0.0398      0.134      0.296      0.767      -0.224       0.303\n",
      "main_camera_mp_0.08                                                                                                                                                                                                                                                                   -0.4701      0.234     -2.006      0.045      -0.930      -0.010\n",
      "main_camera_mp_20.7                                                                                                                                                                                                                                                                    0.1023      0.083      1.237      0.216      -0.060       0.264\n",
      "main_camera_mp_23.0                                                                                                                                                                                                                                                                    0.2705      0.073      3.721      0.000       0.128       0.413\n",
      "main_camera_mp_1.0                                                                                                                                                                                                                                                                 -1.522e-17   1.13e-16     -0.134      0.893   -2.38e-16    2.07e-16\n",
      "main_camera_mp_18.0                                                                                                                                                                                                                                                                    0.0675      0.238      0.284      0.776      -0.399       0.534\n",
      "main_camera_mp_12.2                                                                                                                                                                                                                                                                   -0.1629      0.175     -0.928      0.353      -0.507       0.181\n",
      "main_camera_mp_12.3                                                                                                                                                                                                                                                                    0.0540      0.108      0.500      0.617      -0.158       0.266\n",
      "main_camera_mp_20.0                                                                                                                                                                                                                                                                    0.1258      0.096      1.304      0.192      -0.063       0.315\n",
      "main_camera_mp_20.2                                                                                                                                                                                                                                                                    0.0289      0.232      0.125      0.901      -0.426       0.484\n",
      "main_camera_mp_4.0                                                                                                                                                                                                                                                                    -0.2935      0.098     -2.982      0.003      -0.487      -0.101\n",
      "main_camera_mp_12.5                                                                                                                                                                                                                                                                    0.1251      0.117      1.068      0.286      -0.105       0.355\n",
      "main_camera_mp_10.0                                                                                                                                                                                                                                                                   -0.2219      0.119     -1.867      0.062      -0.455       0.011\n",
      "main_camera_mp_6.5                                                                                                                                                                                                                                                                    -0.0931      0.164     -0.566      0.571      -0.415       0.229\n",
      "main_camera_mp_6.7                                                                                                                                                                                                                                                                    -0.2929      0.128     -2.295      0.022      -0.543      -0.043\n",
      "main_camera_mp_41.0                                                                                                                                                                                                                                                                -1.373e-16   4.22e-17     -3.255      0.001    -2.2e-16   -5.46e-17\n",
      "main_camera_mp_20.1                                                                                                                                                                                                                                                                -5.077e-17   1.02e-16     -0.499      0.618    -2.5e-16    1.49e-16\n",
      "main_camera_mp_12.6                                                                                                                                                                                                                                                                 2.273e-17   5.82e-17      0.391      0.696   -9.14e-17    1.37e-16\n",
      "main_camera_mp_16.3                                                                                                                                                                                                                                                                    0.3743      0.233      1.609      0.108      -0.082       0.831\n",
      "main_camera_mp_22.6                                                                                                                                                                                                                                                                   -0.1479      0.231     -0.639      0.523      -0.602       0.306\n",
      "main_camera_mp_19.0                                                                                                                                                                                                                                                                   -0.0678      0.102     -0.665      0.506      -0.268       0.132\n",
      "main_camera_mp_21.5                                                                                                                                                                                                                                                                    0.1236      0.234      0.528      0.597      -0.335       0.582\n",
      "main_camera_mp_21.2                                                                                                                                                                                                                                                                    0.2065      0.168      1.232      0.218      -0.122       0.535\n",
      "main_camera_mp_8.1                                                                                                                                                                                                                                                                    -0.1929      0.123     -1.571      0.116      -0.434       0.048\n",
      "main_camera_mp_1.2                                                                                                                                                                                                                                                                    -0.1054      0.235     -0.448      0.654      -0.566       0.356\n",
      "main_camera_mp_22.5                                                                                                                                                                                                                                                                    0.1759      0.232      0.759      0.448      -0.279       0.630\n",
      "==============================================================================\n",
      "Omnibus:                      205.444   Durbin-Watson:                   1.907\n",
      "Prob(Omnibus):                  0.000   Jarque-Bera (JB):              389.658\n",
      "Skew:                          -0.576   Prob(JB):                     2.44e-85\n",
      "Kurtosis:                       4.594   Cond. No.                     4.21e+19\n",
      "==============================================================================\n",
      "\n",
      "Notes:\n",
      "[1] Standard Errors assume that the covariance matrix of the errors is correctly specified.\n",
      "[2] The smallest eigenvalue is 1.63e-29. This might indicate that there are\n",
      "strong multicollinearity problems or that the design matrix is singular.\n"
     ]
    },
    {
     "data": {
      "application/javascript": [
       "\n",
       "            setTimeout(function() {\n",
       "                var nbb_cell_id = 59;\n",
       "                var nbb_unformatted_code = \"olsmodel1 = sm.OLS(y_train, x_train).fit()\\nprint(olsmodel1.summary())\";\n",
       "                var nbb_formatted_code = \"olsmodel1 = sm.OLS(y_train, x_train).fit()\\nprint(olsmodel1.summary())\";\n",
       "                var nbb_cells = Jupyter.notebook.get_cells();\n",
       "                for (var i = 0; i < nbb_cells.length; ++i) {\n",
       "                    if (nbb_cells[i].input_prompt_number == nbb_cell_id) {\n",
       "                        if (nbb_cells[i].get_text() == nbb_unformatted_code) {\n",
       "                             nbb_cells[i].set_text(nbb_formatted_code);\n",
       "                        }\n",
       "                        break;\n",
       "                    }\n",
       "                }\n",
       "            }, 500);\n",
       "            "
      ],
      "text/plain": [
       "<IPython.core.display.Javascript object>"
      ]
     },
     "metadata": {},
     "output_type": "display_data"
    }
   ],
   "source": [
    "olsmodel1 = sm.OLS(y_train, x_train).fit()\n",
    "print(olsmodel1.summary())"
   ]
  },
  {
   "cell_type": "markdown",
   "metadata": {},
   "source": [
    "### Interpreting the Regression Results:"
   ]
  },
  {
   "cell_type": "markdown",
   "metadata": {},
   "source": [
    "1. **Adjusted. R-squared**: It reflects the fit of the model.\n",
    "    - Adjusted R-squared values generally range from 0 to 1, where a higher value generally indicates a better fit, assuming certain conditions are met.\n",
    "    - In our case, the value for adj. R-squared is **0.845**, which is good.\n",
    "\n",
    "\n",
    "2. ***const* coefficient**: It is the Y-intercept.\n",
    "    - It means that if all the predictor variable coefficients are zero, then the expected output (i.e., Y) would be equal to the *const* coefficient.\n",
    "    - In our case, the value for `const` coefficient is **1.6815**\n"
   ]
  },
  {
   "cell_type": "markdown",
   "metadata": {
    "id": "jvoU3F6oMKti"
   },
   "source": [
    "## Model Performance Check\n",
    "\n",
    "**Let's check the performance of the model using different metrics.**\n",
    "\n",
    "* We will be using metric functions defined in sklearn for RMSE, MAE, and $R^2$.\n",
    "* We will define a function to calculate MAPE and adjusted $R^2$.    \n",
    "* We will create a function which will print out all the above metrics in one go."
   ]
  },
  {
   "cell_type": "code",
   "execution_count": 60,
   "metadata": {
    "id": "k3e6gzxdMKti"
   },
   "outputs": [
    {
     "data": {
      "application/javascript": [
       "\n",
       "            setTimeout(function() {\n",
       "                var nbb_cell_id = 60;\n",
       "                var nbb_unformatted_code = \"# function to compute adjusted R-squared\\ndef adj_r2_score(predictors, targets, predictions):\\n    r2 = r2_score(targets, predictions)\\n    n = predictors.shape[0]\\n    k = predictors.shape[1]\\n    return 1 - ((1 - r2) * (n - 1) / (n - k - 1))\\n\\n\\n# function to compute MAPE\\ndef mape_score(targets, predictions):\\n    return np.mean(np.abs(targets - predictions) / targets) * 100\\n\\n\\n# function to compute different metrics to check performance of a regression model\\ndef model_performance_regression(model, predictors, target):\\n    \\\"\\\"\\\"\\n    Function to compute different metrics to check regression model performance\\n\\n    model: regressor\\n    predictors: independent variables\\n    target: dependent variable\\n    \\\"\\\"\\\"\\n\\n    # predicting using the independent variables\\n    pred = model.predict(predictors)\\n\\n    r2 = r2_score(target, pred)  # to compute R-squared\\n    adjr2 = adj_r2_score(predictors, target, pred)  # to compute adjusted R-squared\\n    rmse = np.sqrt(mean_squared_error(target, pred))  # to compute RMSE\\n    mae = mean_absolute_error(target, pred)  # to compute MAE\\n    mape = mape_score(target, pred)  # to compute MAPE\\n\\n    # creating a dataframe of metrics\\n    df_perf = pd.DataFrame(\\n        {\\n            \\\"RMSE\\\": rmse,\\n            \\\"MAE\\\": mae,\\n            \\\"R-squared\\\": r2,\\n            \\\"Adj. R-squared\\\": adjr2,\\n            \\\"MAPE\\\": mape,\\n        },\\n        index=[0],\\n    )\\n\\n    return df_perf\";\n",
       "                var nbb_formatted_code = \"# function to compute adjusted R-squared\\ndef adj_r2_score(predictors, targets, predictions):\\n    r2 = r2_score(targets, predictions)\\n    n = predictors.shape[0]\\n    k = predictors.shape[1]\\n    return 1 - ((1 - r2) * (n - 1) / (n - k - 1))\\n\\n\\n# function to compute MAPE\\ndef mape_score(targets, predictions):\\n    return np.mean(np.abs(targets - predictions) / targets) * 100\\n\\n\\n# function to compute different metrics to check performance of a regression model\\ndef model_performance_regression(model, predictors, target):\\n    \\\"\\\"\\\"\\n    Function to compute different metrics to check regression model performance\\n\\n    model: regressor\\n    predictors: independent variables\\n    target: dependent variable\\n    \\\"\\\"\\\"\\n\\n    # predicting using the independent variables\\n    pred = model.predict(predictors)\\n\\n    r2 = r2_score(target, pred)  # to compute R-squared\\n    adjr2 = adj_r2_score(predictors, target, pred)  # to compute adjusted R-squared\\n    rmse = np.sqrt(mean_squared_error(target, pred))  # to compute RMSE\\n    mae = mean_absolute_error(target, pred)  # to compute MAE\\n    mape = mape_score(target, pred)  # to compute MAPE\\n\\n    # creating a dataframe of metrics\\n    df_perf = pd.DataFrame(\\n        {\\n            \\\"RMSE\\\": rmse,\\n            \\\"MAE\\\": mae,\\n            \\\"R-squared\\\": r2,\\n            \\\"Adj. R-squared\\\": adjr2,\\n            \\\"MAPE\\\": mape,\\n        },\\n        index=[0],\\n    )\\n\\n    return df_perf\";\n",
       "                var nbb_cells = Jupyter.notebook.get_cells();\n",
       "                for (var i = 0; i < nbb_cells.length; ++i) {\n",
       "                    if (nbb_cells[i].input_prompt_number == nbb_cell_id) {\n",
       "                        if (nbb_cells[i].get_text() == nbb_unformatted_code) {\n",
       "                             nbb_cells[i].set_text(nbb_formatted_code);\n",
       "                        }\n",
       "                        break;\n",
       "                    }\n",
       "                }\n",
       "            }, 500);\n",
       "            "
      ],
      "text/plain": [
       "<IPython.core.display.Javascript object>"
      ]
     },
     "metadata": {},
     "output_type": "display_data"
    }
   ],
   "source": [
    "# function to compute adjusted R-squared\n",
    "def adj_r2_score(predictors, targets, predictions):\n",
    "    r2 = r2_score(targets, predictions)\n",
    "    n = predictors.shape[0]\n",
    "    k = predictors.shape[1]\n",
    "    return 1 - ((1 - r2) * (n - 1) / (n - k - 1))\n",
    "\n",
    "\n",
    "# function to compute MAPE\n",
    "def mape_score(targets, predictions):\n",
    "    return np.mean(np.abs(targets - predictions) / targets) * 100\n",
    "\n",
    "\n",
    "# function to compute different metrics to check performance of a regression model\n",
    "def model_performance_regression(model, predictors, target):\n",
    "    \"\"\"\n",
    "    Function to compute different metrics to check regression model performance\n",
    "\n",
    "    model: regressor\n",
    "    predictors: independent variables\n",
    "    target: dependent variable\n",
    "    \"\"\"\n",
    "\n",
    "    # predicting using the independent variables\n",
    "    pred = model.predict(predictors)\n",
    "\n",
    "    r2 = r2_score(target, pred)  # to compute R-squared\n",
    "    adjr2 = adj_r2_score(predictors, target, pred)  # to compute adjusted R-squared\n",
    "    rmse = np.sqrt(mean_squared_error(target, pred))  # to compute RMSE\n",
    "    mae = mean_absolute_error(target, pred)  # to compute MAE\n",
    "    mape = mape_score(target, pred)  # to compute MAPE\n",
    "\n",
    "    # creating a dataframe of metrics\n",
    "    df_perf = pd.DataFrame(\n",
    "        {\n",
    "            \"RMSE\": rmse,\n",
    "            \"MAE\": mae,\n",
    "            \"R-squared\": r2,\n",
    "            \"Adj. R-squared\": adjr2,\n",
    "            \"MAPE\": mape,\n",
    "        },\n",
    "        index=[0],\n",
    "    )\n",
    "\n",
    "    return df_perf"
   ]
  },
  {
   "cell_type": "code",
   "execution_count": 61,
   "metadata": {},
   "outputs": [
    {
     "name": "stdout",
     "output_type": "stream",
     "text": [
      "Training Performance\n",
      "\n"
     ]
    },
    {
     "data": {
      "text/html": [
       "<div>\n",
       "<style scoped>\n",
       "    .dataframe tbody tr th:only-of-type {\n",
       "        vertical-align: middle;\n",
       "    }\n",
       "\n",
       "    .dataframe tbody tr th {\n",
       "        vertical-align: top;\n",
       "    }\n",
       "\n",
       "    .dataframe thead th {\n",
       "        text-align: right;\n",
       "    }\n",
       "</style>\n",
       "<table border=\"1\" class=\"dataframe\">\n",
       "  <thead>\n",
       "    <tr style=\"text-align: right;\">\n",
       "      <th></th>\n",
       "      <th>RMSE</th>\n",
       "      <th>MAE</th>\n",
       "      <th>R-squared</th>\n",
       "      <th>Adj. R-squared</th>\n",
       "      <th>MAPE</th>\n",
       "    </tr>\n",
       "  </thead>\n",
       "  <tbody>\n",
       "    <tr>\n",
       "      <th>0</th>\n",
       "      <td>0.226088</td>\n",
       "      <td>0.177331</td>\n",
       "      <td>0.849966</td>\n",
       "      <td>0.844228</td>\n",
       "      <td>4.247228</td>\n",
       "    </tr>\n",
       "  </tbody>\n",
       "</table>\n",
       "</div>"
      ],
      "text/plain": [
       "       RMSE       MAE  R-squared  Adj. R-squared      MAPE\n",
       "0  0.226088  0.177331   0.849966        0.844228  4.247228"
      ]
     },
     "execution_count": 61,
     "metadata": {},
     "output_type": "execute_result"
    },
    {
     "data": {
      "application/javascript": [
       "\n",
       "            setTimeout(function() {\n",
       "                var nbb_cell_id = 61;\n",
       "                var nbb_unformatted_code = \"# checking model performance on train set (seen 70% data)\\nprint(\\\"Training Performance\\\\n\\\")\\nolsmodel1_train_perf = model_performance_regression(olsmodel1, x_train, y_train)\\nolsmodel1_train_perf\";\n",
       "                var nbb_formatted_code = \"# checking model performance on train set (seen 70% data)\\nprint(\\\"Training Performance\\\\n\\\")\\nolsmodel1_train_perf = model_performance_regression(olsmodel1, x_train, y_train)\\nolsmodel1_train_perf\";\n",
       "                var nbb_cells = Jupyter.notebook.get_cells();\n",
       "                for (var i = 0; i < nbb_cells.length; ++i) {\n",
       "                    if (nbb_cells[i].input_prompt_number == nbb_cell_id) {\n",
       "                        if (nbb_cells[i].get_text() == nbb_unformatted_code) {\n",
       "                             nbb_cells[i].set_text(nbb_formatted_code);\n",
       "                        }\n",
       "                        break;\n",
       "                    }\n",
       "                }\n",
       "            }, 500);\n",
       "            "
      ],
      "text/plain": [
       "<IPython.core.display.Javascript object>"
      ]
     },
     "metadata": {},
     "output_type": "display_data"
    }
   ],
   "source": [
    "# checking model performance on train set (seen 70% data)\n",
    "print(\"Training Performance\\n\")\n",
    "olsmodel1_train_perf = model_performance_regression(olsmodel1, x_train, y_train)\n",
    "olsmodel1_train_perf"
   ]
  },
  {
   "cell_type": "code",
   "execution_count": 62,
   "metadata": {},
   "outputs": [
    {
     "name": "stdout",
     "output_type": "stream",
     "text": [
      "Test Performance\n",
      "\n"
     ]
    },
    {
     "data": {
      "text/html": [
       "<div>\n",
       "<style scoped>\n",
       "    .dataframe tbody tr th:only-of-type {\n",
       "        vertical-align: middle;\n",
       "    }\n",
       "\n",
       "    .dataframe tbody tr th {\n",
       "        vertical-align: top;\n",
       "    }\n",
       "\n",
       "    .dataframe thead th {\n",
       "        text-align: right;\n",
       "    }\n",
       "</style>\n",
       "<table border=\"1\" class=\"dataframe\">\n",
       "  <thead>\n",
       "    <tr style=\"text-align: right;\">\n",
       "      <th></th>\n",
       "      <th>RMSE</th>\n",
       "      <th>MAE</th>\n",
       "      <th>R-squared</th>\n",
       "      <th>Adj. R-squared</th>\n",
       "      <th>MAPE</th>\n",
       "    </tr>\n",
       "  </thead>\n",
       "  <tbody>\n",
       "    <tr>\n",
       "      <th>0</th>\n",
       "      <td>0.239468</td>\n",
       "      <td>0.185398</td>\n",
       "      <td>0.841008</td>\n",
       "      <td>0.826066</td>\n",
       "      <td>4.500184</td>\n",
       "    </tr>\n",
       "  </tbody>\n",
       "</table>\n",
       "</div>"
      ],
      "text/plain": [
       "       RMSE       MAE  R-squared  Adj. R-squared      MAPE\n",
       "0  0.239468  0.185398   0.841008        0.826066  4.500184"
      ]
     },
     "execution_count": 62,
     "metadata": {},
     "output_type": "execute_result"
    },
    {
     "data": {
      "application/javascript": [
       "\n",
       "            setTimeout(function() {\n",
       "                var nbb_cell_id = 62;\n",
       "                var nbb_unformatted_code = \"# checking model performance on test set (seen 30% data)\\nprint(\\\"Test Performance\\\\n\\\")\\nolsmodel1_test_perf = model_performance_regression(\\n    olsmodel1, x_test, y_test\\n)  ## Complete the code to check the performance on test data\\nolsmodel1_test_perf\";\n",
       "                var nbb_formatted_code = \"# checking model performance on test set (seen 30% data)\\nprint(\\\"Test Performance\\\\n\\\")\\nolsmodel1_test_perf = model_performance_regression(\\n    olsmodel1, x_test, y_test\\n)  ## Complete the code to check the performance on test data\\nolsmodel1_test_perf\";\n",
       "                var nbb_cells = Jupyter.notebook.get_cells();\n",
       "                for (var i = 0; i < nbb_cells.length; ++i) {\n",
       "                    if (nbb_cells[i].input_prompt_number == nbb_cell_id) {\n",
       "                        if (nbb_cells[i].get_text() == nbb_unformatted_code) {\n",
       "                             nbb_cells[i].set_text(nbb_formatted_code);\n",
       "                        }\n",
       "                        break;\n",
       "                    }\n",
       "                }\n",
       "            }, 500);\n",
       "            "
      ],
      "text/plain": [
       "<IPython.core.display.Javascript object>"
      ]
     },
     "metadata": {},
     "output_type": "display_data"
    }
   ],
   "source": [
    "# checking model performance on test set (seen 30% data)\n",
    "print(\"Test Performance\\n\")\n",
    "olsmodel1_test_perf = model_performance_regression(\n",
    "    olsmodel1, x_test, y_test\n",
    ")  ## Complete the code to check the performance on test data\n",
    "olsmodel1_test_perf"
   ]
  },
  {
   "cell_type": "markdown",
   "metadata": {},
   "source": [
    "**Observations**\n",
    "\n",
    "- The training $R^2$ is 0.85, so the model is not underfitting\n",
    "\n",
    "- The train and test RMSE and MAE are comparable, so the model is not overfitting either\n",
    "\n",
    "- MAE suggests that the model can predict normalized_used_price within a mean error of 0.19 on the test data\n",
    "\n",
    "- MAPE of 4.5 on the test data means that we are able to predict within 4.5% of the normalized_used_price"
   ]
  },
  {
   "cell_type": "markdown",
   "metadata": {
    "id": "a9GxSQf-qH8e"
   },
   "source": [
    "## Checking Linear Regression Assumptions"
   ]
  },
  {
   "cell_type": "markdown",
   "metadata": {
    "id": "UdGv3pQF50xP"
   },
   "source": [
    "- In order to make statistical inferences from a linear regression model, it is important to ensure that the assumptions of linear regression are satisfied.\n",
    "\n",
    "We will be checking the following Linear Regression assumptions:\n",
    "\n",
    "1. **No Multicollinearity**\n",
    "\n",
    "2. **Linearity of variables**\n",
    "\n",
    "3. **Independence of error terms**\n",
    "\n",
    "4. **Normality of error terms**\n",
    "\n",
    "5. **No Heteroscedasticity**"
   ]
  },
  {
   "cell_type": "markdown",
   "metadata": {
    "id": "naX-iXItqH-b"
   },
   "source": [
    "#### TEST FOR MULTICOLLINEARITY\n",
    "\n",
    "We will test for multicollinearity using VIF.\n",
    "\n",
    "- General Rule of thumb:\n",
    "\n",
    "- If VIF is 1 then there is no correlation between the  𝑘 th predictor and the remaining predictor variables.\n",
    "- If VIF exceeds 5 or is close to exceeding 5, we say there is moderate multicollinearity.\n",
    "- If VIF is 10 or exceeding 10, it shows signs of high multicollinearity."
   ]
  },
  {
   "cell_type": "code",
   "execution_count": 64,
   "metadata": {},
   "outputs": [
    {
     "data": {
      "application/javascript": [
       "\n",
       "            setTimeout(function() {\n",
       "                var nbb_cell_id = 64;\n",
       "                var nbb_unformatted_code = \"# Let's define a function to check VIF.\\n\\n\\ndef checking_vif(predictors):\\n    vif = pd.DataFrame()\\n    vif[\\\"feature\\\"] = predictors.columns\\n\\n    # calculating VIF for each feature\\n    vif[\\\"VIF\\\"] = [\\n        variance_inflation_factor(predictors.values, i)\\n        for i in range(len(predictors.columns))\\n    ]\\n    return vif\";\n",
       "                var nbb_formatted_code = \"# Let's define a function to check VIF.\\n\\n\\ndef checking_vif(predictors):\\n    vif = pd.DataFrame()\\n    vif[\\\"feature\\\"] = predictors.columns\\n\\n    # calculating VIF for each feature\\n    vif[\\\"VIF\\\"] = [\\n        variance_inflation_factor(predictors.values, i)\\n        for i in range(len(predictors.columns))\\n    ]\\n    return vif\";\n",
       "                var nbb_cells = Jupyter.notebook.get_cells();\n",
       "                for (var i = 0; i < nbb_cells.length; ++i) {\n",
       "                    if (nbb_cells[i].input_prompt_number == nbb_cell_id) {\n",
       "                        if (nbb_cells[i].get_text() == nbb_unformatted_code) {\n",
       "                             nbb_cells[i].set_text(nbb_formatted_code);\n",
       "                        }\n",
       "                        break;\n",
       "                    }\n",
       "                }\n",
       "            }, 500);\n",
       "            "
      ],
      "text/plain": [
       "<IPython.core.display.Javascript object>"
      ]
     },
     "metadata": {},
     "output_type": "display_data"
    }
   ],
   "source": [
    "# Let's define a function to check VIF.\n",
    "\n",
    "\n",
    "def checking_vif(predictors):\n",
    "    vif = pd.DataFrame()\n",
    "    vif[\"feature\"] = predictors.columns\n",
    "\n",
    "    # calculating VIF for each feature\n",
    "    vif[\"VIF\"] = [\n",
    "        variance_inflation_factor(predictors.values, i)\n",
    "        for i in range(len(predictors.columns))\n",
    "    ]\n",
    "    return vif"
   ]
  },
  {
   "cell_type": "code",
   "execution_count": 65,
   "metadata": {},
   "outputs": [
    {
     "data": {
      "application/javascript": [
       "\n",
       "            setTimeout(function() {\n",
       "                var nbb_cell_id = 65;\n",
       "                var nbb_unformatted_code = \"pd.set_option(\\\"display.max_rows\\\", 500)\";\n",
       "                var nbb_formatted_code = \"pd.set_option(\\\"display.max_rows\\\", 500)\";\n",
       "                var nbb_cells = Jupyter.notebook.get_cells();\n",
       "                for (var i = 0; i < nbb_cells.length; ++i) {\n",
       "                    if (nbb_cells[i].input_prompt_number == nbb_cell_id) {\n",
       "                        if (nbb_cells[i].get_text() == nbb_unformatted_code) {\n",
       "                             nbb_cells[i].set_text(nbb_formatted_code);\n",
       "                        }\n",
       "                        break;\n",
       "                    }\n",
       "                }\n",
       "            }, 500);\n",
       "            "
      ],
      "text/plain": [
       "<IPython.core.display.Javascript object>"
      ]
     },
     "metadata": {},
     "output_type": "display_data"
    }
   ],
   "source": [
    "pd.set_option(\"display.max_rows\", 500)"
   ]
  },
  {
   "cell_type": "code",
   "execution_count": 66,
   "metadata": {
    "scrolled": false
   },
   "outputs": [
    {
     "name": "stderr",
     "output_type": "stream",
     "text": [
      "C:\\Users\\Eldred OFUA\\anaconda3\\lib\\site-packages\\statsmodels\\stats\\outliers_influence.py:195: RuntimeWarning: divide by zero encountered in double_scalars\n",
      "  vif = 1. / (1. - r_squared_i)\n",
      "C:\\Users\\Eldred OFUA\\anaconda3\\lib\\site-packages\\statsmodels\\regression\\linear_model.py:1736: RuntimeWarning: invalid value encountered in double_scalars\n",
      "  return 1 - self.ssr/self.centered_tss\n"
     ]
    },
    {
     "data": {
      "text/html": [
       "<div>\n",
       "<style scoped>\n",
       "    .dataframe tbody tr th:only-of-type {\n",
       "        vertical-align: middle;\n",
       "    }\n",
       "\n",
       "    .dataframe tbody tr th {\n",
       "        vertical-align: top;\n",
       "    }\n",
       "\n",
       "    .dataframe thead th {\n",
       "        text-align: right;\n",
       "    }\n",
       "</style>\n",
       "<table border=\"1\" class=\"dataframe\">\n",
       "  <thead>\n",
       "    <tr style=\"text-align: right;\">\n",
       "      <th></th>\n",
       "      <th>feature</th>\n",
       "      <th>VIF</th>\n",
       "    </tr>\n",
       "  </thead>\n",
       "  <tbody>\n",
       "    <tr>\n",
       "      <th>0</th>\n",
       "      <td>const</td>\n",
       "      <td>293.682791</td>\n",
       "    </tr>\n",
       "    <tr>\n",
       "      <th>1</th>\n",
       "      <td>screen_size</td>\n",
       "      <td>8.072380</td>\n",
       "    </tr>\n",
       "    <tr>\n",
       "      <th>2</th>\n",
       "      <td>selfie_camera_mp</td>\n",
       "      <td>2.896533</td>\n",
       "    </tr>\n",
       "    <tr>\n",
       "      <th>3</th>\n",
       "      <td>int_memory</td>\n",
       "      <td>1.433539</td>\n",
       "    </tr>\n",
       "    <tr>\n",
       "      <th>4</th>\n",
       "      <td>ram</td>\n",
       "      <td>2.350633</td>\n",
       "    </tr>\n",
       "    <tr>\n",
       "      <th>5</th>\n",
       "      <td>battery</td>\n",
       "      <td>4.285777</td>\n",
       "    </tr>\n",
       "    <tr>\n",
       "      <th>6</th>\n",
       "      <td>weight</td>\n",
       "      <td>6.972278</td>\n",
       "    </tr>\n",
       "    <tr>\n",
       "      <th>7</th>\n",
       "      <td>days_used</td>\n",
       "      <td>2.750913</td>\n",
       "    </tr>\n",
       "    <tr>\n",
       "      <th>8</th>\n",
       "      <td>normalized_new_price</td>\n",
       "      <td>3.464011</td>\n",
       "    </tr>\n",
       "    <tr>\n",
       "      <th>9</th>\n",
       "      <td>device_age</td>\n",
       "      <td>5.259652</td>\n",
       "    </tr>\n",
       "    <tr>\n",
       "      <th>10</th>\n",
       "      <td>brand_name_Alcatel</td>\n",
       "      <td>3.436247</td>\n",
       "    </tr>\n",
       "    <tr>\n",
       "      <th>11</th>\n",
       "      <td>brand_name_Apple</td>\n",
       "      <td>13.336397</td>\n",
       "    </tr>\n",
       "    <tr>\n",
       "      <th>12</th>\n",
       "      <td>brand_name_Asus</td>\n",
       "      <td>3.377576</td>\n",
       "    </tr>\n",
       "    <tr>\n",
       "      <th>13</th>\n",
       "      <td>brand_name_BlackBerry</td>\n",
       "      <td>1.748272</td>\n",
       "    </tr>\n",
       "    <tr>\n",
       "      <th>14</th>\n",
       "      <td>brand_name_Celkon</td>\n",
       "      <td>1.835178</td>\n",
       "    </tr>\n",
       "    <tr>\n",
       "      <th>15</th>\n",
       "      <td>brand_name_Coolpad</td>\n",
       "      <td>1.481836</td>\n",
       "    </tr>\n",
       "    <tr>\n",
       "      <th>16</th>\n",
       "      <td>brand_name_Gionee</td>\n",
       "      <td>1.978860</td>\n",
       "    </tr>\n",
       "    <tr>\n",
       "      <th>17</th>\n",
       "      <td>brand_name_Google</td>\n",
       "      <td>4.619047</td>\n",
       "    </tr>\n",
       "    <tr>\n",
       "      <th>18</th>\n",
       "      <td>brand_name_HTC</td>\n",
       "      <td>3.562005</td>\n",
       "    </tr>\n",
       "    <tr>\n",
       "      <th>19</th>\n",
       "      <td>brand_name_Honor</td>\n",
       "      <td>3.410017</td>\n",
       "    </tr>\n",
       "    <tr>\n",
       "      <th>20</th>\n",
       "      <td>brand_name_Huawei</td>\n",
       "      <td>6.200081</td>\n",
       "    </tr>\n",
       "    <tr>\n",
       "      <th>21</th>\n",
       "      <td>brand_name_Infinix</td>\n",
       "      <td>inf</td>\n",
       "    </tr>\n",
       "    <tr>\n",
       "      <th>22</th>\n",
       "      <td>brand_name_Karbonn</td>\n",
       "      <td>1.588252</td>\n",
       "    </tr>\n",
       "    <tr>\n",
       "      <th>23</th>\n",
       "      <td>brand_name_LG</td>\n",
       "      <td>4.948681</td>\n",
       "    </tr>\n",
       "    <tr>\n",
       "      <th>24</th>\n",
       "      <td>brand_name_Lava</td>\n",
       "      <td>1.738557</td>\n",
       "    </tr>\n",
       "    <tr>\n",
       "      <th>25</th>\n",
       "      <td>brand_name_Lenovo</td>\n",
       "      <td>4.645957</td>\n",
       "    </tr>\n",
       "    <tr>\n",
       "      <th>26</th>\n",
       "      <td>brand_name_Meizu</td>\n",
       "      <td>2.224412</td>\n",
       "    </tr>\n",
       "    <tr>\n",
       "      <th>27</th>\n",
       "      <td>brand_name_Micromax</td>\n",
       "      <td>3.411928</td>\n",
       "    </tr>\n",
       "    <tr>\n",
       "      <th>28</th>\n",
       "      <td>brand_name_Microsoft</td>\n",
       "      <td>1.941538</td>\n",
       "    </tr>\n",
       "    <tr>\n",
       "      <th>29</th>\n",
       "      <td>brand_name_Motorola</td>\n",
       "      <td>3.387769</td>\n",
       "    </tr>\n",
       "    <tr>\n",
       "      <th>30</th>\n",
       "      <td>brand_name_Nokia</td>\n",
       "      <td>3.579654</td>\n",
       "    </tr>\n",
       "    <tr>\n",
       "      <th>31</th>\n",
       "      <td>brand_name_OnePlus</td>\n",
       "      <td>1.451561</td>\n",
       "    </tr>\n",
       "    <tr>\n",
       "      <th>32</th>\n",
       "      <td>brand_name_Oppo</td>\n",
       "      <td>4.054249</td>\n",
       "    </tr>\n",
       "    <tr>\n",
       "      <th>33</th>\n",
       "      <td>brand_name_Others</td>\n",
       "      <td>9.908286</td>\n",
       "    </tr>\n",
       "    <tr>\n",
       "      <th>34</th>\n",
       "      <td>brand_name_Panasonic</td>\n",
       "      <td>2.143034</td>\n",
       "    </tr>\n",
       "    <tr>\n",
       "      <th>35</th>\n",
       "      <td>brand_name_Realme</td>\n",
       "      <td>1.983695</td>\n",
       "    </tr>\n",
       "    <tr>\n",
       "      <th>36</th>\n",
       "      <td>brand_name_Samsung</td>\n",
       "      <td>7.745159</td>\n",
       "    </tr>\n",
       "    <tr>\n",
       "      <th>37</th>\n",
       "      <td>brand_name_Sony</td>\n",
       "      <td>3.584504</td>\n",
       "    </tr>\n",
       "    <tr>\n",
       "      <th>38</th>\n",
       "      <td>brand_name_Spice</td>\n",
       "      <td>1.719238</td>\n",
       "    </tr>\n",
       "    <tr>\n",
       "      <th>39</th>\n",
       "      <td>brand_name_Vivo</td>\n",
       "      <td>3.725789</td>\n",
       "    </tr>\n",
       "    <tr>\n",
       "      <th>40</th>\n",
       "      <td>brand_name_XOLO</td>\n",
       "      <td>2.168077</td>\n",
       "    </tr>\n",
       "    <tr>\n",
       "      <th>41</th>\n",
       "      <td>brand_name_Xiaomi</td>\n",
       "      <td>3.838834</td>\n",
       "    </tr>\n",
       "    <tr>\n",
       "      <th>42</th>\n",
       "      <td>brand_name_ZTE</td>\n",
       "      <td>3.967635</td>\n",
       "    </tr>\n",
       "    <tr>\n",
       "      <th>43</th>\n",
       "      <td>os_Others</td>\n",
       "      <td>2.177997</td>\n",
       "    </tr>\n",
       "    <tr>\n",
       "      <th>44</th>\n",
       "      <td>os_Windows</td>\n",
       "      <td>1.807641</td>\n",
       "    </tr>\n",
       "    <tr>\n",
       "      <th>45</th>\n",
       "      <td>os_iOS</td>\n",
       "      <td>11.913932</td>\n",
       "    </tr>\n",
       "    <tr>\n",
       "      <th>46</th>\n",
       "      <td>4g_yes</td>\n",
       "      <td>2.593985</td>\n",
       "    </tr>\n",
       "    <tr>\n",
       "      <th>47</th>\n",
       "      <td>5g_yes</td>\n",
       "      <td>1.928068</td>\n",
       "    </tr>\n",
       "    <tr>\n",
       "      <th>48</th>\n",
       "      <td>main_camera_mp_8.0</td>\n",
       "      <td>1.762752</td>\n",
       "    </tr>\n",
       "    <tr>\n",
       "      <th>49</th>\n",
       "      <td>main_camera_mp_5.0</td>\n",
       "      <td>2.175664</td>\n",
       "    </tr>\n",
       "    <tr>\n",
       "      <th>50</th>\n",
       "      <td>main_camera_mp_10.5</td>\n",
       "      <td>1.241867</td>\n",
       "    </tr>\n",
       "    <tr>\n",
       "      <th>51</th>\n",
       "      <td>main_camera_mp_3.15</td>\n",
       "      <td>1.559556</td>\n",
       "    </tr>\n",
       "    <tr>\n",
       "      <th>52</th>\n",
       "      <td>main_camera_mp_&lt;bound method NDFrame._add_nume...</td>\n",
       "      <td>inf</td>\n",
       "    </tr>\n",
       "    <tr>\n",
       "      <th>53</th>\n",
       "      <td>main_camera_mp_2.0</td>\n",
       "      <td>1.794207</td>\n",
       "    </tr>\n",
       "    <tr>\n",
       "      <th>54</th>\n",
       "      <td>main_camera_mp_16.0</td>\n",
       "      <td>1.174062</td>\n",
       "    </tr>\n",
       "    <tr>\n",
       "      <th>55</th>\n",
       "      <td>main_camera_mp_0.3</td>\n",
       "      <td>1.687305</td>\n",
       "    </tr>\n",
       "    <tr>\n",
       "      <th>56</th>\n",
       "      <td>main_camera_mp_12.0</td>\n",
       "      <td>1.363925</td>\n",
       "    </tr>\n",
       "    <tr>\n",
       "      <th>57</th>\n",
       "      <td>main_camera_mp_14.5</td>\n",
       "      <td>1.140618</td>\n",
       "    </tr>\n",
       "    <tr>\n",
       "      <th>58</th>\n",
       "      <td>main_camera_mp_48.0</td>\n",
       "      <td>1.043221</td>\n",
       "    </tr>\n",
       "    <tr>\n",
       "      <th>59</th>\n",
       "      <td>main_camera_mp_3.0</td>\n",
       "      <td>1.047797</td>\n",
       "    </tr>\n",
       "    <tr>\n",
       "      <th>60</th>\n",
       "      <td>main_camera_mp_21.0</td>\n",
       "      <td>1.063097</td>\n",
       "    </tr>\n",
       "    <tr>\n",
       "      <th>61</th>\n",
       "      <td>main_camera_mp_1.3</td>\n",
       "      <td>1.406708</td>\n",
       "    </tr>\n",
       "    <tr>\n",
       "      <th>62</th>\n",
       "      <td>main_camera_mp_13.1</td>\n",
       "      <td>1.028512</td>\n",
       "    </tr>\n",
       "    <tr>\n",
       "      <th>63</th>\n",
       "      <td>main_camera_mp_24.0</td>\n",
       "      <td>1.022393</td>\n",
       "    </tr>\n",
       "    <tr>\n",
       "      <th>64</th>\n",
       "      <td>main_camera_mp_0.08</td>\n",
       "      <td>1.037142</td>\n",
       "    </tr>\n",
       "    <tr>\n",
       "      <th>65</th>\n",
       "      <td>main_camera_mp_20.7</td>\n",
       "      <td>1.156670</td>\n",
       "    </tr>\n",
       "    <tr>\n",
       "      <th>66</th>\n",
       "      <td>main_camera_mp_23.0</td>\n",
       "      <td>1.192147</td>\n",
       "    </tr>\n",
       "    <tr>\n",
       "      <th>67</th>\n",
       "      <td>main_camera_mp_1.0</td>\n",
       "      <td>NaN</td>\n",
       "    </tr>\n",
       "    <tr>\n",
       "      <th>68</th>\n",
       "      <td>main_camera_mp_18.0</td>\n",
       "      <td>1.067220</td>\n",
       "    </tr>\n",
       "    <tr>\n",
       "      <th>69</th>\n",
       "      <td>main_camera_mp_12.2</td>\n",
       "      <td>4.057324</td>\n",
       "    </tr>\n",
       "    <tr>\n",
       "      <th>70</th>\n",
       "      <td>main_camera_mp_12.3</td>\n",
       "      <td>1.320220</td>\n",
       "    </tr>\n",
       "    <tr>\n",
       "      <th>71</th>\n",
       "      <td>main_camera_mp_20.0</td>\n",
       "      <td>1.052249</td>\n",
       "    </tr>\n",
       "    <tr>\n",
       "      <th>72</th>\n",
       "      <td>main_camera_mp_20.2</td>\n",
       "      <td>1.015959</td>\n",
       "    </tr>\n",
       "    <tr>\n",
       "      <th>73</th>\n",
       "      <td>main_camera_mp_4.0</td>\n",
       "      <td>1.094702</td>\n",
       "    </tr>\n",
       "    <tr>\n",
       "      <th>74</th>\n",
       "      <td>main_camera_mp_12.5</td>\n",
       "      <td>1.034817</td>\n",
       "    </tr>\n",
       "    <tr>\n",
       "      <th>75</th>\n",
       "      <td>main_camera_mp_10.0</td>\n",
       "      <td>1.066039</td>\n",
       "    </tr>\n",
       "    <tr>\n",
       "      <th>76</th>\n",
       "      <td>main_camera_mp_6.5</td>\n",
       "      <td>1.019133</td>\n",
       "    </tr>\n",
       "    <tr>\n",
       "      <th>77</th>\n",
       "      <td>main_camera_mp_6.7</td>\n",
       "      <td>1.227655</td>\n",
       "    </tr>\n",
       "    <tr>\n",
       "      <th>78</th>\n",
       "      <td>main_camera_mp_41.0</td>\n",
       "      <td>NaN</td>\n",
       "    </tr>\n",
       "    <tr>\n",
       "      <th>79</th>\n",
       "      <td>main_camera_mp_20.1</td>\n",
       "      <td>NaN</td>\n",
       "    </tr>\n",
       "    <tr>\n",
       "      <th>80</th>\n",
       "      <td>main_camera_mp_12.6</td>\n",
       "      <td>NaN</td>\n",
       "    </tr>\n",
       "    <tr>\n",
       "      <th>81</th>\n",
       "      <td>main_camera_mp_16.3</td>\n",
       "      <td>1.021790</td>\n",
       "    </tr>\n",
       "    <tr>\n",
       "      <th>82</th>\n",
       "      <td>main_camera_mp_22.6</td>\n",
       "      <td>1.011515</td>\n",
       "    </tr>\n",
       "    <tr>\n",
       "      <th>83</th>\n",
       "      <td>main_camera_mp_19.0</td>\n",
       "      <td>1.176150</td>\n",
       "    </tr>\n",
       "    <tr>\n",
       "      <th>84</th>\n",
       "      <td>main_camera_mp_21.5</td>\n",
       "      <td>1.033346</td>\n",
       "    </tr>\n",
       "    <tr>\n",
       "      <th>85</th>\n",
       "      <td>main_camera_mp_21.2</td>\n",
       "      <td>1.059113</td>\n",
       "    </tr>\n",
       "    <tr>\n",
       "      <th>86</th>\n",
       "      <td>main_camera_mp_8.1</td>\n",
       "      <td>1.137138</td>\n",
       "    </tr>\n",
       "    <tr>\n",
       "      <th>87</th>\n",
       "      <td>main_camera_mp_1.2</td>\n",
       "      <td>1.043340</td>\n",
       "    </tr>\n",
       "    <tr>\n",
       "      <th>88</th>\n",
       "      <td>main_camera_mp_22.5</td>\n",
       "      <td>1.013936</td>\n",
       "    </tr>\n",
       "  </tbody>\n",
       "</table>\n",
       "</div>"
      ],
      "text/plain": [
       "                                              feature         VIF\n",
       "0                                               const  293.682791\n",
       "1                                         screen_size    8.072380\n",
       "2                                    selfie_camera_mp    2.896533\n",
       "3                                          int_memory    1.433539\n",
       "4                                                 ram    2.350633\n",
       "5                                             battery    4.285777\n",
       "6                                              weight    6.972278\n",
       "7                                           days_used    2.750913\n",
       "8                                normalized_new_price    3.464011\n",
       "9                                          device_age    5.259652\n",
       "10                                 brand_name_Alcatel    3.436247\n",
       "11                                   brand_name_Apple   13.336397\n",
       "12                                    brand_name_Asus    3.377576\n",
       "13                              brand_name_BlackBerry    1.748272\n",
       "14                                  brand_name_Celkon    1.835178\n",
       "15                                 brand_name_Coolpad    1.481836\n",
       "16                                  brand_name_Gionee    1.978860\n",
       "17                                  brand_name_Google    4.619047\n",
       "18                                     brand_name_HTC    3.562005\n",
       "19                                   brand_name_Honor    3.410017\n",
       "20                                  brand_name_Huawei    6.200081\n",
       "21                                 brand_name_Infinix         inf\n",
       "22                                 brand_name_Karbonn    1.588252\n",
       "23                                      brand_name_LG    4.948681\n",
       "24                                    brand_name_Lava    1.738557\n",
       "25                                  brand_name_Lenovo    4.645957\n",
       "26                                   brand_name_Meizu    2.224412\n",
       "27                                brand_name_Micromax    3.411928\n",
       "28                               brand_name_Microsoft    1.941538\n",
       "29                                brand_name_Motorola    3.387769\n",
       "30                                   brand_name_Nokia    3.579654\n",
       "31                                 brand_name_OnePlus    1.451561\n",
       "32                                    brand_name_Oppo    4.054249\n",
       "33                                  brand_name_Others    9.908286\n",
       "34                               brand_name_Panasonic    2.143034\n",
       "35                                  brand_name_Realme    1.983695\n",
       "36                                 brand_name_Samsung    7.745159\n",
       "37                                    brand_name_Sony    3.584504\n",
       "38                                   brand_name_Spice    1.719238\n",
       "39                                    brand_name_Vivo    3.725789\n",
       "40                                    brand_name_XOLO    2.168077\n",
       "41                                  brand_name_Xiaomi    3.838834\n",
       "42                                     brand_name_ZTE    3.967635\n",
       "43                                          os_Others    2.177997\n",
       "44                                         os_Windows    1.807641\n",
       "45                                             os_iOS   11.913932\n",
       "46                                             4g_yes    2.593985\n",
       "47                                             5g_yes    1.928068\n",
       "48                                 main_camera_mp_8.0    1.762752\n",
       "49                                 main_camera_mp_5.0    2.175664\n",
       "50                                main_camera_mp_10.5    1.241867\n",
       "51                                main_camera_mp_3.15    1.559556\n",
       "52  main_camera_mp_<bound method NDFrame._add_nume...         inf\n",
       "53                                 main_camera_mp_2.0    1.794207\n",
       "54                                main_camera_mp_16.0    1.174062\n",
       "55                                 main_camera_mp_0.3    1.687305\n",
       "56                                main_camera_mp_12.0    1.363925\n",
       "57                                main_camera_mp_14.5    1.140618\n",
       "58                                main_camera_mp_48.0    1.043221\n",
       "59                                 main_camera_mp_3.0    1.047797\n",
       "60                                main_camera_mp_21.0    1.063097\n",
       "61                                 main_camera_mp_1.3    1.406708\n",
       "62                                main_camera_mp_13.1    1.028512\n",
       "63                                main_camera_mp_24.0    1.022393\n",
       "64                                main_camera_mp_0.08    1.037142\n",
       "65                                main_camera_mp_20.7    1.156670\n",
       "66                                main_camera_mp_23.0    1.192147\n",
       "67                                 main_camera_mp_1.0         NaN\n",
       "68                                main_camera_mp_18.0    1.067220\n",
       "69                                main_camera_mp_12.2    4.057324\n",
       "70                                main_camera_mp_12.3    1.320220\n",
       "71                                main_camera_mp_20.0    1.052249\n",
       "72                                main_camera_mp_20.2    1.015959\n",
       "73                                 main_camera_mp_4.0    1.094702\n",
       "74                                main_camera_mp_12.5    1.034817\n",
       "75                                main_camera_mp_10.0    1.066039\n",
       "76                                 main_camera_mp_6.5    1.019133\n",
       "77                                 main_camera_mp_6.7    1.227655\n",
       "78                                main_camera_mp_41.0         NaN\n",
       "79                                main_camera_mp_20.1         NaN\n",
       "80                                main_camera_mp_12.6         NaN\n",
       "81                                main_camera_mp_16.3    1.021790\n",
       "82                                main_camera_mp_22.6    1.011515\n",
       "83                                main_camera_mp_19.0    1.176150\n",
       "84                                main_camera_mp_21.5    1.033346\n",
       "85                                main_camera_mp_21.2    1.059113\n",
       "86                                 main_camera_mp_8.1    1.137138\n",
       "87                                 main_camera_mp_1.2    1.043340\n",
       "88                                main_camera_mp_22.5    1.013936"
      ]
     },
     "execution_count": 66,
     "metadata": {},
     "output_type": "execute_result"
    },
    {
     "data": {
      "application/javascript": [
       "\n",
       "            setTimeout(function() {\n",
       "                var nbb_cell_id = 66;\n",
       "                var nbb_unformatted_code = \"checking_vif(x_train)\";\n",
       "                var nbb_formatted_code = \"checking_vif(x_train)\";\n",
       "                var nbb_cells = Jupyter.notebook.get_cells();\n",
       "                for (var i = 0; i < nbb_cells.length; ++i) {\n",
       "                    if (nbb_cells[i].input_prompt_number == nbb_cell_id) {\n",
       "                        if (nbb_cells[i].get_text() == nbb_unformatted_code) {\n",
       "                             nbb_cells[i].set_text(nbb_formatted_code);\n",
       "                        }\n",
       "                        break;\n",
       "                    }\n",
       "                }\n",
       "            }, 500);\n",
       "            "
      ],
      "text/plain": [
       "<IPython.core.display.Javascript object>"
      ]
     },
     "metadata": {},
     "output_type": "display_data"
    }
   ],
   "source": [
    "checking_vif(x_train)"
   ]
  },
  {
   "cell_type": "markdown",
   "metadata": {},
   "source": [
    "#### To remove multicollinearity\n",
    "\n",
    "1. Drop every column one by one that has a VIF score greater than 5.\n",
    "2. Look at the adjusted R-squared and RMSE of all these models.\n",
    "3. Drop the variable that makes the least change in adjusted R-squared.\n",
    "4. Check the VIF scores again.\n",
    "5. Continue till you get all VIF scores under 5.\n",
    "\n",
    "Let's define a function that will help us do this."
   ]
  },
  {
   "cell_type": "code",
   "execution_count": 67,
   "metadata": {},
   "outputs": [
    {
     "data": {
      "application/javascript": [
       "\n",
       "            setTimeout(function() {\n",
       "                var nbb_cell_id = 67;\n",
       "                var nbb_unformatted_code = \"def treating_multicollinearity(predictors, target, high_vif_columns):\\n    \\\"\\\"\\\"\\n    Checking the effect of dropping the columns showing high multicollinearity\\n    on model performance (adj. R-squared and RMSE)\\n\\n    predictors: independent variables\\n    target: dependent variable\\n    high_vif_columns: columns having high VIF\\n    \\\"\\\"\\\"\\n    # empty lists to store adj. R-squared and RMSE values\\n    adj_r2 = []\\n    rmse = []\\n\\n    # build ols models by dropping one of the high VIF columns at a time\\n    # store the adjusted R-squared and RMSE in the lists defined previously\\n    for cols in high_vif_columns:\\n        # defining the new train set\\n        train = predictors.loc[:, ~predictors.columns.str.startswith(cols)]\\n\\n        # create the model\\n        olsmodel = sm.OLS(target, train).fit()\\n\\n        # adding adj. R-squared and RMSE to the lists\\n        adj_r2.append(olsmodel.rsquared_adj)\\n        rmse.append(np.sqrt(olsmodel.mse_resid))\\n\\n    # creating a dataframe for the results\\n    temp = pd.DataFrame(\\n        {\\n            \\\"col\\\": high_vif_columns,\\n            \\\"Adj. R-squared after_dropping col\\\": adj_r2,\\n            \\\"RMSE after dropping col\\\": rmse,\\n        }\\n    ).sort_values(by=\\\"Adj. R-squared after_dropping col\\\", ascending=False)\\n    temp.reset_index(drop=True, inplace=True)\\n\\n    return temp\";\n",
       "                var nbb_formatted_code = \"def treating_multicollinearity(predictors, target, high_vif_columns):\\n    \\\"\\\"\\\"\\n    Checking the effect of dropping the columns showing high multicollinearity\\n    on model performance (adj. R-squared and RMSE)\\n\\n    predictors: independent variables\\n    target: dependent variable\\n    high_vif_columns: columns having high VIF\\n    \\\"\\\"\\\"\\n    # empty lists to store adj. R-squared and RMSE values\\n    adj_r2 = []\\n    rmse = []\\n\\n    # build ols models by dropping one of the high VIF columns at a time\\n    # store the adjusted R-squared and RMSE in the lists defined previously\\n    for cols in high_vif_columns:\\n        # defining the new train set\\n        train = predictors.loc[:, ~predictors.columns.str.startswith(cols)]\\n\\n        # create the model\\n        olsmodel = sm.OLS(target, train).fit()\\n\\n        # adding adj. R-squared and RMSE to the lists\\n        adj_r2.append(olsmodel.rsquared_adj)\\n        rmse.append(np.sqrt(olsmodel.mse_resid))\\n\\n    # creating a dataframe for the results\\n    temp = pd.DataFrame(\\n        {\\n            \\\"col\\\": high_vif_columns,\\n            \\\"Adj. R-squared after_dropping col\\\": adj_r2,\\n            \\\"RMSE after dropping col\\\": rmse,\\n        }\\n    ).sort_values(by=\\\"Adj. R-squared after_dropping col\\\", ascending=False)\\n    temp.reset_index(drop=True, inplace=True)\\n\\n    return temp\";\n",
       "                var nbb_cells = Jupyter.notebook.get_cells();\n",
       "                for (var i = 0; i < nbb_cells.length; ++i) {\n",
       "                    if (nbb_cells[i].input_prompt_number == nbb_cell_id) {\n",
       "                        if (nbb_cells[i].get_text() == nbb_unformatted_code) {\n",
       "                             nbb_cells[i].set_text(nbb_formatted_code);\n",
       "                        }\n",
       "                        break;\n",
       "                    }\n",
       "                }\n",
       "            }, 500);\n",
       "            "
      ],
      "text/plain": [
       "<IPython.core.display.Javascript object>"
      ]
     },
     "metadata": {},
     "output_type": "display_data"
    }
   ],
   "source": [
    "def treating_multicollinearity(predictors, target, high_vif_columns):\n",
    "    \"\"\"\n",
    "    Checking the effect of dropping the columns showing high multicollinearity\n",
    "    on model performance (adj. R-squared and RMSE)\n",
    "\n",
    "    predictors: independent variables\n",
    "    target: dependent variable\n",
    "    high_vif_columns: columns having high VIF\n",
    "    \"\"\"\n",
    "    # empty lists to store adj. R-squared and RMSE values\n",
    "    adj_r2 = []\n",
    "    rmse = []\n",
    "\n",
    "    # build ols models by dropping one of the high VIF columns at a time\n",
    "    # store the adjusted R-squared and RMSE in the lists defined previously\n",
    "    for cols in high_vif_columns:\n",
    "        # defining the new train set\n",
    "        train = predictors.loc[:, ~predictors.columns.str.startswith(cols)]\n",
    "\n",
    "        # create the model\n",
    "        olsmodel = sm.OLS(target, train).fit()\n",
    "\n",
    "        # adding adj. R-squared and RMSE to the lists\n",
    "        adj_r2.append(olsmodel.rsquared_adj)\n",
    "        rmse.append(np.sqrt(olsmodel.mse_resid))\n",
    "\n",
    "    # creating a dataframe for the results\n",
    "    temp = pd.DataFrame(\n",
    "        {\n",
    "            \"col\": high_vif_columns,\n",
    "            \"Adj. R-squared after_dropping col\": adj_r2,\n",
    "            \"RMSE after dropping col\": rmse,\n",
    "        }\n",
    "    ).sort_values(by=\"Adj. R-squared after_dropping col\", ascending=False)\n",
    "    temp.reset_index(drop=True, inplace=True)\n",
    "\n",
    "    return temp"
   ]
  },
  {
   "cell_type": "code",
   "execution_count": 70,
   "metadata": {},
   "outputs": [
    {
     "data": {
      "text/html": [
       "<div>\n",
       "<style scoped>\n",
       "    .dataframe tbody tr th:only-of-type {\n",
       "        vertical-align: middle;\n",
       "    }\n",
       "\n",
       "    .dataframe tbody tr th {\n",
       "        vertical-align: top;\n",
       "    }\n",
       "\n",
       "    .dataframe thead th {\n",
       "        text-align: right;\n",
       "    }\n",
       "</style>\n",
       "<table border=\"1\" class=\"dataframe\">\n",
       "  <thead>\n",
       "    <tr style=\"text-align: right;\">\n",
       "      <th></th>\n",
       "      <th>col</th>\n",
       "      <th>Adj. R-squared after_dropping col</th>\n",
       "      <th>RMSE after dropping col</th>\n",
       "    </tr>\n",
       "  </thead>\n",
       "  <tbody>\n",
       "    <tr>\n",
       "      <th>0</th>\n",
       "      <td>screen_size</td>\n",
       "      <td>0.841562</td>\n",
       "      <td>0.232382</td>\n",
       "    </tr>\n",
       "  </tbody>\n",
       "</table>\n",
       "</div>"
      ],
      "text/plain": [
       "           col  Adj. R-squared after_dropping col  RMSE after dropping col\n",
       "0  screen_size                           0.841562                 0.232382"
      ]
     },
     "execution_count": 70,
     "metadata": {},
     "output_type": "execute_result"
    },
    {
     "data": {
      "application/javascript": [
       "\n",
       "            setTimeout(function() {\n",
       "                var nbb_cell_id = 70;\n",
       "                var nbb_unformatted_code = \"col_list = [\\\"screen_size\\\"]\\n\\nres = treating_multicollinearity(x_train, y_train, col_list)\\nres\";\n",
       "                var nbb_formatted_code = \"col_list = [\\\"screen_size\\\"]\\n\\nres = treating_multicollinearity(x_train, y_train, col_list)\\nres\";\n",
       "                var nbb_cells = Jupyter.notebook.get_cells();\n",
       "                for (var i = 0; i < nbb_cells.length; ++i) {\n",
       "                    if (nbb_cells[i].input_prompt_number == nbb_cell_id) {\n",
       "                        if (nbb_cells[i].get_text() == nbb_unformatted_code) {\n",
       "                             nbb_cells[i].set_text(nbb_formatted_code);\n",
       "                        }\n",
       "                        break;\n",
       "                    }\n",
       "                }\n",
       "            }, 500);\n",
       "            "
      ],
      "text/plain": [
       "<IPython.core.display.Javascript object>"
      ]
     },
     "metadata": {},
     "output_type": "display_data"
    }
   ],
   "source": [
    "col_list = [\"screen_size\"]\n",
    "\n",
    "res = treating_multicollinearity(x_train, y_train, col_list)\n",
    "res"
   ]
  },
  {
   "cell_type": "code",
   "execution_count": 71,
   "metadata": {
    "scrolled": false
   },
   "outputs": [
    {
     "name": "stderr",
     "output_type": "stream",
     "text": [
      "C:\\Users\\Eldred OFUA\\anaconda3\\lib\\site-packages\\statsmodels\\stats\\outliers_influence.py:195: RuntimeWarning: divide by zero encountered in double_scalars\n",
      "  vif = 1. / (1. - r_squared_i)\n",
      "C:\\Users\\Eldred OFUA\\anaconda3\\lib\\site-packages\\statsmodels\\regression\\linear_model.py:1736: RuntimeWarning: invalid value encountered in double_scalars\n",
      "  return 1 - self.ssr/self.centered_tss\n"
     ]
    },
    {
     "name": "stdout",
     "output_type": "stream",
     "text": [
      "VIF after dropping  screen_size\n"
     ]
    },
    {
     "data": {
      "text/html": [
       "<div>\n",
       "<style scoped>\n",
       "    .dataframe tbody tr th:only-of-type {\n",
       "        vertical-align: middle;\n",
       "    }\n",
       "\n",
       "    .dataframe tbody tr th {\n",
       "        vertical-align: top;\n",
       "    }\n",
       "\n",
       "    .dataframe thead th {\n",
       "        text-align: right;\n",
       "    }\n",
       "</style>\n",
       "<table border=\"1\" class=\"dataframe\">\n",
       "  <thead>\n",
       "    <tr style=\"text-align: right;\">\n",
       "      <th></th>\n",
       "      <th>feature</th>\n",
       "      <th>VIF</th>\n",
       "    </tr>\n",
       "  </thead>\n",
       "  <tbody>\n",
       "    <tr>\n",
       "      <th>0</th>\n",
       "      <td>const</td>\n",
       "      <td>261.112888</td>\n",
       "    </tr>\n",
       "    <tr>\n",
       "      <th>1</th>\n",
       "      <td>selfie_camera_mp</td>\n",
       "      <td>2.890950</td>\n",
       "    </tr>\n",
       "    <tr>\n",
       "      <th>2</th>\n",
       "      <td>int_memory</td>\n",
       "      <td>1.433105</td>\n",
       "    </tr>\n",
       "    <tr>\n",
       "      <th>3</th>\n",
       "      <td>ram</td>\n",
       "      <td>2.350162</td>\n",
       "    </tr>\n",
       "    <tr>\n",
       "      <th>4</th>\n",
       "      <td>battery</td>\n",
       "      <td>4.072776</td>\n",
       "    </tr>\n",
       "    <tr>\n",
       "      <th>5</th>\n",
       "      <td>weight</td>\n",
       "      <td>3.274390</td>\n",
       "    </tr>\n",
       "    <tr>\n",
       "      <th>6</th>\n",
       "      <td>days_used</td>\n",
       "      <td>2.742081</td>\n",
       "    </tr>\n",
       "    <tr>\n",
       "      <th>7</th>\n",
       "      <td>normalized_new_price</td>\n",
       "      <td>3.429413</td>\n",
       "    </tr>\n",
       "    <tr>\n",
       "      <th>8</th>\n",
       "      <td>device_age</td>\n",
       "      <td>5.067186</td>\n",
       "    </tr>\n",
       "    <tr>\n",
       "      <th>9</th>\n",
       "      <td>brand_name_Alcatel</td>\n",
       "      <td>3.435998</td>\n",
       "    </tr>\n",
       "    <tr>\n",
       "      <th>10</th>\n",
       "      <td>brand_name_Apple</td>\n",
       "      <td>13.277468</td>\n",
       "    </tr>\n",
       "    <tr>\n",
       "      <th>11</th>\n",
       "      <td>brand_name_Asus</td>\n",
       "      <td>3.370988</td>\n",
       "    </tr>\n",
       "    <tr>\n",
       "      <th>12</th>\n",
       "      <td>brand_name_BlackBerry</td>\n",
       "      <td>1.746277</td>\n",
       "    </tr>\n",
       "    <tr>\n",
       "      <th>13</th>\n",
       "      <td>brand_name_Celkon</td>\n",
       "      <td>1.834800</td>\n",
       "    </tr>\n",
       "    <tr>\n",
       "      <th>14</th>\n",
       "      <td>brand_name_Coolpad</td>\n",
       "      <td>1.481205</td>\n",
       "    </tr>\n",
       "    <tr>\n",
       "      <th>15</th>\n",
       "      <td>brand_name_Gionee</td>\n",
       "      <td>1.967124</td>\n",
       "    </tr>\n",
       "    <tr>\n",
       "      <th>16</th>\n",
       "      <td>brand_name_Google</td>\n",
       "      <td>4.615573</td>\n",
       "    </tr>\n",
       "    <tr>\n",
       "      <th>17</th>\n",
       "      <td>brand_name_HTC</td>\n",
       "      <td>3.548760</td>\n",
       "    </tr>\n",
       "    <tr>\n",
       "      <th>18</th>\n",
       "      <td>brand_name_Honor</td>\n",
       "      <td>3.410016</td>\n",
       "    </tr>\n",
       "    <tr>\n",
       "      <th>19</th>\n",
       "      <td>brand_name_Huawei</td>\n",
       "      <td>6.196470</td>\n",
       "    </tr>\n",
       "    <tr>\n",
       "      <th>20</th>\n",
       "      <td>brand_name_Infinix</td>\n",
       "      <td>inf</td>\n",
       "    </tr>\n",
       "    <tr>\n",
       "      <th>21</th>\n",
       "      <td>brand_name_Karbonn</td>\n",
       "      <td>1.588151</td>\n",
       "    </tr>\n",
       "    <tr>\n",
       "      <th>22</th>\n",
       "      <td>brand_name_LG</td>\n",
       "      <td>4.929508</td>\n",
       "    </tr>\n",
       "    <tr>\n",
       "      <th>23</th>\n",
       "      <td>brand_name_Lava</td>\n",
       "      <td>1.738054</td>\n",
       "    </tr>\n",
       "    <tr>\n",
       "      <th>24</th>\n",
       "      <td>brand_name_Lenovo</td>\n",
       "      <td>4.638950</td>\n",
       "    </tr>\n",
       "    <tr>\n",
       "      <th>25</th>\n",
       "      <td>brand_name_Meizu</td>\n",
       "      <td>2.220894</td>\n",
       "    </tr>\n",
       "    <tr>\n",
       "      <th>26</th>\n",
       "      <td>brand_name_Micromax</td>\n",
       "      <td>3.407292</td>\n",
       "    </tr>\n",
       "    <tr>\n",
       "      <th>27</th>\n",
       "      <td>brand_name_Microsoft</td>\n",
       "      <td>1.939991</td>\n",
       "    </tr>\n",
       "    <tr>\n",
       "      <th>28</th>\n",
       "      <td>brand_name_Motorola</td>\n",
       "      <td>3.373267</td>\n",
       "    </tr>\n",
       "    <tr>\n",
       "      <th>29</th>\n",
       "      <td>brand_name_Nokia</td>\n",
       "      <td>3.564875</td>\n",
       "    </tr>\n",
       "    <tr>\n",
       "      <th>30</th>\n",
       "      <td>brand_name_OnePlus</td>\n",
       "      <td>1.451465</td>\n",
       "    </tr>\n",
       "    <tr>\n",
       "      <th>31</th>\n",
       "      <td>brand_name_Oppo</td>\n",
       "      <td>4.045601</td>\n",
       "    </tr>\n",
       "    <tr>\n",
       "      <th>32</th>\n",
       "      <td>brand_name_Others</td>\n",
       "      <td>9.845194</td>\n",
       "    </tr>\n",
       "    <tr>\n",
       "      <th>33</th>\n",
       "      <td>brand_name_Panasonic</td>\n",
       "      <td>2.141248</td>\n",
       "    </tr>\n",
       "    <tr>\n",
       "      <th>34</th>\n",
       "      <td>brand_name_Realme</td>\n",
       "      <td>1.979149</td>\n",
       "    </tr>\n",
       "    <tr>\n",
       "      <th>35</th>\n",
       "      <td>brand_name_Samsung</td>\n",
       "      <td>7.731859</td>\n",
       "    </tr>\n",
       "    <tr>\n",
       "      <th>36</th>\n",
       "      <td>brand_name_Sony</td>\n",
       "      <td>3.579341</td>\n",
       "    </tr>\n",
       "    <tr>\n",
       "      <th>37</th>\n",
       "      <td>brand_name_Spice</td>\n",
       "      <td>1.713425</td>\n",
       "    </tr>\n",
       "    <tr>\n",
       "      <th>38</th>\n",
       "      <td>brand_name_Vivo</td>\n",
       "      <td>3.724006</td>\n",
       "    </tr>\n",
       "    <tr>\n",
       "      <th>39</th>\n",
       "      <td>brand_name_XOLO</td>\n",
       "      <td>2.167317</td>\n",
       "    </tr>\n",
       "    <tr>\n",
       "      <th>40</th>\n",
       "      <td>brand_name_Xiaomi</td>\n",
       "      <td>3.833215</td>\n",
       "    </tr>\n",
       "    <tr>\n",
       "      <th>41</th>\n",
       "      <td>brand_name_ZTE</td>\n",
       "      <td>3.955056</td>\n",
       "    </tr>\n",
       "    <tr>\n",
       "      <th>42</th>\n",
       "      <td>os_Others</td>\n",
       "      <td>1.970682</td>\n",
       "    </tr>\n",
       "    <tr>\n",
       "      <th>43</th>\n",
       "      <td>os_Windows</td>\n",
       "      <td>1.807639</td>\n",
       "    </tr>\n",
       "    <tr>\n",
       "      <th>44</th>\n",
       "      <td>os_iOS</td>\n",
       "      <td>11.811653</td>\n",
       "    </tr>\n",
       "    <tr>\n",
       "      <th>45</th>\n",
       "      <td>4g_yes</td>\n",
       "      <td>2.590667</td>\n",
       "    </tr>\n",
       "    <tr>\n",
       "      <th>46</th>\n",
       "      <td>5g_yes</td>\n",
       "      <td>1.925044</td>\n",
       "    </tr>\n",
       "    <tr>\n",
       "      <th>47</th>\n",
       "      <td>main_camera_mp_8.0</td>\n",
       "      <td>1.761261</td>\n",
       "    </tr>\n",
       "    <tr>\n",
       "      <th>48</th>\n",
       "      <td>main_camera_mp_5.0</td>\n",
       "      <td>2.169249</td>\n",
       "    </tr>\n",
       "    <tr>\n",
       "      <th>49</th>\n",
       "      <td>main_camera_mp_10.5</td>\n",
       "      <td>1.241748</td>\n",
       "    </tr>\n",
       "    <tr>\n",
       "      <th>50</th>\n",
       "      <td>main_camera_mp_3.15</td>\n",
       "      <td>1.549133</td>\n",
       "    </tr>\n",
       "    <tr>\n",
       "      <th>51</th>\n",
       "      <td>main_camera_mp_&lt;bound method NDFrame._add_nume...</td>\n",
       "      <td>inf</td>\n",
       "    </tr>\n",
       "    <tr>\n",
       "      <th>52</th>\n",
       "      <td>main_camera_mp_2.0</td>\n",
       "      <td>1.780748</td>\n",
       "    </tr>\n",
       "    <tr>\n",
       "      <th>53</th>\n",
       "      <td>main_camera_mp_16.0</td>\n",
       "      <td>1.172057</td>\n",
       "    </tr>\n",
       "    <tr>\n",
       "      <th>54</th>\n",
       "      <td>main_camera_mp_0.3</td>\n",
       "      <td>1.671720</td>\n",
       "    </tr>\n",
       "    <tr>\n",
       "      <th>55</th>\n",
       "      <td>main_camera_mp_12.0</td>\n",
       "      <td>1.357805</td>\n",
       "    </tr>\n",
       "    <tr>\n",
       "      <th>56</th>\n",
       "      <td>main_camera_mp_14.5</td>\n",
       "      <td>1.139993</td>\n",
       "    </tr>\n",
       "    <tr>\n",
       "      <th>57</th>\n",
       "      <td>main_camera_mp_48.0</td>\n",
       "      <td>1.043171</td>\n",
       "    </tr>\n",
       "    <tr>\n",
       "      <th>58</th>\n",
       "      <td>main_camera_mp_3.0</td>\n",
       "      <td>1.047399</td>\n",
       "    </tr>\n",
       "    <tr>\n",
       "      <th>59</th>\n",
       "      <td>main_camera_mp_21.0</td>\n",
       "      <td>1.062949</td>\n",
       "    </tr>\n",
       "    <tr>\n",
       "      <th>60</th>\n",
       "      <td>main_camera_mp_1.3</td>\n",
       "      <td>1.401217</td>\n",
       "    </tr>\n",
       "    <tr>\n",
       "      <th>61</th>\n",
       "      <td>main_camera_mp_13.1</td>\n",
       "      <td>1.028497</td>\n",
       "    </tr>\n",
       "    <tr>\n",
       "      <th>62</th>\n",
       "      <td>main_camera_mp_24.0</td>\n",
       "      <td>1.021977</td>\n",
       "    </tr>\n",
       "    <tr>\n",
       "      <th>63</th>\n",
       "      <td>main_camera_mp_0.08</td>\n",
       "      <td>1.037141</td>\n",
       "    </tr>\n",
       "    <tr>\n",
       "      <th>64</th>\n",
       "      <td>main_camera_mp_20.7</td>\n",
       "      <td>1.156097</td>\n",
       "    </tr>\n",
       "    <tr>\n",
       "      <th>65</th>\n",
       "      <td>main_camera_mp_23.0</td>\n",
       "      <td>1.190405</td>\n",
       "    </tr>\n",
       "    <tr>\n",
       "      <th>66</th>\n",
       "      <td>main_camera_mp_1.0</td>\n",
       "      <td>NaN</td>\n",
       "    </tr>\n",
       "    <tr>\n",
       "      <th>67</th>\n",
       "      <td>main_camera_mp_18.0</td>\n",
       "      <td>1.066845</td>\n",
       "    </tr>\n",
       "    <tr>\n",
       "      <th>68</th>\n",
       "      <td>main_camera_mp_12.2</td>\n",
       "      <td>4.057293</td>\n",
       "    </tr>\n",
       "    <tr>\n",
       "      <th>69</th>\n",
       "      <td>main_camera_mp_12.3</td>\n",
       "      <td>1.320163</td>\n",
       "    </tr>\n",
       "    <tr>\n",
       "      <th>70</th>\n",
       "      <td>main_camera_mp_20.0</td>\n",
       "      <td>1.052217</td>\n",
       "    </tr>\n",
       "    <tr>\n",
       "      <th>71</th>\n",
       "      <td>main_camera_mp_20.2</td>\n",
       "      <td>1.015944</td>\n",
       "    </tr>\n",
       "    <tr>\n",
       "      <th>72</th>\n",
       "      <td>main_camera_mp_4.0</td>\n",
       "      <td>1.094683</td>\n",
       "    </tr>\n",
       "    <tr>\n",
       "      <th>73</th>\n",
       "      <td>main_camera_mp_12.5</td>\n",
       "      <td>1.031836</td>\n",
       "    </tr>\n",
       "    <tr>\n",
       "      <th>74</th>\n",
       "      <td>main_camera_mp_10.0</td>\n",
       "      <td>1.065857</td>\n",
       "    </tr>\n",
       "    <tr>\n",
       "      <th>75</th>\n",
       "      <td>main_camera_mp_6.5</td>\n",
       "      <td>1.018397</td>\n",
       "    </tr>\n",
       "    <tr>\n",
       "      <th>76</th>\n",
       "      <td>main_camera_mp_6.7</td>\n",
       "      <td>1.227545</td>\n",
       "    </tr>\n",
       "    <tr>\n",
       "      <th>77</th>\n",
       "      <td>main_camera_mp_41.0</td>\n",
       "      <td>NaN</td>\n",
       "    </tr>\n",
       "    <tr>\n",
       "      <th>78</th>\n",
       "      <td>main_camera_mp_20.1</td>\n",
       "      <td>NaN</td>\n",
       "    </tr>\n",
       "    <tr>\n",
       "      <th>79</th>\n",
       "      <td>main_camera_mp_12.6</td>\n",
       "      <td>NaN</td>\n",
       "    </tr>\n",
       "    <tr>\n",
       "      <th>80</th>\n",
       "      <td>main_camera_mp_16.3</td>\n",
       "      <td>1.013986</td>\n",
       "    </tr>\n",
       "    <tr>\n",
       "      <th>81</th>\n",
       "      <td>main_camera_mp_22.6</td>\n",
       "      <td>1.011142</td>\n",
       "    </tr>\n",
       "    <tr>\n",
       "      <th>82</th>\n",
       "      <td>main_camera_mp_19.0</td>\n",
       "      <td>1.170935</td>\n",
       "    </tr>\n",
       "    <tr>\n",
       "      <th>83</th>\n",
       "      <td>main_camera_mp_21.5</td>\n",
       "      <td>1.033196</td>\n",
       "    </tr>\n",
       "    <tr>\n",
       "      <th>84</th>\n",
       "      <td>main_camera_mp_21.2</td>\n",
       "      <td>1.059079</td>\n",
       "    </tr>\n",
       "    <tr>\n",
       "      <th>85</th>\n",
       "      <td>main_camera_mp_8.1</td>\n",
       "      <td>1.126106</td>\n",
       "    </tr>\n",
       "    <tr>\n",
       "      <th>86</th>\n",
       "      <td>main_camera_mp_1.2</td>\n",
       "      <td>1.043182</td>\n",
       "    </tr>\n",
       "    <tr>\n",
       "      <th>87</th>\n",
       "      <td>main_camera_mp_22.5</td>\n",
       "      <td>1.013520</td>\n",
       "    </tr>\n",
       "  </tbody>\n",
       "</table>\n",
       "</div>"
      ],
      "text/plain": [
       "                                              feature         VIF\n",
       "0                                               const  261.112888\n",
       "1                                    selfie_camera_mp    2.890950\n",
       "2                                          int_memory    1.433105\n",
       "3                                                 ram    2.350162\n",
       "4                                             battery    4.072776\n",
       "5                                              weight    3.274390\n",
       "6                                           days_used    2.742081\n",
       "7                                normalized_new_price    3.429413\n",
       "8                                          device_age    5.067186\n",
       "9                                  brand_name_Alcatel    3.435998\n",
       "10                                   brand_name_Apple   13.277468\n",
       "11                                    brand_name_Asus    3.370988\n",
       "12                              brand_name_BlackBerry    1.746277\n",
       "13                                  brand_name_Celkon    1.834800\n",
       "14                                 brand_name_Coolpad    1.481205\n",
       "15                                  brand_name_Gionee    1.967124\n",
       "16                                  brand_name_Google    4.615573\n",
       "17                                     brand_name_HTC    3.548760\n",
       "18                                   brand_name_Honor    3.410016\n",
       "19                                  brand_name_Huawei    6.196470\n",
       "20                                 brand_name_Infinix         inf\n",
       "21                                 brand_name_Karbonn    1.588151\n",
       "22                                      brand_name_LG    4.929508\n",
       "23                                    brand_name_Lava    1.738054\n",
       "24                                  brand_name_Lenovo    4.638950\n",
       "25                                   brand_name_Meizu    2.220894\n",
       "26                                brand_name_Micromax    3.407292\n",
       "27                               brand_name_Microsoft    1.939991\n",
       "28                                brand_name_Motorola    3.373267\n",
       "29                                   brand_name_Nokia    3.564875\n",
       "30                                 brand_name_OnePlus    1.451465\n",
       "31                                    brand_name_Oppo    4.045601\n",
       "32                                  brand_name_Others    9.845194\n",
       "33                               brand_name_Panasonic    2.141248\n",
       "34                                  brand_name_Realme    1.979149\n",
       "35                                 brand_name_Samsung    7.731859\n",
       "36                                    brand_name_Sony    3.579341\n",
       "37                                   brand_name_Spice    1.713425\n",
       "38                                    brand_name_Vivo    3.724006\n",
       "39                                    brand_name_XOLO    2.167317\n",
       "40                                  brand_name_Xiaomi    3.833215\n",
       "41                                     brand_name_ZTE    3.955056\n",
       "42                                          os_Others    1.970682\n",
       "43                                         os_Windows    1.807639\n",
       "44                                             os_iOS   11.811653\n",
       "45                                             4g_yes    2.590667\n",
       "46                                             5g_yes    1.925044\n",
       "47                                 main_camera_mp_8.0    1.761261\n",
       "48                                 main_camera_mp_5.0    2.169249\n",
       "49                                main_camera_mp_10.5    1.241748\n",
       "50                                main_camera_mp_3.15    1.549133\n",
       "51  main_camera_mp_<bound method NDFrame._add_nume...         inf\n",
       "52                                 main_camera_mp_2.0    1.780748\n",
       "53                                main_camera_mp_16.0    1.172057\n",
       "54                                 main_camera_mp_0.3    1.671720\n",
       "55                                main_camera_mp_12.0    1.357805\n",
       "56                                main_camera_mp_14.5    1.139993\n",
       "57                                main_camera_mp_48.0    1.043171\n",
       "58                                 main_camera_mp_3.0    1.047399\n",
       "59                                main_camera_mp_21.0    1.062949\n",
       "60                                 main_camera_mp_1.3    1.401217\n",
       "61                                main_camera_mp_13.1    1.028497\n",
       "62                                main_camera_mp_24.0    1.021977\n",
       "63                                main_camera_mp_0.08    1.037141\n",
       "64                                main_camera_mp_20.7    1.156097\n",
       "65                                main_camera_mp_23.0    1.190405\n",
       "66                                 main_camera_mp_1.0         NaN\n",
       "67                                main_camera_mp_18.0    1.066845\n",
       "68                                main_camera_mp_12.2    4.057293\n",
       "69                                main_camera_mp_12.3    1.320163\n",
       "70                                main_camera_mp_20.0    1.052217\n",
       "71                                main_camera_mp_20.2    1.015944\n",
       "72                                 main_camera_mp_4.0    1.094683\n",
       "73                                main_camera_mp_12.5    1.031836\n",
       "74                                main_camera_mp_10.0    1.065857\n",
       "75                                 main_camera_mp_6.5    1.018397\n",
       "76                                 main_camera_mp_6.7    1.227545\n",
       "77                                main_camera_mp_41.0         NaN\n",
       "78                                main_camera_mp_20.1         NaN\n",
       "79                                main_camera_mp_12.6         NaN\n",
       "80                                main_camera_mp_16.3    1.013986\n",
       "81                                main_camera_mp_22.6    1.011142\n",
       "82                                main_camera_mp_19.0    1.170935\n",
       "83                                main_camera_mp_21.5    1.033196\n",
       "84                                main_camera_mp_21.2    1.059079\n",
       "85                                 main_camera_mp_8.1    1.126106\n",
       "86                                 main_camera_mp_1.2    1.043182\n",
       "87                                main_camera_mp_22.5    1.013520"
      ]
     },
     "execution_count": 71,
     "metadata": {},
     "output_type": "execute_result"
    },
    {
     "data": {
      "application/javascript": [
       "\n",
       "            setTimeout(function() {\n",
       "                var nbb_cell_id = 71;\n",
       "                var nbb_unformatted_code = \"col_to_drop = \\\"screen_size\\\"\\nx_train2 = x_train.loc[\\n    :, ~x_train.columns.str.startswith(col_to_drop)\\n]\\nx_test2 = x_test.loc[\\n    :, ~x_test.columns.str.startswith(col_to_drop)\\n]\\n\\n# Check VIF now\\nvif = checking_vif(x_train2)\\nprint(\\\"VIF after dropping \\\", col_to_drop)\\nvif\";\n",
       "                var nbb_formatted_code = \"col_to_drop = \\\"screen_size\\\"\\nx_train2 = x_train.loc[:, ~x_train.columns.str.startswith(col_to_drop)]\\nx_test2 = x_test.loc[:, ~x_test.columns.str.startswith(col_to_drop)]\\n\\n# Check VIF now\\nvif = checking_vif(x_train2)\\nprint(\\\"VIF after dropping \\\", col_to_drop)\\nvif\";\n",
       "                var nbb_cells = Jupyter.notebook.get_cells();\n",
       "                for (var i = 0; i < nbb_cells.length; ++i) {\n",
       "                    if (nbb_cells[i].input_prompt_number == nbb_cell_id) {\n",
       "                        if (nbb_cells[i].get_text() == nbb_unformatted_code) {\n",
       "                             nbb_cells[i].set_text(nbb_formatted_code);\n",
       "                        }\n",
       "                        break;\n",
       "                    }\n",
       "                }\n",
       "            }, 500);\n",
       "            "
      ],
      "text/plain": [
       "<IPython.core.display.Javascript object>"
      ]
     },
     "metadata": {},
     "output_type": "display_data"
    }
   ],
   "source": [
    "col_to_drop = \"screen_size\"\n",
    "x_train2 = x_train.loc[:, ~x_train.columns.str.startswith(col_to_drop)]\n",
    "x_test2 = x_test.loc[:, ~x_test.columns.str.startswith(col_to_drop)]\n",
    "\n",
    "# Check VIF now\n",
    "vif = checking_vif(x_train2)\n",
    "print(\"VIF after dropping \", col_to_drop)\n",
    "vif"
   ]
  },
  {
   "cell_type": "markdown",
   "metadata": {},
   "source": [
    "* We have dealt with multicollinearity in the data\n",
    "* Let's rebuild the model using the updated set of predictors variables"
   ]
  },
  {
   "cell_type": "code",
   "execution_count": 72,
   "metadata": {
    "scrolled": false
   },
   "outputs": [
    {
     "name": "stdout",
     "output_type": "stream",
     "text": [
      "                              OLS Regression Results                             \n",
      "=================================================================================\n",
      "Dep. Variable:     normalized_used_price   R-squared:                       0.847\n",
      "Model:                               OLS   Adj. R-squared:                  0.842\n",
      "Method:                    Least Squares   F-statistic:                     157.5\n",
      "Date:                   Thu, 05 Jan 2023   Prob (F-statistic):               0.00\n",
      "Time:                           16:25:51   Log-Likelihood:                 139.96\n",
      "No. Observations:                   2417   AIC:                            -113.9\n",
      "Df Residuals:                       2334   BIC:                             366.7\n",
      "Df Model:                             82                                         \n",
      "Covariance Type:               nonrobust                                         \n",
      "======================================================================================================================================================================================================================================================================================================================================================\n",
      "                                                                                                                                                                                                                                                                                         coef    std err          t      P>|t|      [0.025      0.975]\n",
      "------------------------------------------------------------------------------------------------------------------------------------------------------------------------------------------------------------------------------------------------------------------------------------------------------------------------------------------------------\n",
      "const                                                                                                                                                                                                                                                                                  1.8648      0.076     24.415      0.000       1.715       2.015\n",
      "selfie_camera_mp                                                                                                                                                                                                                                                                       0.0141      0.001     12.336      0.000       0.012       0.016\n",
      "int_memory                                                                                                                                                                                                                                                                             0.0002   7.15e-05      2.123      0.034    1.16e-05       0.000\n",
      "ram                                                                                                                                                                                                                                                                                    0.0219      0.005      4.180      0.000       0.012       0.032\n",
      "battery                                                                                                                                                                                                                                                                            -6.203e-06   7.27e-06     -0.853      0.394   -2.05e-05    8.05e-06\n",
      "weight                                                                                                                                                                                                                                                                                 0.0018   9.55e-05     18.759      0.000       0.002       0.002\n",
      "days_used                                                                                                                                                                                                                                                                           1.266e-05   3.14e-05      0.404      0.686   -4.88e-05    7.41e-05\n",
      "normalized_new_price                                                                                                                                                                                                                                                                   0.4233      0.013     32.898      0.000       0.398       0.449\n",
      "device_age                                                                                                                                                                                                                                                                            -0.0275      0.005     -5.921      0.000      -0.037      -0.018\n",
      "brand_name_Alcatel                                                                                                                                                                                                                                                                     0.0120      0.048      0.252      0.801      -0.082       0.106\n",
      "brand_name_Apple                                                                                                                                                                                                                                                                      -0.0447      0.148     -0.301      0.763      -0.336       0.246\n",
      "brand_name_Asus                                                                                                                                                                                                                                                                       -0.0113      0.048     -0.233      0.815      -0.106       0.083\n",
      "brand_name_BlackBerry                                                                                                                                                                                                                                                                 -0.0930      0.073     -1.280      0.201      -0.235       0.049\n",
      "brand_name_Celkon                                                                                                                                                                                                                                                                     -0.0562      0.067     -0.833      0.405      -0.188       0.076\n",
      "brand_name_Coolpad                                                                                                                                                                                                                                                                    -0.0015      0.073     -0.020      0.984      -0.145       0.142\n",
      "brand_name_Gionee                                                                                                                                                                                                                                                                      0.0120      0.058      0.207      0.836      -0.102       0.126\n",
      "brand_name_Google                                                                                                                                                                                                                                                                      0.0267      0.158      0.169      0.866      -0.284       0.337\n",
      "brand_name_HTC                                                                                                                                                                                                                                                                        -0.0317      0.049     -0.645      0.519      -0.128       0.065\n",
      "brand_name_Honor                                                                                                                                                                                                                                                                       0.0201      0.050      0.404      0.687      -0.077       0.118\n",
      "brand_name_Huawei                                                                                                                                                                                                                                                                     -0.0301      0.045     -0.665      0.506      -0.119       0.059\n",
      "brand_name_Infinix                                                                                                                                                                                                                                                                     0.0104      0.047      0.223      0.824      -0.081       0.102\n",
      "brand_name_Karbonn                                                                                                                                                                                                                                                                     0.0808      0.067      1.198      0.231      -0.051       0.213\n",
      "brand_name_LG                                                                                                                                                                                                                                                                         -0.0401      0.046     -0.877      0.380      -0.130       0.050\n",
      "brand_name_Lava                                                                                                                                                                                                                                                                        0.0124      0.063      0.198      0.843      -0.111       0.136\n",
      "brand_name_Lenovo                                                                                                                                                                                                                                                                      0.0218      0.046      0.478      0.633      -0.068       0.111\n",
      "brand_name_Meizu                                                                                                                                                                                                                                                                      -0.0353      0.057     -0.623      0.533      -0.146       0.076\n",
      "brand_name_Micromax                                                                                                                                                                                                                                                                   -0.0376      0.048     -0.780      0.435      -0.132       0.057\n",
      "brand_name_Microsoft                                                                                                                                                                                                                                                                   0.0463      0.090      0.515      0.607      -0.130       0.223\n",
      "brand_name_Motorola                                                                                                                                                                                                                                                                   -0.0263      0.050     -0.522      0.602      -0.125       0.073\n",
      "brand_name_Nokia                                                                                                                                                                                                                                                                       0.0536      0.052      1.021      0.307      -0.049       0.157\n",
      "brand_name_OnePlus                                                                                                                                                                                                                                                                     0.0634      0.078      0.814      0.415      -0.089       0.216\n",
      "brand_name_Oppo                                                                                                                                                                                                                                                                       -0.0102      0.048     -0.211      0.833      -0.105       0.084\n",
      "brand_name_Others                                                                                                                                                                                                                                                                     -0.0357      0.042     -0.841      0.400      -0.119       0.047\n",
      "brand_name_Panasonic                                                                                                                                                                                                                                                                   0.0316      0.056      0.562      0.574      -0.079       0.142\n",
      "brand_name_Realme                                                                                                                                                                                                                                                                     -0.0048      0.062     -0.077      0.939      -0.127       0.117\n",
      "brand_name_Samsung                                                                                                                                                                                                                                                                    -0.0601      0.044     -1.373      0.170      -0.146       0.026\n",
      "brand_name_Sony                                                                                                                                                                                                                                                                       -0.0621      0.056     -1.115      0.265      -0.171       0.047\n",
      "brand_name_Spice                                                                                                                                                                                                                                                                      -0.0438      0.064     -0.687      0.492      -0.169       0.081\n",
      "brand_name_Vivo                                                                                                                                                                                                                                                                       -0.0353      0.049     -0.721      0.471      -0.131       0.061\n",
      "brand_name_XOLO                                                                                                                                                                                                                                                                       -0.0072      0.055     -0.130      0.897      -0.115       0.101\n",
      "brand_name_Xiaomi                                                                                                                                                                                                                                                                      0.0522      0.049      1.067      0.286      -0.044       0.148\n",
      "brand_name_ZTE                                                                                                                                                                                                                                                                        -0.0214      0.048     -0.442      0.658      -0.116       0.073\n",
      "os_Others                                                                                                                                                                                                                                                                             -0.0517      0.034     -1.529      0.126      -0.118       0.015\n",
      "os_Windows                                                                                                                                                                                                                                                                          9.949e-05      0.048      0.002      0.998      -0.094       0.094\n",
      "os_iOS                                                                                                                                                                                                                                                                                -0.0666      0.147     -0.454      0.650      -0.354       0.221\n",
      "4g_yes                                                                                                                                                                                                                                                                                 0.0442      0.016      2.719      0.007       0.012       0.076\n",
      "5g_yes                                                                                                                                                                                                                                                                                -0.0757      0.032     -2.331      0.020      -0.139      -0.012\n",
      "main_camera_mp_8.0                                                                                                                                                                                                                                                                    -0.1117      0.015     -7.459      0.000      -0.141      -0.082\n",
      "main_camera_mp_5.0                                                                                                                                                                                                                                                                    -0.1875      0.019     -9.864      0.000      -0.225      -0.150\n",
      "main_camera_mp_10.5                                                                                                                                                                                                                                                                    0.0239      0.055      0.430      0.667      -0.085       0.133\n",
      "main_camera_mp_3.15                                                                                                                                                                                                                                                                   -0.2616      0.032     -8.190      0.000      -0.324      -0.199\n",
      "main_camera_mp_<bound method NDFrame._add_numeric_operations.<locals>.median of 0       13.0\n",
      "1       13.0\n",
      "2       13.0\n",
      "3       13.0\n",
      "4       13.0\n",
      "        ... \n",
      "3449    13.0\n",
      "3450    13.0\n",
      "3451    13.0\n",
      "3452    13.0\n",
      "3453    13.0\n",
      "Name: main_camera_mp, Length: 3454, dtype: float64>     0.0104      0.047      0.223      0.824      -0.081       0.102\n",
      "main_camera_mp_2.0                                                                                                                                                                                                                                                                    -0.2916      0.029    -10.082      0.000      -0.348      -0.235\n",
      "main_camera_mp_16.0                                                                                                                                                                                                                                                                    0.1007      0.025      4.028      0.000       0.052       0.150\n",
      "main_camera_mp_0.3                                                                                                                                                                                                                                                                    -0.5001      0.044    -11.299      0.000      -0.587      -0.413\n",
      "main_camera_mp_12.0                                                                                                                                                                                                                                                                   -0.0034      0.024     -0.142      0.887      -0.051       0.044\n",
      "main_camera_mp_14.5                                                                                                                                                                                                                                                                   -0.0021      0.079     -0.026      0.979      -0.156       0.152\n",
      "main_camera_mp_48.0                                                                                                                                                                                                                                                                    0.2811      0.119      2.367      0.018       0.048       0.514\n",
      "main_camera_mp_3.0                                                                                                                                                                                                                                                                    -0.1301      0.137     -0.947      0.344      -0.399       0.139\n",
      "main_camera_mp_21.0                                                                                                                                                                                                                                                                    0.0650      0.069      0.938      0.348      -0.071       0.201\n",
      "main_camera_mp_1.3                                                                                                                                                                                                                                                                    -0.5078      0.067     -7.585      0.000      -0.639      -0.377\n",
      "main_camera_mp_13.1                                                                                                                                                                                                                                                                    0.1453      0.167      0.872      0.383      -0.182       0.472\n",
      "main_camera_mp_24.0                                                                                                                                                                                                                                                                    0.0584      0.136      0.431      0.667      -0.208       0.325\n",
      "main_camera_mp_0.08                                                                                                                                                                                                                                                                   -0.4685      0.237     -1.979      0.048      -0.933      -0.004\n",
      "main_camera_mp_20.7                                                                                                                                                                                                                                                                    0.0896      0.083      1.074      0.283      -0.074       0.253\n",
      "main_camera_mp_23.0                                                                                                                                                                                                                                                                    0.2515      0.073      3.427      0.001       0.108       0.395\n",
      "main_camera_mp_1.0                                                                                                                                                                                                                                                                  6.437e-17   1.06e-16      0.607      0.544   -1.43e-16    2.72e-16\n",
      "main_camera_mp_18.0                                                                                                                                                                                                                                                                    0.0370      0.240      0.154      0.878      -0.434       0.508\n",
      "main_camera_mp_12.2                                                                                                                                                                                                                                                                   -0.1595      0.177     -0.900      0.368      -0.507       0.188\n",
      "main_camera_mp_12.3                                                                                                                                                                                                                                                                    0.0492      0.109      0.450      0.652      -0.165       0.263\n",
      "main_camera_mp_20.0                                                                                                                                                                                                                                                                    0.1222      0.097      1.254      0.210      -0.069       0.313\n",
      "main_camera_mp_20.2                                                                                                                                                                                                                                                                    0.0229      0.234      0.098      0.922      -0.437       0.482\n",
      "main_camera_mp_4.0                                                                                                                                                                                                                                                                    -0.2963      0.099     -2.982      0.003      -0.491      -0.101\n",
      "main_camera_mp_12.5                                                                                                                                                                                                                                                                    0.0820      0.118      0.694      0.488      -0.150       0.314\n",
      "main_camera_mp_10.0                                                                                                                                                                                                                                                                   -0.2113      0.120     -1.760      0.079      -0.447       0.024\n",
      "main_camera_mp_6.5                                                                                                                                                                                                                                                                    -0.1234      0.166     -0.744      0.457      -0.449       0.202\n",
      "main_camera_mp_6.7                                                                                                                                                                                                                                                                    -0.3012      0.129     -2.338      0.019      -0.554      -0.049\n",
      "main_camera_mp_41.0                                                                                                                                                                                                                                                                -1.601e-17   5.15e-17     -0.311      0.756   -1.17e-16    8.49e-17\n",
      "main_camera_mp_20.1                                                                                                                                                                                                                                                                -7.085e-17   9.56e-17     -0.741      0.459   -2.58e-16    1.17e-16\n",
      "main_camera_mp_12.6                                                                                                                                                                                                                                                                  4.63e-18   8.19e-17      0.057      0.955   -1.56e-16    1.65e-16\n",
      "main_camera_mp_16.3                                                                                                                                                                                                                                                                    0.2348      0.234      1.003      0.316      -0.224       0.694\n",
      "main_camera_mp_22.6                                                                                                                                                                                                                                                                   -0.1174      0.234     -0.502      0.616      -0.576       0.341\n",
      "main_camera_mp_19.0                                                                                                                                                                                                                                                                   -0.1144      0.103     -1.113      0.266      -0.316       0.087\n",
      "main_camera_mp_21.5                                                                                                                                                                                                                                                                    0.1429      0.236      0.605      0.545      -0.320       0.606\n",
      "main_camera_mp_21.2                                                                                                                                                                                                                                                                    0.2130      0.169      1.259      0.208      -0.119       0.545\n",
      "main_camera_mp_8.1                                                                                                                                                                                                                                                                    -0.1100      0.123     -0.891      0.373      -0.352       0.132\n",
      "main_camera_mp_1.2                                                                                                                                                                                                                                                                    -0.0855      0.237     -0.360      0.719      -0.551       0.380\n",
      "main_camera_mp_22.5                                                                                                                                                                                                                                                                    0.1437      0.234      0.614      0.539      -0.315       0.603\n",
      "==============================================================================\n",
      "Omnibus:                      212.968   Durbin-Watson:                   1.908\n",
      "Prob(Omnibus):                  0.000   Jarque-Bera (JB):              402.662\n",
      "Skew:                          -0.595   Prob(JB):                     3.66e-88\n",
      "Kurtosis:                       4.607   Cond. No.                     4.24e+19\n",
      "==============================================================================\n",
      "\n",
      "Notes:\n",
      "[1] Standard Errors assume that the covariance matrix of the errors is correctly specified.\n",
      "[2] The smallest eigenvalue is 1.61e-29. This might indicate that there are\n",
      "strong multicollinearity problems or that the design matrix is singular.\n"
     ]
    },
    {
     "data": {
      "application/javascript": [
       "\n",
       "            setTimeout(function() {\n",
       "                var nbb_cell_id = 72;\n",
       "                var nbb_unformatted_code = \"olsmod1 = sm.OLS(y_train, x_train2).fit()\\nprint(olsmod1.summary())\";\n",
       "                var nbb_formatted_code = \"olsmod1 = sm.OLS(y_train, x_train2).fit()\\nprint(olsmod1.summary())\";\n",
       "                var nbb_cells = Jupyter.notebook.get_cells();\n",
       "                for (var i = 0; i < nbb_cells.length; ++i) {\n",
       "                    if (nbb_cells[i].input_prompt_number == nbb_cell_id) {\n",
       "                        if (nbb_cells[i].get_text() == nbb_unformatted_code) {\n",
       "                             nbb_cells[i].set_text(nbb_formatted_code);\n",
       "                        }\n",
       "                        break;\n",
       "                    }\n",
       "                }\n",
       "            }, 500);\n",
       "            "
      ],
      "text/plain": [
       "<IPython.core.display.Javascript object>"
      ]
     },
     "metadata": {},
     "output_type": "display_data"
    }
   ],
   "source": [
    "olsmod1 = sm.OLS(y_train, x_train2).fit()\n",
    "print(olsmod1.summary())"
   ]
  },
  {
   "cell_type": "markdown",
   "metadata": {},
   "source": [
    "#### Interpreting the Regression Results:\n",
    "\n",
    "4. **std err**: It reflects the level of accuracy of the coefficients.\n",
    "    - The lower it is, the higher is the level of accuracy.\n",
    "\n",
    "\n",
    "5. **P>|t|**: It is p-value.\n",
    "   \n",
    "    * For each independent feature, there is a null hypothesis and an alternate hypothesis. Here $\\beta_i$ is the coefficient of the $i$th independent variable.\n",
    "\n",
    "        - $H_o$ : Independent feature is not significant ($\\beta_i = 0$)\n",
    "        - $H_a$ : Independent feature is that it is significant ($\\beta_i \\neq 0$)\n",
    "\n",
    "    * (P>|t|) gives the p-value for each independent feature to check that null hypothesis. We are considering 0.05 (5%) as significance level.\n",
    "        \n",
    "        - A p-value of less than 0.05 is considered to be statistically significant.\n",
    "\n",
    "\n",
    "6. **Confidence Interval**: It represents the range in which our coefficients are likely to fall (with a likelihood of 95%).\n"
   ]
  },
  {
   "cell_type": "markdown",
   "metadata": {},
   "source": [
    "**Observations**\n",
    "\n",
    "- We can see that adj. R-squared has dropped from 0.845 to 0.842, which shows that the dropped columns did not have much effect on the model\n",
    "- As there is no multicollinearity, we can look at the p-values of predictor variables to check their significance"
   ]
  },
  {
   "cell_type": "markdown",
   "metadata": {},
   "source": [
    "#### Dropping high p-value variables (if needed)\n",
    "\n",
    "- We will drop the predictor variables having a p-value greater than 0.05 as they do not significantly impact the target variable.\n",
    "- But sometimes p-values change after dropping a variable. So, we'll not drop all variables at once.\n",
    "- Instead, we will do the following:\n",
    "    - Build a model, check the p-values of the variables, and drop the column with the highest p-value.\n",
    "    - Create a new model without the dropped feature, check the p-values of the variables, and drop the column with the highest p-value.\n",
    "    - Repeat the above two steps till there are no columns with p-value > 0.05.\n",
    "\n",
    "The above process can also be done manually by picking one variable at a time that has a high p-value, dropping it, and building a model again. But that might be a little tedious and using a loop will be more efficient."
   ]
  },
  {
   "cell_type": "code",
   "execution_count": 73,
   "metadata": {},
   "outputs": [
    {
     "name": "stdout",
     "output_type": "stream",
     "text": [
      "['const', 'selfie_camera_mp', 'ram', 'weight', 'normalized_new_price', 'device_age', 'brand_name_Nokia', 'brand_name_Samsung', 'brand_name_Xiaomi', 'os_Others', '4g_yes', 'main_camera_mp_8.0', 'main_camera_mp_5.0', 'main_camera_mp_3.15', 'main_camera_mp_2.0', 'main_camera_mp_16.0', 'main_camera_mp_0.3', 'main_camera_mp_48.0', 'main_camera_mp_1.3', 'main_camera_mp_0.08', 'main_camera_mp_23.0', 'main_camera_mp_4.0', 'main_camera_mp_6.7']\n"
     ]
    },
    {
     "data": {
      "application/javascript": [
       "\n",
       "            setTimeout(function() {\n",
       "                var nbb_cell_id = 73;\n",
       "                var nbb_unformatted_code = \"# initial list of columns\\npredictors = (\\n    x_train2.copy()\\n)  \\ncols = predictors.columns.tolist()\\n\\n# setting an initial max p-value\\nmax_p_value = 1\\n\\nwhile len(cols) > 0:\\n    # defining the train set\\n    x_train_aux = predictors[cols]\\n\\n    # fitting the model\\n    model = sm.OLS(y_train, x_train_aux).fit()\\n\\n    # getting the p-values and the maximum p-value\\n    p_values = model.pvalues\\n    max_p_value = max(p_values)\\n\\n    # name of the variable with maximum p-value\\n    feature_with_p_max = p_values.idxmax()\\n\\n    if max_p_value > 0.05:\\n        cols.remove(feature_with_p_max)\\n    else:\\n        break\\n\\nselected_features = cols\\nprint(selected_features)\";\n",
       "                var nbb_formatted_code = \"# initial list of columns\\npredictors = x_train2.copy()\\ncols = predictors.columns.tolist()\\n\\n# setting an initial max p-value\\nmax_p_value = 1\\n\\nwhile len(cols) > 0:\\n    # defining the train set\\n    x_train_aux = predictors[cols]\\n\\n    # fitting the model\\n    model = sm.OLS(y_train, x_train_aux).fit()\\n\\n    # getting the p-values and the maximum p-value\\n    p_values = model.pvalues\\n    max_p_value = max(p_values)\\n\\n    # name of the variable with maximum p-value\\n    feature_with_p_max = p_values.idxmax()\\n\\n    if max_p_value > 0.05:\\n        cols.remove(feature_with_p_max)\\n    else:\\n        break\\n\\nselected_features = cols\\nprint(selected_features)\";\n",
       "                var nbb_cells = Jupyter.notebook.get_cells();\n",
       "                for (var i = 0; i < nbb_cells.length; ++i) {\n",
       "                    if (nbb_cells[i].input_prompt_number == nbb_cell_id) {\n",
       "                        if (nbb_cells[i].get_text() == nbb_unformatted_code) {\n",
       "                             nbb_cells[i].set_text(nbb_formatted_code);\n",
       "                        }\n",
       "                        break;\n",
       "                    }\n",
       "                }\n",
       "            }, 500);\n",
       "            "
      ],
      "text/plain": [
       "<IPython.core.display.Javascript object>"
      ]
     },
     "metadata": {},
     "output_type": "display_data"
    }
   ],
   "source": [
    "# initial list of columns\n",
    "predictors = x_train2.copy()\n",
    "cols = predictors.columns.tolist()\n",
    "\n",
    "# setting an initial max p-value\n",
    "max_p_value = 1\n",
    "\n",
    "while len(cols) > 0:\n",
    "    # defining the train set\n",
    "    x_train_aux = predictors[cols]\n",
    "\n",
    "    # fitting the model\n",
    "    model = sm.OLS(y_train, x_train_aux).fit()\n",
    "\n",
    "    # getting the p-values and the maximum p-value\n",
    "    p_values = model.pvalues\n",
    "    max_p_value = max(p_values)\n",
    "\n",
    "    # name of the variable with maximum p-value\n",
    "    feature_with_p_max = p_values.idxmax()\n",
    "\n",
    "    if max_p_value > 0.05:\n",
    "        cols.remove(feature_with_p_max)\n",
    "    else:\n",
    "        break\n",
    "\n",
    "selected_features = cols\n",
    "print(selected_features)"
   ]
  },
  {
   "cell_type": "code",
   "execution_count": 75,
   "metadata": {},
   "outputs": [
    {
     "data": {
      "application/javascript": [
       "\n",
       "            setTimeout(function() {\n",
       "                var nbb_cell_id = 75;\n",
       "                var nbb_unformatted_code = \"x_train3 = x_train2[selected_features] \\n\\nx_test3 = x_test2[selected_features]  \";\n",
       "                var nbb_formatted_code = \"x_train3 = x_train2[selected_features]\\n\\nx_test3 = x_test2[selected_features]\";\n",
       "                var nbb_cells = Jupyter.notebook.get_cells();\n",
       "                for (var i = 0; i < nbb_cells.length; ++i) {\n",
       "                    if (nbb_cells[i].input_prompt_number == nbb_cell_id) {\n",
       "                        if (nbb_cells[i].get_text() == nbb_unformatted_code) {\n",
       "                             nbb_cells[i].set_text(nbb_formatted_code);\n",
       "                        }\n",
       "                        break;\n",
       "                    }\n",
       "                }\n",
       "            }, 500);\n",
       "            "
      ],
      "text/plain": [
       "<IPython.core.display.Javascript object>"
      ]
     },
     "metadata": {},
     "output_type": "display_data"
    }
   ],
   "source": [
    "x_train3 = x_train2[selected_features]\n",
    "\n",
    "x_test3 = x_test2[selected_features]"
   ]
  },
  {
   "cell_type": "code",
   "execution_count": 76,
   "metadata": {},
   "outputs": [
    {
     "name": "stdout",
     "output_type": "stream",
     "text": [
      "                              OLS Regression Results                             \n",
      "=================================================================================\n",
      "Dep. Variable:     normalized_used_price   R-squared:                       0.843\n",
      "Model:                               OLS   Adj. R-squared:                  0.842\n",
      "Method:                    Least Squares   F-statistic:                     585.8\n",
      "Date:                   Thu, 05 Jan 2023   Prob (F-statistic):               0.00\n",
      "Time:                           16:39:13   Log-Likelihood:                 111.79\n",
      "No. Observations:                   2417   AIC:                            -177.6\n",
      "Df Residuals:                       2394   BIC:                            -44.41\n",
      "Df Model:                             22                                         \n",
      "Covariance Type:               nonrobust                                         \n",
      "========================================================================================\n",
      "                           coef    std err          t      P>|t|      [0.025      0.975]\n",
      "----------------------------------------------------------------------------------------\n",
      "const                    1.9045      0.053     35.747      0.000       1.800       2.009\n",
      "selfie_camera_mp         0.0148      0.001     13.809      0.000       0.013       0.017\n",
      "ram                      0.0172      0.004      3.841      0.000       0.008       0.026\n",
      "weight                   0.0017   6.02e-05     28.686      0.000       0.002       0.002\n",
      "normalized_new_price     0.4139      0.011     37.393      0.000       0.392       0.436\n",
      "device_age              -0.0242      0.003     -7.197      0.000      -0.031      -0.018\n",
      "brand_name_Nokia         0.0700      0.032      2.192      0.028       0.007       0.133\n",
      "brand_name_Samsung      -0.0351      0.016     -2.137      0.033      -0.067      -0.003\n",
      "brand_name_Xiaomi        0.0695      0.026      2.723      0.007       0.019       0.120\n",
      "os_Others               -0.0735      0.031     -2.393      0.017      -0.134      -0.013\n",
      "4g_yes                   0.0396      0.015      2.636      0.008       0.010       0.069\n",
      "main_camera_mp_8.0      -0.1167      0.014     -8.532      0.000      -0.144      -0.090\n",
      "main_camera_mp_5.0      -0.1924      0.017    -11.043      0.000      -0.227      -0.158\n",
      "main_camera_mp_3.15     -0.2670      0.030     -8.902      0.000      -0.326      -0.208\n",
      "main_camera_mp_2.0      -0.2935      0.027    -10.941      0.000      -0.346      -0.241\n",
      "main_camera_mp_16.0      0.0996      0.024      4.115      0.000       0.052       0.147\n",
      "main_camera_mp_0.3      -0.5164      0.042    -12.349      0.000      -0.598      -0.434\n",
      "main_camera_mp_48.0      0.2916      0.117      2.500      0.012       0.063       0.520\n",
      "main_camera_mp_1.3      -0.5173      0.063     -8.153      0.000      -0.642      -0.393\n",
      "main_camera_mp_0.08     -0.4858      0.236     -2.062      0.039      -0.948      -0.024\n",
      "main_camera_mp_23.0      0.2220      0.068      3.288      0.001       0.090       0.354\n",
      "main_camera_mp_4.0      -0.3108      0.096     -3.254      0.001      -0.498      -0.124\n",
      "main_camera_mp_6.7      -0.2915      0.121     -2.401      0.016      -0.530      -0.053\n",
      "==============================================================================\n",
      "Omnibus:                      212.823   Durbin-Watson:                   1.913\n",
      "Prob(Omnibus):                  0.000   Jarque-Bera (JB):              413.455\n",
      "Skew:                          -0.586   Prob(JB):                     1.66e-90\n",
      "Kurtosis:                       4.653   Cond. No.                     1.02e+04\n",
      "==============================================================================\n",
      "\n",
      "Notes:\n",
      "[1] Standard Errors assume that the covariance matrix of the errors is correctly specified.\n",
      "[2] The condition number is large, 1.02e+04. This might indicate that there are\n",
      "strong multicollinearity or other numerical problems.\n"
     ]
    },
    {
     "data": {
      "application/javascript": [
       "\n",
       "            setTimeout(function() {\n",
       "                var nbb_cell_id = 76;\n",
       "                var nbb_unformatted_code = \"olsmodel2 = sm.OLS(y_train, x_train3).fit() \\nprint(olsmodel2.summary())\";\n",
       "                var nbb_formatted_code = \"olsmodel2 = sm.OLS(y_train, x_train3).fit()\\nprint(olsmodel2.summary())\";\n",
       "                var nbb_cells = Jupyter.notebook.get_cells();\n",
       "                for (var i = 0; i < nbb_cells.length; ++i) {\n",
       "                    if (nbb_cells[i].input_prompt_number == nbb_cell_id) {\n",
       "                        if (nbb_cells[i].get_text() == nbb_unformatted_code) {\n",
       "                             nbb_cells[i].set_text(nbb_formatted_code);\n",
       "                        }\n",
       "                        break;\n",
       "                    }\n",
       "                }\n",
       "            }, 500);\n",
       "            "
      ],
      "text/plain": [
       "<IPython.core.display.Javascript object>"
      ]
     },
     "metadata": {},
     "output_type": "display_data"
    }
   ],
   "source": [
    "olsmodel2 = sm.OLS(y_train, x_train3).fit()\n",
    "print(olsmodel2.summary())"
   ]
  },
  {
   "cell_type": "code",
   "execution_count": 77,
   "metadata": {},
   "outputs": [
    {
     "name": "stdout",
     "output_type": "stream",
     "text": [
      "Training Performance\n",
      "\n"
     ]
    },
    {
     "data": {
      "text/html": [
       "<div>\n",
       "<style scoped>\n",
       "    .dataframe tbody tr th:only-of-type {\n",
       "        vertical-align: middle;\n",
       "    }\n",
       "\n",
       "    .dataframe tbody tr th {\n",
       "        vertical-align: top;\n",
       "    }\n",
       "\n",
       "    .dataframe thead th {\n",
       "        text-align: right;\n",
       "    }\n",
       "</style>\n",
       "<table border=\"1\" class=\"dataframe\">\n",
       "  <thead>\n",
       "    <tr style=\"text-align: right;\">\n",
       "      <th></th>\n",
       "      <th>RMSE</th>\n",
       "      <th>MAE</th>\n",
       "      <th>R-squared</th>\n",
       "      <th>Adj. R-squared</th>\n",
       "      <th>MAPE</th>\n",
       "    </tr>\n",
       "  </thead>\n",
       "  <tbody>\n",
       "    <tr>\n",
       "      <th>0</th>\n",
       "      <td>0.231034</td>\n",
       "      <td>0.180656</td>\n",
       "      <td>0.84333</td>\n",
       "      <td>0.841824</td>\n",
       "      <td>4.326668</td>\n",
       "    </tr>\n",
       "  </tbody>\n",
       "</table>\n",
       "</div>"
      ],
      "text/plain": [
       "       RMSE       MAE  R-squared  Adj. R-squared      MAPE\n",
       "0  0.231034  0.180656    0.84333        0.841824  4.326668"
      ]
     },
     "execution_count": 77,
     "metadata": {},
     "output_type": "execute_result"
    },
    {
     "data": {
      "application/javascript": [
       "\n",
       "            setTimeout(function() {\n",
       "                var nbb_cell_id = 77;\n",
       "                var nbb_unformatted_code = \"# checking model performance on train set (seen 70% data)\\nprint(\\\"Training Performance\\\\n\\\")\\nolsmodel2_train_perf = model_performance_regression(olsmodel2, x_train3, y_train) \\nolsmodel2_train_perf\";\n",
       "                var nbb_formatted_code = \"# checking model performance on train set (seen 70% data)\\nprint(\\\"Training Performance\\\\n\\\")\\nolsmodel2_train_perf = model_performance_regression(olsmodel2, x_train3, y_train)\\nolsmodel2_train_perf\";\n",
       "                var nbb_cells = Jupyter.notebook.get_cells();\n",
       "                for (var i = 0; i < nbb_cells.length; ++i) {\n",
       "                    if (nbb_cells[i].input_prompt_number == nbb_cell_id) {\n",
       "                        if (nbb_cells[i].get_text() == nbb_unformatted_code) {\n",
       "                             nbb_cells[i].set_text(nbb_formatted_code);\n",
       "                        }\n",
       "                        break;\n",
       "                    }\n",
       "                }\n",
       "            }, 500);\n",
       "            "
      ],
      "text/plain": [
       "<IPython.core.display.Javascript object>"
      ]
     },
     "metadata": {},
     "output_type": "display_data"
    }
   ],
   "source": [
    "# checking model performance on train set (seen 70% data)\n",
    "print(\"Training Performance\\n\")\n",
    "olsmodel2_train_perf = model_performance_regression(olsmodel2, x_train3, y_train)\n",
    "olsmodel2_train_perf"
   ]
  },
  {
   "cell_type": "code",
   "execution_count": 78,
   "metadata": {},
   "outputs": [
    {
     "name": "stdout",
     "output_type": "stream",
     "text": [
      "Test Performance\n",
      "\n"
     ]
    },
    {
     "data": {
      "text/html": [
       "<div>\n",
       "<style scoped>\n",
       "    .dataframe tbody tr th:only-of-type {\n",
       "        vertical-align: middle;\n",
       "    }\n",
       "\n",
       "    .dataframe tbody tr th {\n",
       "        vertical-align: top;\n",
       "    }\n",
       "\n",
       "    .dataframe thead th {\n",
       "        text-align: right;\n",
       "    }\n",
       "</style>\n",
       "<table border=\"1\" class=\"dataframe\">\n",
       "  <thead>\n",
       "    <tr style=\"text-align: right;\">\n",
       "      <th></th>\n",
       "      <th>RMSE</th>\n",
       "      <th>MAE</th>\n",
       "      <th>R-squared</th>\n",
       "      <th>Adj. R-squared</th>\n",
       "      <th>MAPE</th>\n",
       "    </tr>\n",
       "  </thead>\n",
       "  <tbody>\n",
       "    <tr>\n",
       "      <th>0</th>\n",
       "      <td>0.241582</td>\n",
       "      <td>0.187423</td>\n",
       "      <td>0.838189</td>\n",
       "      <td>0.834515</td>\n",
       "      <td>4.545072</td>\n",
       "    </tr>\n",
       "  </tbody>\n",
       "</table>\n",
       "</div>"
      ],
      "text/plain": [
       "       RMSE       MAE  R-squared  Adj. R-squared      MAPE\n",
       "0  0.241582  0.187423   0.838189        0.834515  4.545072"
      ]
     },
     "execution_count": 78,
     "metadata": {},
     "output_type": "execute_result"
    },
    {
     "data": {
      "application/javascript": [
       "\n",
       "            setTimeout(function() {\n",
       "                var nbb_cell_id = 78;\n",
       "                var nbb_unformatted_code = \"# checking model performance on test set (seen 30% data)\\nprint(\\\"Test Performance\\\\n\\\")\\nolsmodel2_test_perf = model_performance_regression(olsmodel2, x_test3, y_test)  \\nolsmodel2_test_perf\";\n",
       "                var nbb_formatted_code = \"# checking model performance on test set (seen 30% data)\\nprint(\\\"Test Performance\\\\n\\\")\\nolsmodel2_test_perf = model_performance_regression(olsmodel2, x_test3, y_test)\\nolsmodel2_test_perf\";\n",
       "                var nbb_cells = Jupyter.notebook.get_cells();\n",
       "                for (var i = 0; i < nbb_cells.length; ++i) {\n",
       "                    if (nbb_cells[i].input_prompt_number == nbb_cell_id) {\n",
       "                        if (nbb_cells[i].get_text() == nbb_unformatted_code) {\n",
       "                             nbb_cells[i].set_text(nbb_formatted_code);\n",
       "                        }\n",
       "                        break;\n",
       "                    }\n",
       "                }\n",
       "            }, 500);\n",
       "            "
      ],
      "text/plain": [
       "<IPython.core.display.Javascript object>"
      ]
     },
     "metadata": {},
     "output_type": "display_data"
    }
   ],
   "source": [
    "# checking model performance on test set (seen 30% data)\n",
    "print(\"Test Performance\\n\")\n",
    "olsmodel2_test_perf = model_performance_regression(olsmodel2, x_test3, y_test)\n",
    "olsmodel2_test_perf"
   ]
  },
  {
   "cell_type": "markdown",
   "metadata": {},
   "source": [
    "**Observations**\n",
    "\n",
    "* Now no feature has p-value greater than 0.05, so we'll consider the features in *x_train3* as the final set of predictor variables and *olsmod2* as the final model to move forward with\n",
    "* Now adjusted R-squared is 0.842, i.e., our model is able to explain ~84.2% of the variance\n",
    "* The adjusted R-squared in *olsmod1* (where we considered the variables without multicollinearity) was 0.842, this shows that the variables we dropped were not affecting the model\n",
    "* RMSE and MAE values are comparable for train and test sets, indicating that the model is not overfitting"
   ]
  },
  {
   "cell_type": "markdown",
   "metadata": {},
   "source": [
    "**Now we'll check the rest of the assumptions on *olsmod2*.**\n",
    "\n",
    "2. **Linearity of variables**\n",
    "\n",
    "3. **Independence of error terms**\n",
    "\n",
    "4. **Normality of error terms**\n",
    "\n",
    "5. **No Heteroscedasticity**"
   ]
  },
  {
   "cell_type": "markdown",
   "metadata": {},
   "source": [
    "#### TEST FOR LINEARITY AND INDEPENDENCE\n",
    "\n",
    "- We will test for linearity and independence by making a plot of fitted values vs residuals and checking for patterns.\n",
    "- If there is no pattern, then we say the model is linear and residuals are independent.\n",
    "- Otherwise, the model is showing signs of non-linearity and residuals are not independent."
   ]
  },
  {
   "cell_type": "code",
   "execution_count": 79,
   "metadata": {},
   "outputs": [
    {
     "data": {
      "text/html": [
       "<div>\n",
       "<style scoped>\n",
       "    .dataframe tbody tr th:only-of-type {\n",
       "        vertical-align: middle;\n",
       "    }\n",
       "\n",
       "    .dataframe tbody tr th {\n",
       "        vertical-align: top;\n",
       "    }\n",
       "\n",
       "    .dataframe thead th {\n",
       "        text-align: right;\n",
       "    }\n",
       "</style>\n",
       "<table border=\"1\" class=\"dataframe\">\n",
       "  <thead>\n",
       "    <tr style=\"text-align: right;\">\n",
       "      <th></th>\n",
       "      <th>Actual Values</th>\n",
       "      <th>Fitted Values</th>\n",
       "      <th>Residuals</th>\n",
       "    </tr>\n",
       "  </thead>\n",
       "  <tbody>\n",
       "    <tr>\n",
       "      <th>3026</th>\n",
       "      <td>4.087488</td>\n",
       "      <td>3.884290</td>\n",
       "      <td>0.203197</td>\n",
       "    </tr>\n",
       "    <tr>\n",
       "      <th>1525</th>\n",
       "      <td>4.448399</td>\n",
       "      <td>4.603843</td>\n",
       "      <td>-0.155444</td>\n",
       "    </tr>\n",
       "    <tr>\n",
       "      <th>1128</th>\n",
       "      <td>4.315353</td>\n",
       "      <td>4.308518</td>\n",
       "      <td>0.006834</td>\n",
       "    </tr>\n",
       "    <tr>\n",
       "      <th>3003</th>\n",
       "      <td>4.282068</td>\n",
       "      <td>4.190476</td>\n",
       "      <td>0.091592</td>\n",
       "    </tr>\n",
       "    <tr>\n",
       "      <th>2907</th>\n",
       "      <td>4.456438</td>\n",
       "      <td>4.505063</td>\n",
       "      <td>-0.048625</td>\n",
       "    </tr>\n",
       "  </tbody>\n",
       "</table>\n",
       "</div>"
      ],
      "text/plain": [
       "      Actual Values  Fitted Values  Residuals\n",
       "3026       4.087488       3.884290   0.203197\n",
       "1525       4.448399       4.603843  -0.155444\n",
       "1128       4.315353       4.308518   0.006834\n",
       "3003       4.282068       4.190476   0.091592\n",
       "2907       4.456438       4.505063  -0.048625"
      ]
     },
     "execution_count": 79,
     "metadata": {},
     "output_type": "execute_result"
    },
    {
     "data": {
      "application/javascript": [
       "\n",
       "            setTimeout(function() {\n",
       "                var nbb_cell_id = 79;\n",
       "                var nbb_unformatted_code = \"# let us create a dataframe with actual, fitted and residual values\\ndf_pred = pd.DataFrame()\\n\\ndf_pred[\\\"Actual Values\\\"] = y_train  # actual values\\ndf_pred[\\\"Fitted Values\\\"] = olsmodel2.fittedvalues  # predicted values\\ndf_pred[\\\"Residuals\\\"] = olsmodel2.resid  # residuals\\n\\ndf_pred.head()\";\n",
       "                var nbb_formatted_code = \"# let us create a dataframe with actual, fitted and residual values\\ndf_pred = pd.DataFrame()\\n\\ndf_pred[\\\"Actual Values\\\"] = y_train  # actual values\\ndf_pred[\\\"Fitted Values\\\"] = olsmodel2.fittedvalues  # predicted values\\ndf_pred[\\\"Residuals\\\"] = olsmodel2.resid  # residuals\\n\\ndf_pred.head()\";\n",
       "                var nbb_cells = Jupyter.notebook.get_cells();\n",
       "                for (var i = 0; i < nbb_cells.length; ++i) {\n",
       "                    if (nbb_cells[i].input_prompt_number == nbb_cell_id) {\n",
       "                        if (nbb_cells[i].get_text() == nbb_unformatted_code) {\n",
       "                             nbb_cells[i].set_text(nbb_formatted_code);\n",
       "                        }\n",
       "                        break;\n",
       "                    }\n",
       "                }\n",
       "            }, 500);\n",
       "            "
      ],
      "text/plain": [
       "<IPython.core.display.Javascript object>"
      ]
     },
     "metadata": {},
     "output_type": "display_data"
    }
   ],
   "source": [
    "# let us create a dataframe with actual, fitted and residual values\n",
    "df_pred = pd.DataFrame()\n",
    "\n",
    "df_pred[\"Actual Values\"] = y_train  # actual values\n",
    "df_pred[\"Fitted Values\"] = olsmodel2.fittedvalues  # predicted values\n",
    "df_pred[\"Residuals\"] = olsmodel2.resid  # residuals\n",
    "\n",
    "df_pred.head()"
   ]
  },
  {
   "cell_type": "code",
   "execution_count": 80,
   "metadata": {},
   "outputs": [
    {
     "data": {
      "image/png": "[encoded data removed]",
      "text/plain": [
       "<Figure size 432x288 with 1 Axes>"
      ]
     },
     "metadata": {},
     "output_type": "display_data"
    },
    {
     "data": {
      "application/javascript": [
       "\n",
       "            setTimeout(function() {\n",
       "                var nbb_cell_id = 80;\n",
       "                var nbb_unformatted_code = \"# let's plot the fitted values vs residuals\\n\\nsns.residplot(\\n    data=df_pred, x=\\\"Fitted Values\\\", y=\\\"Residuals\\\", color=\\\"purple\\\", lowess=True\\n)\\nplt.xlabel(\\\"Fitted Values\\\")\\nplt.ylabel(\\\"Residuals\\\")\\nplt.title(\\\"Fitted vs Residual plot\\\")\\nplt.show()\";\n",
       "                var nbb_formatted_code = \"# let's plot the fitted values vs residuals\\n\\nsns.residplot(\\n    data=df_pred, x=\\\"Fitted Values\\\", y=\\\"Residuals\\\", color=\\\"purple\\\", lowess=True\\n)\\nplt.xlabel(\\\"Fitted Values\\\")\\nplt.ylabel(\\\"Residuals\\\")\\nplt.title(\\\"Fitted vs Residual plot\\\")\\nplt.show()\";\n",
       "                var nbb_cells = Jupyter.notebook.get_cells();\n",
       "                for (var i = 0; i < nbb_cells.length; ++i) {\n",
       "                    if (nbb_cells[i].input_prompt_number == nbb_cell_id) {\n",
       "                        if (nbb_cells[i].get_text() == nbb_unformatted_code) {\n",
       "                             nbb_cells[i].set_text(nbb_formatted_code);\n",
       "                        }\n",
       "                        break;\n",
       "                    }\n",
       "                }\n",
       "            }, 500);\n",
       "            "
      ],
      "text/plain": [
       "<IPython.core.display.Javascript object>"
      ]
     },
     "metadata": {},
     "output_type": "display_data"
    }
   ],
   "source": [
    "# let's plot the fitted values vs residuals\n",
    "\n",
    "sns.residplot(\n",
    "    data=df_pred, x=\"Fitted Values\", y=\"Residuals\", color=\"purple\", lowess=True\n",
    ")\n",
    "plt.xlabel(\"Fitted Values\")\n",
    "plt.ylabel(\"Residuals\")\n",
    "plt.title(\"Fitted vs Residual plot\")\n",
    "plt.show()"
   ]
  },
  {
   "cell_type": "markdown",
   "metadata": {},
   "source": [
    "**Observations**\n",
    "\n",
    "- We see no pattern in the plot above.\n",
    "- Hence, the assumptions of linearity and independence are satisfied."
   ]
  },
  {
   "cell_type": "markdown",
   "metadata": {},
   "source": [
    "#### TEST FOR NORMALITY\n",
    "\n",
    "- We will test for normality by checking the distribution of residuals, by checking the Q-Q plot of residuals, and by using the Shapiro-Wilk test.\n",
    "- If the residuals follow a normal distribution, they will make a straight line plot, otherwise not.\n",
    "- If the p-value of the Shapiro-Wilk test is greater than 0.05, we can say the residuals are normally distributed."
   ]
  },
  {
   "cell_type": "code",
   "execution_count": 81,
   "metadata": {},
   "outputs": [
    {
     "data": {
      "image/png": "[encoded data removed]",
      "text/plain": [
       "<Figure size 432x288 with 1 Axes>"
      ]
     },
     "metadata": {},
     "output_type": "display_data"
    },
    {
     "data": {
      "application/javascript": [
       "\n",
       "            setTimeout(function() {\n",
       "                var nbb_cell_id = 81;\n",
       "                var nbb_unformatted_code = \"# plotting the distribution of residuals\\nsns.histplot(data=df_pred, x=\\\"Residuals\\\", kde=True)\\nplt.title(\\\"Normality of residuals\\\")\\nplt.show()\";\n",
       "                var nbb_formatted_code = \"# plotting the distribution of residuals\\nsns.histplot(data=df_pred, x=\\\"Residuals\\\", kde=True)\\nplt.title(\\\"Normality of residuals\\\")\\nplt.show()\";\n",
       "                var nbb_cells = Jupyter.notebook.get_cells();\n",
       "                for (var i = 0; i < nbb_cells.length; ++i) {\n",
       "                    if (nbb_cells[i].input_prompt_number == nbb_cell_id) {\n",
       "                        if (nbb_cells[i].get_text() == nbb_unformatted_code) {\n",
       "                             nbb_cells[i].set_text(nbb_formatted_code);\n",
       "                        }\n",
       "                        break;\n",
       "                    }\n",
       "                }\n",
       "            }, 500);\n",
       "            "
      ],
      "text/plain": [
       "<IPython.core.display.Javascript object>"
      ]
     },
     "metadata": {},
     "output_type": "display_data"
    }
   ],
   "source": [
    "# plotting the distribution of residuals\n",
    "sns.histplot(data=df_pred, x=\"Residuals\", kde=True)\n",
    "plt.title(\"Normality of residuals\")\n",
    "plt.show()"
   ]
  },
  {
   "cell_type": "markdown",
   "metadata": {},
   "source": [
    "**Observations**\n",
    "\n",
    "- The histogram of residuals almost has a bell shape structure.\n",
    "- Let's check the Q-Q plot."
   ]
  },
  {
   "cell_type": "code",
   "execution_count": 82,
   "metadata": {},
   "outputs": [
    {
     "data": {
      "image/png": "[encoded data removed]",
      "text/plain": [
       "<Figure size 432x288 with 1 Axes>"
      ]
     },
     "metadata": {},
     "output_type": "display_data"
    },
    {
     "data": {
      "application/javascript": [
       "\n",
       "            setTimeout(function() {\n",
       "                var nbb_cell_id = 82;\n",
       "                var nbb_unformatted_code = \"import pylab\\nimport scipy.stats as stats\\n\\nstats.probplot(df_pred[\\\"Residuals\\\"], dist=\\\"norm\\\", plot=pylab)\\n## Complete the code check Q-Q plot\\nplt.show()\";\n",
       "                var nbb_formatted_code = \"import pylab\\nimport scipy.stats as stats\\n\\nstats.probplot(df_pred[\\\"Residuals\\\"], dist=\\\"norm\\\", plot=pylab)\\n## Complete the code check Q-Q plot\\nplt.show()\";\n",
       "                var nbb_cells = Jupyter.notebook.get_cells();\n",
       "                for (var i = 0; i < nbb_cells.length; ++i) {\n",
       "                    if (nbb_cells[i].input_prompt_number == nbb_cell_id) {\n",
       "                        if (nbb_cells[i].get_text() == nbb_unformatted_code) {\n",
       "                             nbb_cells[i].set_text(nbb_formatted_code);\n",
       "                        }\n",
       "                        break;\n",
       "                    }\n",
       "                }\n",
       "            }, 500);\n",
       "            "
      ],
      "text/plain": [
       "<IPython.core.display.Javascript object>"
      ]
     },
     "metadata": {},
     "output_type": "display_data"
    }
   ],
   "source": [
    "import pylab\n",
    "import scipy.stats as stats\n",
    "\n",
    "stats.probplot(df_pred[\"Residuals\"], dist=\"norm\", plot=pylab)\n",
    "## Complete the code check Q-Q plot\n",
    "plt.show()"
   ]
  },
  {
   "cell_type": "markdown",
   "metadata": {},
   "source": [
    "- The residuals more or less follow a straight line except for the tails.\n",
    "- Let's check the results of the Shapiro-Wilk test."
   ]
  },
  {
   "cell_type": "code",
   "execution_count": 83,
   "metadata": {},
   "outputs": [
    {
     "data": {
      "text/plain": [
       "ShapiroResult(statistic=0.9726455211639404, pvalue=4.2932652885741155e-21)"
      ]
     },
     "execution_count": 83,
     "metadata": {},
     "output_type": "execute_result"
    },
    {
     "data": {
      "application/javascript": [
       "\n",
       "            setTimeout(function() {\n",
       "                var nbb_cell_id = 83;\n",
       "                var nbb_unformatted_code = \"stats.shapiro(df_pred[\\\"Residuals\\\"])\";\n",
       "                var nbb_formatted_code = \"stats.shapiro(df_pred[\\\"Residuals\\\"])\";\n",
       "                var nbb_cells = Jupyter.notebook.get_cells();\n",
       "                for (var i = 0; i < nbb_cells.length; ++i) {\n",
       "                    if (nbb_cells[i].input_prompt_number == nbb_cell_id) {\n",
       "                        if (nbb_cells[i].get_text() == nbb_unformatted_code) {\n",
       "                             nbb_cells[i].set_text(nbb_formatted_code);\n",
       "                        }\n",
       "                        break;\n",
       "                    }\n",
       "                }\n",
       "            }, 500);\n",
       "            "
      ],
      "text/plain": [
       "<IPython.core.display.Javascript object>"
      ]
     },
     "metadata": {},
     "output_type": "display_data"
    }
   ],
   "source": [
    "stats.shapiro(df_pred[\"Residuals\"])"
   ]
  },
  {
   "cell_type": "markdown",
   "metadata": {},
   "source": [
    "- Since p-value < 0.05, the residuals are not normal as per the Shapiro-Wilk test.\n",
    "- Strictly speaking, the residuals are not normal.\n",
    "- However, as an approximation, we can accept this distribution as close to being normal.\n",
    "- So, the assumption is satisfied."
   ]
  },
  {
   "cell_type": "markdown",
   "metadata": {},
   "source": [
    "#### TEST FOR HOMOSCEDASTICITY\n",
    "\n",
    "- We will test for homoscedasticity by using the goldfeldquandt test.\n",
    "- If we get a p-value greater than 0.05, we can say that the residuals are homoscedastic. Otherwise, they are heteroscedastic."
   ]
  },
  {
   "cell_type": "code",
   "execution_count": 84,
   "metadata": {},
   "outputs": [
    {
     "data": {
      "text/plain": [
       "[('F statistic', 1.0599292349664002), ('p-value', 0.15818744298274198)]"
      ]
     },
     "execution_count": 84,
     "metadata": {},
     "output_type": "execute_result"
    },
    {
     "data": {
      "application/javascript": [
       "\n",
       "            setTimeout(function() {\n",
       "                var nbb_cell_id = 84;\n",
       "                var nbb_unformatted_code = \"import statsmodels.stats.api as sms\\nfrom statsmodels.compat import lzip\\n\\nname = [\\\"F statistic\\\", \\\"p-value\\\"]\\ntest = sms.het_goldfeldquandt(df_pred[\\\"Residuals\\\"], x_train3)  \\nlzip(name, test)\";\n",
       "                var nbb_formatted_code = \"import statsmodels.stats.api as sms\\nfrom statsmodels.compat import lzip\\n\\nname = [\\\"F statistic\\\", \\\"p-value\\\"]\\ntest = sms.het_goldfeldquandt(df_pred[\\\"Residuals\\\"], x_train3)\\nlzip(name, test)\";\n",
       "                var nbb_cells = Jupyter.notebook.get_cells();\n",
       "                for (var i = 0; i < nbb_cells.length; ++i) {\n",
       "                    if (nbb_cells[i].input_prompt_number == nbb_cell_id) {\n",
       "                        if (nbb_cells[i].get_text() == nbb_unformatted_code) {\n",
       "                             nbb_cells[i].set_text(nbb_formatted_code);\n",
       "                        }\n",
       "                        break;\n",
       "                    }\n",
       "                }\n",
       "            }, 500);\n",
       "            "
      ],
      "text/plain": [
       "<IPython.core.display.Javascript object>"
      ]
     },
     "metadata": {},
     "output_type": "display_data"
    }
   ],
   "source": [
    "import statsmodels.stats.api as sms\n",
    "from statsmodels.compat import lzip\n",
    "\n",
    "name = [\"F statistic\", \"p-value\"]\n",
    "test = sms.het_goldfeldquandt(df_pred[\"Residuals\"], x_train3)\n",
    "lzip(name, test)"
   ]
  },
  {
   "cell_type": "markdown",
   "metadata": {},
   "source": [
    "**Observations**\n",
    "\n",
    "- Since p-value > 0.05, the residuals are homoscedastic.\n",
    "- So, the assumption is satisfied."
   ]
  },
  {
   "cell_type": "markdown",
   "metadata": {},
   "source": [
    "#### Predictions on test data\n",
    "\n",
    "Now that we have checked all the assumptions of linear regression and they are satisfied, let's go ahead with prediction."
   ]
  },
  {
   "cell_type": "code",
   "execution_count": 85,
   "metadata": {},
   "outputs": [
    {
     "data": {
      "text/html": [
       "<div>\n",
       "<style scoped>\n",
       "    .dataframe tbody tr th:only-of-type {\n",
       "        vertical-align: middle;\n",
       "    }\n",
       "\n",
       "    .dataframe tbody tr th {\n",
       "        vertical-align: top;\n",
       "    }\n",
       "\n",
       "    .dataframe thead th {\n",
       "        text-align: right;\n",
       "    }\n",
       "</style>\n",
       "<table border=\"1\" class=\"dataframe\">\n",
       "  <thead>\n",
       "    <tr style=\"text-align: right;\">\n",
       "      <th></th>\n",
       "      <th>Actual</th>\n",
       "      <th>Predicted</th>\n",
       "    </tr>\n",
       "  </thead>\n",
       "  <tbody>\n",
       "    <tr>\n",
       "      <th>1995</th>\n",
       "      <td>4.566741</td>\n",
       "      <td>4.429868</td>\n",
       "    </tr>\n",
       "    <tr>\n",
       "      <th>2341</th>\n",
       "      <td>3.696103</td>\n",
       "      <td>4.020501</td>\n",
       "    </tr>\n",
       "    <tr>\n",
       "      <th>1913</th>\n",
       "      <td>3.592093</td>\n",
       "      <td>3.660868</td>\n",
       "    </tr>\n",
       "    <tr>\n",
       "      <th>688</th>\n",
       "      <td>4.306495</td>\n",
       "      <td>4.108012</td>\n",
       "    </tr>\n",
       "    <tr>\n",
       "      <th>650</th>\n",
       "      <td>4.522115</td>\n",
       "      <td>5.178772</td>\n",
       "    </tr>\n",
       "    <tr>\n",
       "      <th>2291</th>\n",
       "      <td>4.259294</td>\n",
       "      <td>4.404164</td>\n",
       "    </tr>\n",
       "    <tr>\n",
       "      <th>40</th>\n",
       "      <td>4.997685</td>\n",
       "      <td>5.439308</td>\n",
       "    </tr>\n",
       "    <tr>\n",
       "      <th>1884</th>\n",
       "      <td>3.875359</td>\n",
       "      <td>4.062270</td>\n",
       "    </tr>\n",
       "    <tr>\n",
       "      <th>2538</th>\n",
       "      <td>4.206631</td>\n",
       "      <td>4.026244</td>\n",
       "    </tr>\n",
       "    <tr>\n",
       "      <th>45</th>\n",
       "      <td>5.380450</td>\n",
       "      <td>5.254737</td>\n",
       "    </tr>\n",
       "  </tbody>\n",
       "</table>\n",
       "</div>"
      ],
      "text/plain": [
       "        Actual  Predicted\n",
       "1995  4.566741   4.429868\n",
       "2341  3.696103   4.020501\n",
       "1913  3.592093   3.660868\n",
       "688   4.306495   4.108012\n",
       "650   4.522115   5.178772\n",
       "2291  4.259294   4.404164\n",
       "40    4.997685   5.439308\n",
       "1884  3.875359   4.062270\n",
       "2538  4.206631   4.026244\n",
       "45    5.380450   5.254737"
      ]
     },
     "execution_count": 85,
     "metadata": {},
     "output_type": "execute_result"
    },
    {
     "data": {
      "application/javascript": [
       "\n",
       "            setTimeout(function() {\n",
       "                var nbb_cell_id = 85;\n",
       "                var nbb_unformatted_code = \"# predictions on the test set\\npred = olsmodel2.predict(x_test3)\\n\\ndf_pred_test = pd.DataFrame({\\\"Actual\\\": y_test, \\\"Predicted\\\": pred})\\ndf_pred_test.sample(10, random_state=1)\";\n",
       "                var nbb_formatted_code = \"# predictions on the test set\\npred = olsmodel2.predict(x_test3)\\n\\ndf_pred_test = pd.DataFrame({\\\"Actual\\\": y_test, \\\"Predicted\\\": pred})\\ndf_pred_test.sample(10, random_state=1)\";\n",
       "                var nbb_cells = Jupyter.notebook.get_cells();\n",
       "                for (var i = 0; i < nbb_cells.length; ++i) {\n",
       "                    if (nbb_cells[i].input_prompt_number == nbb_cell_id) {\n",
       "                        if (nbb_cells[i].get_text() == nbb_unformatted_code) {\n",
       "                             nbb_cells[i].set_text(nbb_formatted_code);\n",
       "                        }\n",
       "                        break;\n",
       "                    }\n",
       "                }\n",
       "            }, 500);\n",
       "            "
      ],
      "text/plain": [
       "<IPython.core.display.Javascript object>"
      ]
     },
     "metadata": {},
     "output_type": "display_data"
    }
   ],
   "source": [
    "# predictions on the test set\n",
    "pred = olsmodel2.predict(x_test3)\n",
    "\n",
    "df_pred_test = pd.DataFrame({\"Actual\": y_test, \"Predicted\": pred})\n",
    "df_pred_test.sample(10, random_state=1)"
   ]
  },
  {
   "cell_type": "markdown",
   "metadata": {},
   "source": [
    "### Final Model"
   ]
  },
  {
   "cell_type": "code",
   "execution_count": 86,
   "metadata": {},
   "outputs": [
    {
     "data": {
      "application/javascript": [
       "\n",
       "            setTimeout(function() {\n",
       "                var nbb_cell_id = 86;\n",
       "                var nbb_unformatted_code = \"x_train_final = x_train3.copy()\\nx_test_final = x_test3.copy()\";\n",
       "                var nbb_formatted_code = \"x_train_final = x_train3.copy()\\nx_test_final = x_test3.copy()\";\n",
       "                var nbb_cells = Jupyter.notebook.get_cells();\n",
       "                for (var i = 0; i < nbb_cells.length; ++i) {\n",
       "                    if (nbb_cells[i].input_prompt_number == nbb_cell_id) {\n",
       "                        if (nbb_cells[i].get_text() == nbb_unformatted_code) {\n",
       "                             nbb_cells[i].set_text(nbb_formatted_code);\n",
       "                        }\n",
       "                        break;\n",
       "                    }\n",
       "                }\n",
       "            }, 500);\n",
       "            "
      ],
      "text/plain": [
       "<IPython.core.display.Javascript object>"
      ]
     },
     "metadata": {},
     "output_type": "display_data"
    }
   ],
   "source": [
    "x_train_final = x_train3.copy()\n",
    "x_test_final = x_test3.copy()"
   ]
  },
  {
   "cell_type": "code",
   "execution_count": 87,
   "metadata": {},
   "outputs": [
    {
     "name": "stdout",
     "output_type": "stream",
     "text": [
      "                              OLS Regression Results                             \n",
      "=================================================================================\n",
      "Dep. Variable:     normalized_used_price   R-squared:                       0.843\n",
      "Model:                               OLS   Adj. R-squared:                  0.842\n",
      "Method:                    Least Squares   F-statistic:                     585.8\n",
      "Date:                   Fri, 06 Jan 2023   Prob (F-statistic):               0.00\n",
      "Time:                           20:25:14   Log-Likelihood:                 111.79\n",
      "No. Observations:                   2417   AIC:                            -177.6\n",
      "Df Residuals:                       2394   BIC:                            -44.41\n",
      "Df Model:                             22                                         \n",
      "Covariance Type:               nonrobust                                         \n",
      "========================================================================================\n",
      "                           coef    std err          t      P>|t|      [0.025      0.975]\n",
      "----------------------------------------------------------------------------------------\n",
      "const                    1.9045      0.053     35.747      0.000       1.800       2.009\n",
      "selfie_camera_mp         0.0148      0.001     13.809      0.000       0.013       0.017\n",
      "ram                      0.0172      0.004      3.841      0.000       0.008       0.026\n",
      "weight                   0.0017   6.02e-05     28.686      0.000       0.002       0.002\n",
      "normalized_new_price     0.4139      0.011     37.393      0.000       0.392       0.436\n",
      "device_age              -0.0242      0.003     -7.197      0.000      -0.031      -0.018\n",
      "brand_name_Nokia         0.0700      0.032      2.192      0.028       0.007       0.133\n",
      "brand_name_Samsung      -0.0351      0.016     -2.137      0.033      -0.067      -0.003\n",
      "brand_name_Xiaomi        0.0695      0.026      2.723      0.007       0.019       0.120\n",
      "os_Others               -0.0735      0.031     -2.393      0.017      -0.134      -0.013\n",
      "4g_yes                   0.0396      0.015      2.636      0.008       0.010       0.069\n",
      "main_camera_mp_8.0      -0.1167      0.014     -8.532      0.000      -0.144      -0.090\n",
      "main_camera_mp_5.0      -0.1924      0.017    -11.043      0.000      -0.227      -0.158\n",
      "main_camera_mp_3.15     -0.2670      0.030     -8.902      0.000      -0.326      -0.208\n",
      "main_camera_mp_2.0      -0.2935      0.027    -10.941      0.000      -0.346      -0.241\n",
      "main_camera_mp_16.0      0.0996      0.024      4.115      0.000       0.052       0.147\n",
      "main_camera_mp_0.3      -0.5164      0.042    -12.349      0.000      -0.598      -0.434\n",
      "main_camera_mp_48.0      0.2916      0.117      2.500      0.012       0.063       0.520\n",
      "main_camera_mp_1.3      -0.5173      0.063     -8.153      0.000      -0.642      -0.393\n",
      "main_camera_mp_0.08     -0.4858      0.236     -2.062      0.039      -0.948      -0.024\n",
      "main_camera_mp_23.0      0.2220      0.068      3.288      0.001       0.090       0.354\n",
      "main_camera_mp_4.0      -0.3108      0.096     -3.254      0.001      -0.498      -0.124\n",
      "main_camera_mp_6.7      -0.2915      0.121     -2.401      0.016      -0.530      -0.053\n",
      "==============================================================================\n",
      "Omnibus:                      212.823   Durbin-Watson:                   1.913\n",
      "Prob(Omnibus):                  0.000   Jarque-Bera (JB):              413.455\n",
      "Skew:                          -0.586   Prob(JB):                     1.66e-90\n",
      "Kurtosis:                       4.653   Cond. No.                     1.02e+04\n",
      "==============================================================================\n",
      "\n",
      "Notes:\n",
      "[1] Standard Errors assume that the covariance matrix of the errors is correctly specified.\n",
      "[2] The condition number is large, 1.02e+04. This might indicate that there are\n",
      "strong multicollinearity or other numerical problems.\n"
     ]
    },
    {
     "data": {
      "application/javascript": [
       "\n",
       "            setTimeout(function() {\n",
       "                var nbb_cell_id = 87;\n",
       "                var nbb_unformatted_code = \"olsmodel_final = sm.OLS(y_train, x_train_final).fit()\\nprint(olsmodel_final.summary())\";\n",
       "                var nbb_formatted_code = \"olsmodel_final = sm.OLS(y_train, x_train_final).fit()\\nprint(olsmodel_final.summary())\";\n",
       "                var nbb_cells = Jupyter.notebook.get_cells();\n",
       "                for (var i = 0; i < nbb_cells.length; ++i) {\n",
       "                    if (nbb_cells[i].input_prompt_number == nbb_cell_id) {\n",
       "                        if (nbb_cells[i].get_text() == nbb_unformatted_code) {\n",
       "                             nbb_cells[i].set_text(nbb_formatted_code);\n",
       "                        }\n",
       "                        break;\n",
       "                    }\n",
       "                }\n",
       "            }, 500);\n",
       "            "
      ],
      "text/plain": [
       "<IPython.core.display.Javascript object>"
      ]
     },
     "metadata": {},
     "output_type": "display_data"
    }
   ],
   "source": [
    "olsmodel_final = sm.OLS(y_train, x_train_final).fit()\n",
    "print(olsmodel_final.summary())"
   ]
  },
  {
   "cell_type": "code",
   "execution_count": 88,
   "metadata": {},
   "outputs": [
    {
     "name": "stdout",
     "output_type": "stream",
     "text": [
      "Training Performance\n",
      "\n"
     ]
    },
    {
     "data": {
      "text/html": [
       "<div>\n",
       "<style scoped>\n",
       "    .dataframe tbody tr th:only-of-type {\n",
       "        vertical-align: middle;\n",
       "    }\n",
       "\n",
       "    .dataframe tbody tr th {\n",
       "        vertical-align: top;\n",
       "    }\n",
       "\n",
       "    .dataframe thead th {\n",
       "        text-align: right;\n",
       "    }\n",
       "</style>\n",
       "<table border=\"1\" class=\"dataframe\">\n",
       "  <thead>\n",
       "    <tr style=\"text-align: right;\">\n",
       "      <th></th>\n",
       "      <th>RMSE</th>\n",
       "      <th>MAE</th>\n",
       "      <th>R-squared</th>\n",
       "      <th>Adj. R-squared</th>\n",
       "      <th>MAPE</th>\n",
       "    </tr>\n",
       "  </thead>\n",
       "  <tbody>\n",
       "    <tr>\n",
       "      <th>0</th>\n",
       "      <td>0.231034</td>\n",
       "      <td>0.180656</td>\n",
       "      <td>0.84333</td>\n",
       "      <td>0.841824</td>\n",
       "      <td>4.326668</td>\n",
       "    </tr>\n",
       "  </tbody>\n",
       "</table>\n",
       "</div>"
      ],
      "text/plain": [
       "       RMSE       MAE  R-squared  Adj. R-squared      MAPE\n",
       "0  0.231034  0.180656    0.84333        0.841824  4.326668"
      ]
     },
     "execution_count": 88,
     "metadata": {},
     "output_type": "execute_result"
    },
    {
     "data": {
      "application/javascript": [
       "\n",
       "            setTimeout(function() {\n",
       "                var nbb_cell_id = 88;\n",
       "                var nbb_unformatted_code = \"# checking model performance on train set (seen 70% data)\\nprint(\\\"Training Performance\\\\n\\\")\\nolsmodel_final_train_perf = model_performance_regression(olsmodel_final, x_train_final, y_train)\\nolsmodel_final_train_perf\";\n",
       "                var nbb_formatted_code = \"# checking model performance on train set (seen 70% data)\\nprint(\\\"Training Performance\\\\n\\\")\\nolsmodel_final_train_perf = model_performance_regression(\\n    olsmodel_final, x_train_final, y_train\\n)\\nolsmodel_final_train_perf\";\n",
       "                var nbb_cells = Jupyter.notebook.get_cells();\n",
       "                for (var i = 0; i < nbb_cells.length; ++i) {\n",
       "                    if (nbb_cells[i].input_prompt_number == nbb_cell_id) {\n",
       "                        if (nbb_cells[i].get_text() == nbb_unformatted_code) {\n",
       "                             nbb_cells[i].set_text(nbb_formatted_code);\n",
       "                        }\n",
       "                        break;\n",
       "                    }\n",
       "                }\n",
       "            }, 500);\n",
       "            "
      ],
      "text/plain": [
       "<IPython.core.display.Javascript object>"
      ]
     },
     "metadata": {},
     "output_type": "display_data"
    }
   ],
   "source": [
    "# checking model performance on train set (seen 70% data)\n",
    "print(\"Training Performance\\n\")\n",
    "olsmodel_final_train_perf = model_performance_regression(\n",
    "    olsmodel_final, x_train_final, y_train\n",
    ")\n",
    "olsmodel_final_train_perf"
   ]
  },
  {
   "cell_type": "code",
   "execution_count": 89,
   "metadata": {},
   "outputs": [
    {
     "name": "stdout",
     "output_type": "stream",
     "text": [
      "Test Performance\n",
      "\n"
     ]
    },
    {
     "data": {
      "text/html": [
       "<div>\n",
       "<style scoped>\n",
       "    .dataframe tbody tr th:only-of-type {\n",
       "        vertical-align: middle;\n",
       "    }\n",
       "\n",
       "    .dataframe tbody tr th {\n",
       "        vertical-align: top;\n",
       "    }\n",
       "\n",
       "    .dataframe thead th {\n",
       "        text-align: right;\n",
       "    }\n",
       "</style>\n",
       "<table border=\"1\" class=\"dataframe\">\n",
       "  <thead>\n",
       "    <tr style=\"text-align: right;\">\n",
       "      <th></th>\n",
       "      <th>RMSE</th>\n",
       "      <th>MAE</th>\n",
       "      <th>R-squared</th>\n",
       "      <th>Adj. R-squared</th>\n",
       "      <th>MAPE</th>\n",
       "    </tr>\n",
       "  </thead>\n",
       "  <tbody>\n",
       "    <tr>\n",
       "      <th>0</th>\n",
       "      <td>0.241582</td>\n",
       "      <td>0.187423</td>\n",
       "      <td>0.838189</td>\n",
       "      <td>0.834515</td>\n",
       "      <td>4.545072</td>\n",
       "    </tr>\n",
       "  </tbody>\n",
       "</table>\n",
       "</div>"
      ],
      "text/plain": [
       "       RMSE       MAE  R-squared  Adj. R-squared      MAPE\n",
       "0  0.241582  0.187423   0.838189        0.834515  4.545072"
      ]
     },
     "execution_count": 89,
     "metadata": {},
     "output_type": "execute_result"
    },
    {
     "data": {
      "application/javascript": [
       "\n",
       "            setTimeout(function() {\n",
       "                var nbb_cell_id = 89;\n",
       "                var nbb_unformatted_code = \"# checking model performance on test set (seen 30% data)\\nprint(\\\"Test Performance\\\\n\\\")\\nolsmodel_final_test_perf = model_performance_regression(olsmodel_final, x_test_final, y_test)\\nolsmodel_final_test_perf\";\n",
       "                var nbb_formatted_code = \"# checking model performance on test set (seen 30% data)\\nprint(\\\"Test Performance\\\\n\\\")\\nolsmodel_final_test_perf = model_performance_regression(\\n    olsmodel_final, x_test_final, y_test\\n)\\nolsmodel_final_test_perf\";\n",
       "                var nbb_cells = Jupyter.notebook.get_cells();\n",
       "                for (var i = 0; i < nbb_cells.length; ++i) {\n",
       "                    if (nbb_cells[i].input_prompt_number == nbb_cell_id) {\n",
       "                        if (nbb_cells[i].get_text() == nbb_unformatted_code) {\n",
       "                             nbb_cells[i].set_text(nbb_formatted_code);\n",
       "                        }\n",
       "                        break;\n",
       "                    }\n",
       "                }\n",
       "            }, 500);\n",
       "            "
      ],
      "text/plain": [
       "<IPython.core.display.Javascript object>"
      ]
     },
     "metadata": {},
     "output_type": "display_data"
    }
   ],
   "source": [
    "# checking model performance on test set (seen 30% data)\n",
    "print(\"Test Performance\\n\")\n",
    "olsmodel_final_test_perf = model_performance_regression(\n",
    "    olsmodel_final, x_test_final, y_test\n",
    ")\n",
    "olsmodel_final_test_perf"
   ]
  },
  {
   "cell_type": "markdown",
   "metadata": {},
   "source": [
    "* The model is able to explain ~83.4% of the variation in the data\n",
    "\n",
    "* The train and test RMSE and MAE are low and comparable. So, our model is not suffering from overfitting\n",
    "\n",
    "* The MAPE on the test set suggests we can predict within 4.54% of the normalized price of used devices.\n",
    "\n",
    "* Hence, we can conclude the model *olsmodel_final* is good for prediction as well as inference purposes"
   ]
  },
  {
   "cell_type": "markdown",
   "metadata": {
    "id": "2BkZh6eHluZK"
   },
   "source": [
    "## Actionable Insights and Recommendations "
   ]
  },
  {
   "cell_type": "markdown",
   "metadata": {
    "id": "Mh_zkgqs4rqN"
   },
   "source": [
    "- A unit increase in Selfie camera (`selfie_camera_mp`) increases the median normalized used price by 0.0148 unit, all other variables held constant.\n",
    "- A unit increase in ram (`ram`) increases the median normalized used price by 0.0172 unit, all other variables held constant.\n",
    "- A unit increase in weight (`weight`) increases the median normalized used price by 0.0017 unit, all other variables held constant.\n",
    "- A unit increase in normalized new price (`normalized_used_price`) increases the median normalized used price by 0.4141 units, all other variables held constant.\n",
    "- A unit increase in device age (`device_age`) increases the median normalized used price by 0.0242 units, all other variables held constant.\n",
    "- A unit increase in 4g network accessibility (`4g_yes`) increases the midian normalized used price by 0.0396 units, all other variables held constant.\n",
    "- Phones with higher main cameras sizes (>= 23MP)will have 0.222 unit higher median normalized used price compared to phones with lower main camera sizes.\n",
    "- ReCell can gather more data about the customers like age, gender, geographical location, occupation, etc. to better understand the demographics of the purchasers of used phone devices, so as to better streamline their target audience."
   ]
  },
  {
   "cell_type": "markdown",
   "metadata": {
    "id": "bWXXovuh4rqN"
   },
   "source": [
    "___"
   ]
  }
 ],
 "metadata": {
  "colab": {
   "collapsed_sections": [
    "3SntBY974rqJ",
    "v_-uuGqH-qTt",
    "xxhpZv9y-qTw",
    "UvpMDcaaMKtI",
    "__7ciGcIDPyk",
    "pVn5toJ7MKte",
    "KNzFis7eEaXj",
    "HeUzI1OB4rqM",
    "jvoU3F6oMKti",
    "a9GxSQf-qH8e",
    "jRYSDgFZMKtm",
    "2BkZh6eHluZK"
   ],
   "name": "SLF_Project_LearnerNotebook_FullCode.ipynb",
   "provenance": []
  },
  "kernelspec": {
   "display_name": "Python 3 (ipykernel)",
   "language": "python",
   "name": "python3"
  },
  "language_info": {
   "codemirror_mode": {
    "name": "ipython",
    "version": 3
   },
   "file_extension": ".py",
   "mimetype": "text/x-python",
   "name": "python",
   "nbconvert_exporter": "python",
   "pygments_lexer": "ipython3",
   "version": "3.9.12"
  }
 },
 "nbformat": 4,
 "nbformat_minor": 1
}
